{
 "cells": [
  {
   "cell_type": "markdown",
   "id": "a4519289-44dd-450a-8cb3-98553b095716",
   "metadata": {
    "deletable": false,
    "editable": false,
    "jp-MarkdownHeadingCollapsed": true,
    "nbgrader": {
     "cell_type": "markdown",
     "checksum": "d0add021e67470a9f2be88d300666d0a",
     "grade": false,
     "grade_id": "cell-8c76d0af87080c77",
     "locked": true,
     "schema_version": 3,
     "solution": false,
     "task": false
    }
   },
   "source": [
    "# Nachprüfung PyF, FS24\n",
    "\n",
    "Gesamtpunktzahl: 65 Punkte"
   ]
  },
  {
   "cell_type": "markdown",
   "id": "138b28b1-a6c1-4c38-89c0-46b1783f3151",
   "metadata": {
    "deletable": false,
    "editable": false,
    "nbgrader": {
     "cell_type": "markdown",
     "checksum": "1be3c8b66f3eb5b9da22f8bf2239f5ba",
     "grade": false,
     "grade_id": "cell-8734aed245f17662",
     "locked": true,
     "schema_version": 3,
     "solution": false,
     "task": false
    }
   },
   "source": [
    "# Teil 1 - Python Grundlagen"
   ]
  },
  {
   "cell_type": "markdown",
   "id": "adc91868-0028-40c5-b45d-91898a5b22ee",
   "metadata": {
    "deletable": false,
    "editable": false,
    "nbgrader": {
     "cell_type": "markdown",
     "checksum": "21050c3324a08a989e62bf196d0673a0",
     "grade": false,
     "grade_id": "cell-39a723bc73ef2855",
     "locked": true,
     "schema_version": 3,
     "solution": false,
     "task": false
    }
   },
   "source": [
    "## Aufgabe 1\n",
    "**3 Punkte**\n",
    "\n",
    "Schreiben Sie eine Funktion `rotate_list`, die eine Liste und eine Zahl \n",
    "`n` und eine Liste als Argumente nimmt und die Liste um \n",
    "`n` Positionen rotiert. \n",
    "Beispiel:\n",
    "\n",
    "```python\n",
    ">>> rotate_list([1, 2, 3, 4, 5], 2)\n",
    "[4, 5, 1, 2, 3]\n",
    "```"
   ]
  },
  {
   "cell_type": "code",
   "execution_count": null,
   "id": "a8cdd315-2652-4699-a350-b4f4a73cab6b",
   "metadata": {
    "deletable": false,
    "nbgrader": {
     "cell_type": "code",
     "checksum": "7761431667b804ed46aded97f80c3a6e",
     "grade": false,
     "grade_id": "cell-792d72c221dc046e",
     "locked": false,
     "schema_version": 3,
     "solution": true,
     "task": false
    }
   },
   "outputs": [],
   "source": [
    "def rotate_list(lst,n):\n",
    "    #hier Ihr Code:\n",
    "    # YOUR CODE HERE\n",
    "    raise NotImplementedError()"
   ]
  },
  {
   "cell_type": "code",
   "execution_count": null,
   "id": "73051c2e-6ac8-4700-8737-b04ee12d9ce3",
   "metadata": {
    "deletable": false,
    "editable": false,
    "nbgrader": {
     "cell_type": "code",
     "checksum": "55f46ef697552aba34d2b72d7e1aa466",
     "grade": true,
     "grade_id": "cell-3a8543e0fdc701f6",
     "locked": true,
     "points": 3,
     "schema_version": 3,
     "solution": false,
     "task": false
    }
   },
   "outputs": [],
   "source": [
    "#Tests\n",
    "assert rotate_list([1, 2, 3, 4, 5], 2) == [4, 5, 1, 2, 3]"
   ]
  },
  {
   "cell_type": "markdown",
   "id": "90c14c86-d046-4d52-a262-6f5b8b70a3dd",
   "metadata": {
    "deletable": false,
    "editable": false,
    "nbgrader": {
     "cell_type": "markdown",
     "checksum": "d432ff141ab0b2bbc96353841e90884a",
     "grade": false,
     "grade_id": "cell-d1fcaff8f56de4c3",
     "locked": true,
     "schema_version": 3,
     "solution": false,
     "task": false
    }
   },
   "source": [
    "## Aufgabe 2\n",
    "**3 Punkte** \n",
    "\n",
    "Schreiben Sie eine Funktion `list_difference`, die die Differenz zweier Listen berechnet, d.h. alle Elemente, die in der ersten, aber nicht in der zweiten Liste enthalten sind. \n",
    "\n",
    "Beispiel:\n",
    "```python\n",
    ">>> list_difference([1, 2, 3, 4], [2, 4, 6])\n",
    "[1, 3]\n",
    "```"
   ]
  },
  {
   "cell_type": "code",
   "execution_count": null,
   "id": "cf80d7d8-2871-4f34-ae94-0dfd15185ba7",
   "metadata": {
    "deletable": false,
    "nbgrader": {
     "cell_type": "code",
     "checksum": "f62997f45273ff6fc00795d5694625ab",
     "grade": false,
     "grade_id": "cell-79045e8210b3c214",
     "locked": false,
     "schema_version": 3,
     "solution": true,
     "task": false
    }
   },
   "outputs": [],
   "source": [
    "def list_difference(l1,l2):\n",
    "    #hier Ihr Code:\n",
    "    # YOUR CODE HERE\n",
    "    raise NotImplementedError()"
   ]
  },
  {
   "cell_type": "code",
   "execution_count": null,
   "id": "48fc2cdc-1f68-4685-a1b8-f2736e7413f1",
   "metadata": {
    "deletable": false,
    "editable": false,
    "nbgrader": {
     "cell_type": "code",
     "checksum": "c0c4ec566539e5db6cb278dbdb9603c3",
     "grade": true,
     "grade_id": "cell-7760f15bd69a7825",
     "locked": true,
     "points": 3,
     "schema_version": 3,
     "solution": false,
     "task": false
    }
   },
   "outputs": [],
   "source": [
    "# Tests\n",
    "assert list_difference([1, 2, 3, 4], [2, 4, 6]) == [1, 3]"
   ]
  },
  {
   "cell_type": "markdown",
   "id": "5a7b6bff-8769-443b-9a73-db16098aa22d",
   "metadata": {
    "deletable": false,
    "editable": false,
    "nbgrader": {
     "cell_type": "markdown",
     "checksum": "c490d4ea06425f4235bf91523c22fc42",
     "grade": false,
     "grade_id": "cell-ca736d0484a55355",
     "locked": true,
     "schema_version": 3,
     "solution": false,
     "task": false
    }
   },
   "source": [
    "## Aufgabe 3\n",
    "\n",
    "**3 Punkte**\n",
    "\n",
    "Implementieren Sie eine Funktion `anagramm`, die testet, ob zwei Strings Anagramme voneinander sind, d.h. die gleichen Buchstaben in der gleichen Häufigkeit enthalten.\n",
    "\n",
    "Beispiel:\n",
    "```python\n",
    ">>> anagramm(\"listen\", \"silent\")\n",
    "True\n",
    ">>> anagramm(\"hello\", \"world\")\n",
    "False\n",
    "```"
   ]
  },
  {
   "cell_type": "code",
   "execution_count": null,
   "id": "8ec94357-4e63-4779-87bd-294c48aaf01c",
   "metadata": {
    "deletable": false,
    "nbgrader": {
     "cell_type": "code",
     "checksum": "4b35bf5a62426ca3c05622af048e6390",
     "grade": false,
     "grade_id": "cell-7b3303006964b32f",
     "locked": false,
     "schema_version": 3,
     "solution": true,
     "task": false
    }
   },
   "outputs": [],
   "source": [
    "def anagramm(s1,s2):\n",
    "    #hier Ihr Code:\n",
    "    # YOUR CODE HERE\n",
    "    raise NotImplementedError()"
   ]
  },
  {
   "cell_type": "code",
   "execution_count": null,
   "id": "3eecf48f-fe7b-481a-8a1c-2ac4a112f473",
   "metadata": {
    "deletable": false,
    "editable": false,
    "nbgrader": {
     "cell_type": "code",
     "checksum": "5a288781c7498202d15585bf298510f2",
     "grade": true,
     "grade_id": "cell-586e2aa7bb1c9b08",
     "locked": true,
     "points": 3,
     "schema_version": 3,
     "solution": false,
     "task": false
    }
   },
   "outputs": [],
   "source": [
    "# Tests\n",
    "assert anagramm(\"listen\", \"silent\")\n",
    "assert not anagramm(\"hello\", \"world\")"
   ]
  },
  {
   "cell_type": "markdown",
   "id": "e3d640a1-b2cc-418b-a317-f093306d0d79",
   "metadata": {
    "deletable": false,
    "editable": false,
    "nbgrader": {
     "cell_type": "markdown",
     "checksum": "11971759d08bfc02f1d74f321548af34",
     "grade": false,
     "grade_id": "cell-4ff19b150235967f",
     "locked": true,
     "schema_version": 3,
     "solution": false,
     "task": false
    }
   },
   "source": [
    "## Aufgabe 4\n",
    "\n",
    "**3 Punkte**\n",
    "\n",
    "Implementieren Sie eine Funktion `group_by_first_letter`, die eine Liste von Wörtern in einem Dictionary gruppiert, basierend auf dem ersten Buchstaben jedes Wortes. \n",
    "\n",
    "Beispiel:\n",
    "```python\n",
    ">>> group_by_first_letter([\"apple\", \"banana\", \"apricot\", \"blueberry\", \"cherry\"])\n",
    "{\"a\": [\"apple\", \"apricot\"], \"b\": [\"banana\", \"blueberry\"], \"c\": [\"cherry\"]}\n",
    "```"
   ]
  },
  {
   "cell_type": "code",
   "execution_count": null,
   "id": "e325a379-8674-426f-8563-094b47bdc741",
   "metadata": {
    "deletable": false,
    "nbgrader": {
     "cell_type": "code",
     "checksum": "9f12ba6e17ff1edc5584d90387b42616",
     "grade": false,
     "grade_id": "cell-4e816a79798d15f2",
     "locked": false,
     "schema_version": 3,
     "solution": true,
     "task": false
    }
   },
   "outputs": [],
   "source": [
    "def group_by_first_letter(words): \n",
    "    #hier Definition von odd_numbers\n",
    "    # YOUR CODE HERE\n",
    "    raise NotImplementedError()"
   ]
  },
  {
   "cell_type": "code",
   "execution_count": null,
   "id": "266422dd-5a21-4771-b7e5-98bf223936c4",
   "metadata": {
    "deletable": false,
    "editable": false,
    "nbgrader": {
     "cell_type": "code",
     "checksum": "13e8df253ff6535513e0fe52dfa80c19",
     "grade": true,
     "grade_id": "cell-23faac4bd798fd64",
     "locked": true,
     "points": 3,
     "schema_version": 3,
     "solution": false,
     "task": false
    }
   },
   "outputs": [],
   "source": [
    "# Tests\n",
    "assert group_by_first_letter([\"apple\", \"banana\", \"apricot\", \"blueberry\", \"cherry\"]) == {'a': ['apple', 'apricot'], 'b': ['banana', 'blueberry'], 'c': ['cherry']}"
   ]
  },
  {
   "cell_type": "markdown",
   "id": "32993d6a-b802-480a-8444-e47f1b1e4619",
   "metadata": {
    "deletable": false,
    "editable": false,
    "nbgrader": {
     "cell_type": "markdown",
     "checksum": "3e6ca9b218f21593b30fec919bac4c3a",
     "grade": false,
     "grade_id": "cell-d0b5bf3b84aab8c3",
     "locked": true,
     "schema_version": 3,
     "solution": false,
     "task": false
    }
   },
   "source": [
    "## Aufgabe 5\n",
    "**3 Punkte**\n",
    "\n",
    "Schreiben Sie eine Funktion `remove_vowels`, die alle Vokale aus einem gegebenen String entfernt. \n",
    "\n",
    "Beispiel:\n",
    "\n",
    "```python\n",
    ">>> remove_vowels(\"hello world\")\n",
    "\"hll wrld\"\n",
    "```"
   ]
  },
  {
   "cell_type": "code",
   "execution_count": null,
   "id": "333e924a-7fae-4b79-a4bb-11011fbc444f",
   "metadata": {
    "deletable": false,
    "nbgrader": {
     "cell_type": "code",
     "checksum": "86e076990ac613b7bd860cf85d832bac",
     "grade": false,
     "grade_id": "cell-1f31319eb16377dc",
     "locked": false,
     "schema_version": 3,
     "solution": true,
     "task": false
    }
   },
   "outputs": [],
   "source": [
    "def remove_vowels(s): \n",
    "    #Ihr Code hier\n",
    "    # YOUR CODE HERE\n",
    "    raise NotImplementedError()"
   ]
  },
  {
   "cell_type": "code",
   "execution_count": null,
   "id": "68ac4ce8-fdd0-4467-afe0-cc278c361e21",
   "metadata": {
    "deletable": false,
    "editable": false,
    "nbgrader": {
     "cell_type": "code",
     "checksum": "83b9c0ecef12c04f4a0a45517c6a403b",
     "grade": true,
     "grade_id": "cell-79026849c9535489",
     "locked": true,
     "points": 3,
     "schema_version": 3,
     "solution": false,
     "task": false
    }
   },
   "outputs": [],
   "source": [
    "# Tests\n",
    "assert remove_vowels(\"hello world\") == 'hll wrld'"
   ]
  },
  {
   "cell_type": "markdown",
   "id": "52c2d53b-3384-444a-8d83-b7dcdc812c08",
   "metadata": {
    "deletable": false,
    "editable": false,
    "nbgrader": {
     "cell_type": "markdown",
     "checksum": "cb534379df2350e65fd36d11dd745d3c",
     "grade": false,
     "grade_id": "cell-ef4343d20a2434b1",
     "locked": true,
     "schema_version": 3,
     "solution": false,
     "task": false
    }
   },
   "source": [
    "## Aufgabe 6\n",
    "**3 Punkte**\n",
    "\n",
    "\n",
    "Schreiben Sie eine Funktion `reverseDict`, die ein dict-Objekt \"umkehrt\", d.h. alle Schlüssel zu Werten und alle Werte zu den entsprechenden Schlüsseln macht.\n",
    "Beispiel:\n",
    "```python\n",
    ">>> reverseDict({1:0, 100:99, \"Hallo\":3, \"0\":\"1\"})\n",
    "{0:1, 99:100, 3:\"Hallo\", \"1\":\"0\"}\n",
    "```"
   ]
  },
  {
   "cell_type": "code",
   "execution_count": null,
   "id": "a1ede0f4-eda8-4cd6-b17f-a2b0d9bbd762",
   "metadata": {
    "deletable": false,
    "nbgrader": {
     "cell_type": "code",
     "checksum": "a67ed1ada789f33307472c1ff596a003",
     "grade": false,
     "grade_id": "cell-fbf1b5c3b0bfd2fb",
     "locked": false,
     "schema_version": 3,
     "solution": true,
     "task": false
    }
   },
   "outputs": [],
   "source": [
    "def reverseDict(d):\n",
    "    # YOUR CODE HERE\n",
    "    raise NotImplementedError()"
   ]
  },
  {
   "cell_type": "code",
   "execution_count": null,
   "id": "88be6267-cc8e-4c85-8968-3a9ca5989528",
   "metadata": {
    "deletable": false,
    "editable": false,
    "nbgrader": {
     "cell_type": "code",
     "checksum": "491e0fbe71af5f642630f53a1044febd",
     "grade": true,
     "grade_id": "cell-455f63bdca3fad4d",
     "locked": true,
     "points": 3,
     "schema_version": 3,
     "solution": false,
     "task": false
    }
   },
   "outputs": [],
   "source": [
    "assert reverseDict({1: 0, 100: 99, \"Hallo\": 3, \"0\": \"1\"}) == {0: 1, 99: 100, 3: \"Hallo\", \"1\": \"0\"}\n",
    "assert reverseDict({}) == {}\n",
    "assert reverseDict({\"apple\": \"red\", \"banana\": \"yellow\", \"orange\": \"orange\"}) == {\"red\": \"apple\", \"yellow\": \"banana\", \"orange\": \"orange\"}\n"
   ]
  },
  {
   "cell_type": "markdown",
   "id": "481e002c-a662-4911-91f6-54f01dea0423",
   "metadata": {
    "deletable": false,
    "editable": false,
    "nbgrader": {
     "cell_type": "markdown",
     "checksum": "3cc9f8e7d2bf8434de75395f4232b569",
     "grade": false,
     "grade_id": "cell-f8c065c9d4ed5980",
     "locked": true,
     "schema_version": 3,
     "solution": false,
     "task": false
    }
   },
   "source": [
    "# Teil 2 - Objektorientierte Programmierung"
   ]
  },
  {
   "cell_type": "markdown",
   "id": "d9d37078-e31c-439a-82b7-8e189f447109",
   "metadata": {
    "deletable": false,
    "editable": false,
    "nbgrader": {
     "cell_type": "markdown",
     "checksum": "6d54bbac4dc4218d3ee4e2c88c3cb8a4",
     "grade": false,
     "grade_id": "cell-9e0b24bd160a49a5",
     "locked": true,
     "schema_version": 3,
     "solution": false,
     "task": false
    }
   },
   "source": [
    "## Aufgabe 7\n",
    "\n",
    "**4*3 = 12 Punkte**\n",
    "\n",
    "Programmieren Sie eine Klasse `Bruch`, um positive Bruchzahlen zu\n",
    "repräsentieren. \n",
    "\n",
    "Verwenden Sie den angegebenen Konstruktor, der einen ganzzahligen Zähler und einen positiven ganzzahligen Nenner benötigt. \n",
    "   \n",
    "1. Programmieren Sie eine String-Repräsentation von\n",
    "   `Bruch`-Objekten, so dass Ausgaben entstehen (siehe Beispiel\n",
    "   unten).\n",
    "2. Programmieren Sie die Multiplikation zweier Brüche (siehe\n",
    "   Beispiel unten).\n",
    "3. Programmieren Sie die Methode `isNatural`, die testet, ob\n",
    "   der Bruch eine natürliche Zahl ist (siehe Beispiel unten).\n",
    "4. Programmieren Sie die Methode `reciprocal` (zu deutsch:\n",
    "   \"Kehrwert\"), die den Kehrwert eines Bruches zurückliefert (den\n",
    "   Bruch selbst jedoch unverändert lässt; siehe Beispiel unten).\n",
    "\n",
    "```python\n",
    ">>> a = Bruch(2,5) #1. Beispiel Konstruktur\n",
    ">>> b = Bruch(3,4) \n",
    ">>> b #2. String-Repräsentation\n",
    "3/4\n",
    ">>> a * b # 3. String-Multiplikation\n",
    "6/20\n",
    ">>> Bruch(4,2).isNatural() # 4. Beispiel isNatural\n",
    "True\n",
    ">>> b.reciprocal() # 5. Beispiel reciprocal\n",
    "4/3\n",
    "```\n"
   ]
  },
  {
   "cell_type": "code",
   "execution_count": null,
   "id": "42abf0af-eccb-4168-b90b-9ff6dd2110dd",
   "metadata": {
    "deletable": false,
    "nbgrader": {
     "cell_type": "code",
     "checksum": "2bfcd5abdd3d1dd4b1ded330c81cbbda",
     "grade": false,
     "grade_id": "cell-7d97b0b356c282b7",
     "locked": false,
     "schema_version": 3,
     "solution": true,
     "task": false
    }
   },
   "outputs": [],
   "source": [
    "class Bruch:\n",
    "    def __init__(self,z,n): \n",
    "        self.z = z\n",
    "        self.n = n\n",
    "    # YOUR CODE HERE\n",
    "    raise NotImplementedError()"
   ]
  },
  {
   "cell_type": "code",
   "execution_count": null,
   "id": "4ecf498c-4f99-4a94-8b0d-436e07f3b5ea",
   "metadata": {
    "deletable": false,
    "editable": false,
    "nbgrader": {
     "cell_type": "code",
     "checksum": "bc666789dc563024367a7d291c2653bc",
     "grade": true,
     "grade_id": "cell-8f0d2a4ff08e94a2",
     "locked": true,
     "points": 3,
     "schema_version": 3,
     "solution": false,
     "task": false
    }
   },
   "outputs": [],
   "source": [
    "a = Bruch(2,5)\n",
    "b = Bruch(3,4)\n",
    "assert repr(a) == \"2/5\"\n",
    "# Test Point generation"
   ]
  },
  {
   "cell_type": "code",
   "execution_count": null,
   "id": "978f463f-2608-42c0-b94b-3334f9f4f8ee",
   "metadata": {
    "deletable": false,
    "editable": false,
    "nbgrader": {
     "cell_type": "code",
     "checksum": "df4be43fd890c70ae3793aa22d44a5f2",
     "grade": true,
     "grade_id": "cell-7178c0cbe88a0351",
     "locked": true,
     "points": 3,
     "schema_version": 3,
     "solution": false,
     "task": false
    }
   },
   "outputs": [],
   "source": [
    "assert repr(a*b) == \"6/20\""
   ]
  },
  {
   "cell_type": "code",
   "execution_count": null,
   "id": "b2b74f8d-00f7-4653-9646-feddf7a6d0d2",
   "metadata": {
    "deletable": false,
    "editable": false,
    "nbgrader": {
     "cell_type": "code",
     "checksum": "5520ab0b9a14f285b3be264b8beb7eb7",
     "grade": true,
     "grade_id": "cell-c3530a2f94205fe7",
     "locked": true,
     "points": 3,
     "schema_version": 3,
     "solution": false,
     "task": false
    }
   },
   "outputs": [],
   "source": [
    "assert Bruch(4,2).isNatural()"
   ]
  },
  {
   "cell_type": "code",
   "execution_count": null,
   "id": "00275dfa-4f51-432e-b39e-f04d26ae8fc9",
   "metadata": {
    "deletable": false,
    "editable": false,
    "nbgrader": {
     "cell_type": "code",
     "checksum": "8e41fb7fbd406e72766bdc05bce8b51c",
     "grade": true,
     "grade_id": "cell-541f5a3bb2a7e9a7",
     "locked": true,
     "points": 3,
     "schema_version": 3,
     "solution": false,
     "task": false
    }
   },
   "outputs": [],
   "source": [
    "assert b.reciprocal().z == 4"
   ]
  },
  {
   "cell_type": "markdown",
   "id": "b60d7660-a80c-41ce-92cf-8473b6723e6f",
   "metadata": {
    "deletable": false,
    "editable": false,
    "nbgrader": {
     "cell_type": "markdown",
     "checksum": "96dfe9247dc767fd30d2e64088cc139f",
     "grade": false,
     "grade_id": "cell-b4887fd75dbde9bd",
     "locked": true,
     "schema_version": 3,
     "solution": false,
     "task": false
    }
   },
   "source": [
    "# Aufgabe 8\n",
    "\n",
    "**3+3+3 = 9 Punkte**\n",
    "\n",
    "Programmieren Sie eine Klasse `evenL`, die von der Klasse `list` erbt und Listen repräsentiert, die nur gerade ganze Zahlen enthalten können. Überschreiben Sie hierzu die folgenden `list`-Methoden so, dass ein Versuch, ein Element in eine `evenL`-Liste einzufügen, einfach ignoriert wird, falls es sich nicht um eine gerade ganze Zahl handelt.\n",
    "\n",
    "1. die `append`-Methode\n",
    "2. die `__add__`-Methode (die zwei Listen konkateniert)\n",
    "3. die `insert`-Methode.\n",
    "\n",
    "Sie dürfen die Funktion `ok` verwenden."
   ]
  },
  {
   "cell_type": "code",
   "execution_count": null,
   "id": "ce1b5090-431d-4d26-9585-6eab562ec7de",
   "metadata": {
    "deletable": false,
    "nbgrader": {
     "cell_type": "code",
     "checksum": "a9901b26edf65c131d7d150faed04304",
     "grade": false,
     "grade_id": "cell-81cca05a1bef5ba0",
     "locked": false,
     "schema_version": 3,
     "solution": true,
     "task": false
    }
   },
   "outputs": [],
   "source": [
    "def ok(x): \n",
    "    return type(x)==int and x%2==0\n",
    "\n",
    "class EvenL(list): \n",
    "    # YOUR CODE HERE\n",
    "    raise NotImplementedError()"
   ]
  },
  {
   "cell_type": "code",
   "execution_count": null,
   "id": "3741292f-773c-4b93-9384-d4d45d48f9cc",
   "metadata": {
    "deletable": false,
    "editable": false,
    "nbgrader": {
     "cell_type": "code",
     "checksum": "8bba6c91a1400c00b8903ae76ff8798b",
     "grade": true,
     "grade_id": "cell-b762b46eadac7b1d",
     "locked": true,
     "points": 3,
     "schema_version": 3,
     "solution": false,
     "task": false
    }
   },
   "outputs": [],
   "source": [
    "l = EvenL([10,4,2,7,9,7])\n",
    "l.insert(4,100)\n",
    "assert l == EvenL([10, 4, 2, 7, 100, 9, 7])\n",
    "# Some hidden tests here"
   ]
  },
  {
   "cell_type": "code",
   "execution_count": null,
   "id": "bb6865d8-252e-417f-949f-9c7937b86dc7",
   "metadata": {
    "deletable": false,
    "editable": false,
    "nbgrader": {
     "cell_type": "code",
     "checksum": "2c9433f75aae80b0e887a53548b31e5f",
     "grade": true,
     "grade_id": "cell-89191cd1380a8352",
     "locked": true,
     "points": 3,
     "schema_version": 3,
     "solution": false,
     "task": false
    }
   },
   "outputs": [],
   "source": [
    "l = EvenL([2,4,6])\n",
    "l2 = l + [2]\n",
    "assert l2 == EvenL([2,4,6,2])\n",
    "# Some hidden tests here"
   ]
  },
  {
   "cell_type": "code",
   "execution_count": null,
   "id": "1d562e2a-7b65-4caf-80c7-7af61f432413",
   "metadata": {
    "deletable": false,
    "editable": false,
    "nbgrader": {
     "cell_type": "code",
     "checksum": "0dce0ff4b1534697ff37bae63df8286e",
     "grade": true,
     "grade_id": "cell-adc9bef7284783ea",
     "locked": true,
     "points": 3,
     "schema_version": 3,
     "solution": false,
     "task": false
    }
   },
   "outputs": [],
   "source": [
    "l = EvenL([2,4,6])\n",
    "l.append(13)\n",
    "assert 13 not in l\n",
    "# Some hidden tests here"
   ]
  },
  {
   "cell_type": "markdown",
   "id": "db0423a5-9ed0-4717-9094-6ce886e74bc3",
   "metadata": {
    "deletable": false,
    "editable": false,
    "nbgrader": {
     "cell_type": "markdown",
     "checksum": "99be1b022191c123be212d2650688fe0",
     "grade": false,
     "grade_id": "cell-828497761aa1e20d",
     "locked": true,
     "schema_version": 3,
     "solution": false,
     "task": false
    }
   },
   "source": [
    "# Teil 3 - Funktionale Programmierung und Numpy"
   ]
  },
  {
   "cell_type": "markdown",
   "id": "8cdbf564-d282-4e53-9910-227fc8919eaa",
   "metadata": {
    "deletable": false,
    "editable": false,
    "nbgrader": {
     "cell_type": "markdown",
     "checksum": "3ad8c560e4f38c3010c0b486f5b9673a",
     "grade": false,
     "grade_id": "cell-2294f4ea664a8a2e",
     "locked": true,
     "schema_version": 3,
     "solution": false,
     "task": false
    }
   },
   "source": [
    "## Aufgabe 9\n",
    "\n",
    "**2+2+2+2 = 8 Punkte**\n",
    "\n",
    "1. Verwenden Sie eine List Comprehension, um eine Liste der Längen aller Methodennamen der Klasse `str` zu erzeugen, deren Namen kürzer als 7 Buchstaben ist; speichern Sie diese Liste in der Variablen `aufg_a`. \n",
    "2. Verwenden Sie eine List Comprehension, um alle Methodennamen der Klasse `str` zu erzeugen, die nicht mit einem Vokal beginnen; speichern Sie diese Liste in der Variablen `aufg_b`.\n",
    "3. Verwenden Sie eine List Comprehension, um den längsten Methodennamen der Klasse `str` zu bestimmen; speichern Sie diesen in der Variablen `aufg_c`.\n",
    "4. Verwenden Sie eine List Comprehension, um denjenigen Methodennamen zu bestimmen, der die meisten `i` enthält; speichern Sie diesen in der Variablen `aufg_d`. "
   ]
  },
  {
   "cell_type": "code",
   "execution_count": null,
   "id": "d885bfb7-76da-4dad-9eb8-5edb47053225",
   "metadata": {
    "deletable": false,
    "nbgrader": {
     "cell_type": "code",
     "checksum": "dd9d885a271522336d465780640088c9",
     "grade": false,
     "grade_id": "cell-5365b067b0d5cc6b",
     "locked": false,
     "schema_version": 3,
     "solution": true,
     "task": false
    }
   },
   "outputs": [],
   "source": [
    "# Hier die Variablen aufg_a, aufg_b, aufg_c und aufg_d definieren\n",
    "# YOUR CODE HERE\n",
    "raise NotImplementedError()"
   ]
  },
  {
   "cell_type": "code",
   "execution_count": null,
   "id": "5df79bdf-a812-46e0-8233-f283446c8850",
   "metadata": {
    "deletable": false,
    "editable": false,
    "nbgrader": {
     "cell_type": "code",
     "checksum": "f210fa7c42ef4eaaa054efcdad7a3d41",
     "grade": true,
     "grade_id": "cell-efce5ab5564a1d83",
     "locked": true,
     "points": 2,
     "schema_version": 3,
     "solution": false,
     "task": false
    }
   },
   "outputs": [],
   "source": [
    "# Some hidden tests for aufg_a"
   ]
  },
  {
   "cell_type": "code",
   "execution_count": null,
   "id": "bacb87a1-ea54-4584-a7c6-a2ef9dbaef21",
   "metadata": {
    "deletable": false,
    "editable": false,
    "nbgrader": {
     "cell_type": "code",
     "checksum": "fbb4cefb94b0cd8fbd2366322e8b5490",
     "grade": true,
     "grade_id": "cell-471bea3eb0c3c7ba",
     "locked": true,
     "points": 2,
     "schema_version": 3,
     "solution": false,
     "task": false
    }
   },
   "outputs": [],
   "source": [
    "# Some hidden tests for aufg_b"
   ]
  },
  {
   "cell_type": "code",
   "execution_count": null,
   "id": "a4f5567f-6c14-4e5f-ba66-85fb63e3af56",
   "metadata": {
    "deletable": false,
    "editable": false,
    "nbgrader": {
     "cell_type": "code",
     "checksum": "817972ea3a82d7e6c6d4ea187f5c2a74",
     "grade": true,
     "grade_id": "cell-ed897db78c208ab1",
     "locked": true,
     "points": 2,
     "schema_version": 3,
     "solution": false,
     "task": false
    }
   },
   "outputs": [],
   "source": [
    "# Some hidden tests for aufg_c"
   ]
  },
  {
   "cell_type": "code",
   "execution_count": null,
   "id": "5b23a951-62c3-488e-9c79-620480fb551a",
   "metadata": {
    "deletable": false,
    "editable": false,
    "nbgrader": {
     "cell_type": "code",
     "checksum": "d7c8df525e6a128d59ba435556d22a84",
     "grade": true,
     "grade_id": "cell-c66a3abea9ad4dd3",
     "locked": true,
     "points": 2,
     "schema_version": 3,
     "solution": false,
     "task": false
    }
   },
   "outputs": [],
   "source": [
    "# Some hidden tests for aufg_d"
   ]
  },
  {
   "cell_type": "markdown",
   "id": "71cad567-cf07-4f59-80e0-805fbaf9872f",
   "metadata": {
    "deletable": false,
    "editable": false,
    "nbgrader": {
     "cell_type": "markdown",
     "checksum": "a9813b51abc0ef3b483c873b1c18582e",
     "grade": false,
     "grade_id": "cell-ca9fde40e52872a8",
     "locked": true,
     "schema_version": 3,
     "solution": false,
     "task": false
    }
   },
   "source": [
    "## Aufgabe 10"
   ]
  },
  {
   "cell_type": "code",
   "execution_count": null,
   "id": "49e86930-cdf1-43c7-8939-35f4b54e016d",
   "metadata": {
    "deletable": false,
    "editable": false,
    "nbgrader": {
     "cell_type": "code",
     "checksum": "b751c07c0bec40dccfed16d9d3891ddf",
     "grade": false,
     "grade_id": "cell-6570a729ff4274cc",
     "locked": true,
     "schema_version": 3,
     "solution": false,
     "task": false
    }
   },
   "outputs": [],
   "source": [
    "test = \"\"\"Am Anfang schuf Gott Himmel und Erde.\n",
    "Und die Erde war wüst und leer, und es war finster auf der Tiefe; und der Geist Gottes schwebte auf dem Wasser.\n",
    "Und Gott sprach: Es werde Licht! Und es ward Licht.\n",
    "Und Gott sah, dass das Licht gut war. Da schied Gott das Licht von der Finsternis\n",
    "und nannte das Licht Tag und die Finsternis Nacht. Da ward aus Abend und Morgen der erste Tag.\n",
    "Da machte Gott die Feste und schied das Wasser unter der Feste von dem Wasser über der Feste. Und es geschah also.\n",
    "Und Gott nannte die Feste Himmel. Da ward aus Abend und Morgen der zweite Tag.\n",
    "Und Gott sprach: Es sammle sich das Wasser unter dem Himmel an besondere Orte, dass man das Trockene sehe. Und es geschah also.\n",
    "Und Gott nannte das Trockene Erde, und die Sammlung der Wasser nannte er Meer. Und Gott sah, dass es gut war.\n",
    "Und Gott sprach: Es lasse die Erde aufgehen Gras und Kraut, das Samen bringe, und fruchtbare Bäume, die auf der Erde Frucht bringen, in der ihr Same ist, ein jegliches nach seiner Art. Und es geschah also.\n",
    "Und die Erde brachte hervor Gras und Kraut, das Samen bringt, ein jegliches nach seiner Art, und Bäume, die Frucht bringen, in der ihr Same ist, ein jegliches nach seiner Art. Und Gott sah, dass es gut war.\n",
    "Da ward aus Abend und Morgen der dritte Tag.\n",
    "Und Gott sprach: Es werden Lichter an der Feste des Himmels, die da scheiden Tag und Nacht und geben Zeichen, Zeiten, Tage und Jahre\n",
    "und seien Lichter an der Feste des Himmels, die da leuchten auf die Erde. Und es geschah also.\n",
    "Und Gott machte zwei große Lichter: das größere Licht zur Beherrschung des Tages und das kleinere Licht zur Beherrschung der Nacht und die Sterne.\n",
    "Und Gott setzte sie an die Feste des Himmels, dass sie leuchten auf die Erde\n",
    "und herrschen über den Tag und über die Nacht und scheiden Licht und Finsternis. Und Gott sah, dass es gut war.\n",
    "Da ward aus Abend und Morgen der vierte Tag.\n",
    "Und Gott sprach: Es wimmle das Wasser von lebendigem Getier, und Vögel sollen fliegen über die Erde unter der Feste des Himmels.\n",
    "Und Gott schuf große Walfische und alles lebendige Getier, das sich regt, das da wimmelt in den Wassern, nach ihrer Art, und alle gefiederten Vögel nach ihrer Art. Und Gott sah, dass es gut war.\n",
    "Und Gott segnete sie und sprach: Seid fruchtbar und mehret euch und füllet das Wasser in den Meeren, und die Vögel sollen sich mehren auf Erden.\n",
    "Da ward aus Abend und Morgen der fünfte Tag.\n",
    "Und Gott sprach: Die Erde bringe hervor lebendiges Getier, ein jedes nach seiner Art: Vieh, Gewürm und Tiere des Feldes, ein jedes nach seiner Art. Und es geschah also.\n",
    "Und Gott machte die Tiere des Feldes, ein jedes nach seiner Art, und das Vieh nach seiner Art und alles Gewürm des Erdbodens nach seiner Art. Und Gott sah, dass es gut war.\n",
    "Und Gott sprach: Lasset uns Menschen machen, ein Bild, das uns gleich sei, die da herrschen über die Fische im Meer und über die Vögel unter dem Himmel und über das Vieh und über die ganze Erde und über alles Gewürm, das auf Erden kriecht.\n",
    "Und Gott schuf den Menschen ihm zum Bilde, zum Bilde Gottes schuf er ihn; und schuf sie als Mann und Frau.\n",
    "\"\"\""
   ]
  },
  {
   "cell_type": "markdown",
   "id": "392b74a1-45bd-4a77-a578-b053f84444a3",
   "metadata": {
    "deletable": false,
    "editable": false,
    "nbgrader": {
     "cell_type": "markdown",
     "checksum": "1f895a252855e4866cdc9195f38b2e7f",
     "grade": false,
     "grade_id": "cell-a89c6919c4969cb2",
     "locked": true,
     "schema_version": 3,
     "solution": false,
     "task": false
    }
   },
   "source": [
    "**4*2+4=12 Punkte**\n",
    "\n",
    "Ein \"Wort\" im Sinne dieser Aufgabe ist eine durch Whitespace eingeschlossene Zeichenkette, so wie sie durch die `str`-Methode `split` zurückgegeben wird.\n",
    "\n",
    "1. Verwenden Sie List Comprehensions gegebenenfalls zusammen mit anderen Funktionen, um die Funktion `aufg10_1` zu programmieren; diese bekommt einen Text `t` übergeben und liefert die Liste der jeweils letzten Zeichen aller Zeilen zurück.\n",
    "2. Verwenden Sie List Comprehensions gegebenenfalls zusammen mit anderen Funktionen, um die Funktion `aufg10_2` zu programmieren; diese bekommt einen Text `t` übergeben und liefert die Liste aller Zeilen zurück, die mit einem Kleinbuchstaben beginnen.\n",
    "3. Verwenden Sie List Comprehensions gegebenenfalls zusammen mit anderen Funktionen, um die Funktion `aufg10_3` zu programmieren; diese bekommt einen Text `t` übergeben und liefert die Länge der kürzesten Zeile zurück.\n",
    "4. Verwenden Sie List Comprehensions gegebenenfalls zusammen mit anderen Funktionen, um die Funktion `aufg10_4` zu programmieren; diese bekommt einen Text `t` übergeben und liefert die kürzeste Zeile zurück.\n",
    "5. Verwenden Sie List Comprehensions gegebenenfalls zusammen mit anderen Funktionen, um die Funktion `aufg10_5` zu programmieren; diese bekommt einen Text `t` übergeben und liefert diejenige Zeile zurück, die das längste Wort enthält."
   ]
  },
  {
   "cell_type": "code",
   "execution_count": null,
   "id": "963538eb-08fa-4482-b1dc-9b050b8dc3d4",
   "metadata": {
    "deletable": false,
    "nbgrader": {
     "cell_type": "code",
     "checksum": "037c3ebb314e9c058f522e4fb9412d49",
     "grade": false,
     "grade_id": "cell-e4af689352fbb9f6",
     "locked": false,
     "schema_version": 3,
     "solution": true,
     "task": false
    }
   },
   "outputs": [],
   "source": [
    "def aufg10_1(t):\n",
    "    # YOUR CODE HERE\n",
    "    raise NotImplementedError()"
   ]
  },
  {
   "cell_type": "code",
   "execution_count": null,
   "id": "3cfe3a79-3f7e-4884-8804-b396e1ab8cfd",
   "metadata": {
    "deletable": false,
    "editable": false,
    "nbgrader": {
     "cell_type": "code",
     "checksum": "b72c76a64dc7d92ddaece38e4eebf848",
     "grade": true,
     "grade_id": "cell-a71611b43743abc8",
     "locked": true,
     "points": 2,
     "schema_version": 3,
     "solution": false,
     "task": false
    }
   },
   "outputs": [],
   "source": [
    "assert aufg10_1(test) == ['.', '.', '.', 's', '.', '.', '.', '.', '.', '.', '.', '.', 'e', '.', '.', 'e', '.', '.', '.', '.', '.', '.', '.', '.', '.', '.']"
   ]
  },
  {
   "cell_type": "code",
   "execution_count": null,
   "id": "40bf7643-2755-403e-b9ba-32588d5a5908",
   "metadata": {
    "deletable": false,
    "nbgrader": {
     "cell_type": "code",
     "checksum": "69d62d38a009bdc788f3935496422bab",
     "grade": false,
     "grade_id": "cell-0cd342df14630e73",
     "locked": false,
     "schema_version": 3,
     "solution": true,
     "task": false
    }
   },
   "outputs": [],
   "source": [
    "def aufg10_2(t):\n",
    "    # YOUR CODE HERE\n",
    "    raise NotImplementedError()"
   ]
  },
  {
   "cell_type": "code",
   "execution_count": null,
   "id": "360c30dc-9e60-4dad-afaf-ed6311f0d8d4",
   "metadata": {
    "deletable": false,
    "editable": false,
    "nbgrader": {
     "cell_type": "code",
     "checksum": "827cf53cf3a879ef81904fe705ae0fe5",
     "grade": true,
     "grade_id": "cell-7bb005a730fa52e7",
     "locked": true,
     "points": 2,
     "schema_version": 3,
     "solution": false,
     "task": false
    }
   },
   "outputs": [],
   "source": [
    "assert aufg10_2(test) == ['und nannte das Licht Tag und die Finsternis Nacht. Da ward aus Abend und Morgen der erste Tag.',\n",
    " 'und seien Lichter an der Feste des Himmels, die da leuchten auf die Erde. Und es geschah also.',\n",
    " 'und herrschen über den Tag und über die Nacht und scheiden Licht und Finsternis. Und Gott sah, dass es gut war.']\n",
    "# Hidden tests."
   ]
  },
  {
   "cell_type": "code",
   "execution_count": null,
   "id": "429836c8-3ef7-462b-abbf-e6d8aac37dc3",
   "metadata": {
    "deletable": false,
    "nbgrader": {
     "cell_type": "code",
     "checksum": "19cf81745ee1ea07aac3e422204e3211",
     "grade": false,
     "grade_id": "cell-ad679ca93bce36f0",
     "locked": false,
     "schema_version": 3,
     "solution": true,
     "task": false
    }
   },
   "outputs": [],
   "source": [
    "def aufg10_3(t):\n",
    "    # YOUR CODE HERE\n",
    "    raise NotImplementedError()"
   ]
  },
  {
   "cell_type": "code",
   "execution_count": null,
   "id": "97940861-c274-4cc6-8920-1892edbc93c5",
   "metadata": {
    "deletable": false,
    "editable": false,
    "nbgrader": {
     "cell_type": "code",
     "checksum": "f5b28129069e4a06cfc2bfdedf4509db",
     "grade": true,
     "grade_id": "cell-0e017c36a81c8832",
     "locked": true,
     "points": 2,
     "schema_version": 3,
     "solution": false,
     "task": false
    }
   },
   "outputs": [],
   "source": [
    "assert aufg10_3(test) == 37\n",
    "# Hidden tests."
   ]
  },
  {
   "cell_type": "code",
   "execution_count": null,
   "id": "e6db7def-0637-4d04-8aff-392a97eb5b18",
   "metadata": {
    "deletable": false,
    "nbgrader": {
     "cell_type": "code",
     "checksum": "5870c72664513830a05db6becd823ad1",
     "grade": false,
     "grade_id": "cell-ab49888d306763aa",
     "locked": false,
     "schema_version": 3,
     "solution": true,
     "task": false
    }
   },
   "outputs": [],
   "source": [
    "def aufg10_4(t):\n",
    "    # YOUR CODE HERE\n",
    "    raise NotImplementedError()"
   ]
  },
  {
   "cell_type": "code",
   "execution_count": null,
   "id": "ab53e714-a6f5-432c-ac86-fc0bfb969c00",
   "metadata": {
    "deletable": false,
    "editable": false,
    "nbgrader": {
     "cell_type": "code",
     "checksum": "877560835ea3713ce19e63ca26c0a8b3",
     "grade": true,
     "grade_id": "cell-8dfef1c3dff81ea9",
     "locked": true,
     "points": 2,
     "schema_version": 3,
     "solution": false,
     "task": false
    }
   },
   "outputs": [],
   "source": [
    "assert aufg10_4(test) == 'Am Anfang schuf Gott Himmel und Erde.'\n",
    "# Hidden tests."
   ]
  },
  {
   "cell_type": "code",
   "execution_count": null,
   "id": "338f3a7a-d829-4f9d-abf4-ebd02173e430",
   "metadata": {
    "deletable": false,
    "nbgrader": {
     "cell_type": "code",
     "checksum": "15a59273d447947857b6c10885b5f847",
     "grade": false,
     "grade_id": "cell-75011bff78352ec4",
     "locked": false,
     "schema_version": 3,
     "solution": true,
     "task": false
    }
   },
   "outputs": [],
   "source": [
    "def aufg10_5(t):\n",
    "    # YOUR CODE HERE\n",
    "    raise NotImplementedError()"
   ]
  },
  {
   "cell_type": "code",
   "execution_count": null,
   "id": "d5462c92-4ac8-4f65-93be-ff7d8f7e369a",
   "metadata": {
    "deletable": false,
    "editable": false,
    "nbgrader": {
     "cell_type": "code",
     "checksum": "f467b24727bd3a6f5638fed7e12bf4ae",
     "grade": true,
     "grade_id": "cell-5e38b4e1dcf72421",
     "locked": true,
     "points": 4,
     "schema_version": 3,
     "solution": false,
     "task": false
    }
   },
   "outputs": [],
   "source": [
    "assert aufg10_5(test) == \"Und Gott machte zwei große Lichter: das größere Licht zur Beherrschung des Tages und das kleinere Licht zur Beherrschung der Nacht und die Sterne.\" \n",
    "# Hidden tests."
   ]
  },
  {
   "cell_type": "markdown",
   "id": "9f2d60d7-5794-4c44-95fd-8d7dfb70921e",
   "metadata": {
    "deletable": false,
    "editable": false,
    "nbgrader": {
     "cell_type": "markdown",
     "checksum": "41931e94e9cbc0106481569c331c90cd",
     "grade": false,
     "grade_id": "cell-3553b60f236acb6b",
     "locked": true,
     "schema_version": 3,
     "solution": false,
     "task": false
    }
   },
   "source": [
    "## Aufgabe 11\n",
    "\n",
    "**2+2+2 = 6 Punkte**\n",
    "\n",
    "Gegeben sei das folgende NDArray `a`: "
   ]
  },
  {
   "cell_type": "code",
   "execution_count": null,
   "id": "1a9d247b-0e01-48f6-aa40-4e37be25f78f",
   "metadata": {
    "deletable": false,
    "editable": false,
    "nbgrader": {
     "cell_type": "code",
     "checksum": "f9afe3c10437a58f2b122fe143745f2c",
     "grade": false,
     "grade_id": "cell-61b83295b8272797",
     "locked": true,
     "schema_version": 3,
     "solution": false,
     "task": false
    }
   },
   "outputs": [],
   "source": [
    "import numpy as np\n",
    "a = np.array([256, 654, 685, 943, 278,  18, 213, 703, 410,  99, 189, 845, 498,\n",
    "              604, 862, 166, 542, 356, 752, 688, 160, 331,  40, 272,  51, 416,\n",
    "              174, 355, 772, 575, 186,   2, 241, 639, 780, 278, 697, 887, 357,\n",
    "              105, 460,  44, 939, 849, 911,  64, 185, 516, 987, 507, 739,  30,\n",
    "              594, 861, 448, 841, 172, 931, 161, 798, 135, 605, 578, 456, 657,\n",
    "              8, 937, 719, 440, 106, 207, 273, 665, 477, 831, 308, 749, 734,\n",
    "              701, 742])"
   ]
  },
  {
   "cell_type": "markdown",
   "id": "0d44267f-3bb0-4e13-bb42-e2cf4a881bfb",
   "metadata": {
    "deletable": false,
    "editable": false,
    "nbgrader": {
     "cell_type": "markdown",
     "checksum": "dc6e947b9f61449fb25178061e4504a8",
     "grade": false,
     "grade_id": "cell-c11452aff09812c3",
     "locked": true,
     "schema_version": 3,
     "solution": false,
     "task": false
    }
   },
   "source": [
    "Geben Sie numpy-Code an, um ...\n",
    "1. alle Zahlen in `a` zurückzugeben, die kleiner als 100 sind. Speichern Sie das Ergebnis in der Variablen `a1`.\n",
    "2. alle Zahlen in `a` zurückzugeben, die durch 19 teilbar sind. Speichern Sie das Ergebnis in der Variablen `a2`.\n",
    "3. alle Zahlen in `a` auf `0` zu setzen, die grösser als 100 sind. Speichern Sie dieses Array in der Variablen `a3`."
   ]
  },
  {
   "cell_type": "code",
   "execution_count": null,
   "id": "f87e4355-ca4e-48fe-b1fb-ada0b9f1cd1b",
   "metadata": {
    "deletable": false,
    "nbgrader": {
     "cell_type": "code",
     "checksum": "9861a40d9dce6a40a9411972c25f9962",
     "grade": false,
     "grade_id": "cell-efc385313a322698",
     "locked": false,
     "schema_version": 3,
     "solution": true,
     "task": false
    }
   },
   "outputs": [],
   "source": [
    "# Definition von a1\n",
    "# YOUR CODE HERE\n",
    "raise NotImplementedError()"
   ]
  },
  {
   "cell_type": "code",
   "execution_count": null,
   "id": "e8f4fe12-1f56-47da-a9cc-c145688fb19e",
   "metadata": {
    "deletable": false,
    "editable": false,
    "nbgrader": {
     "cell_type": "code",
     "checksum": "55b4f3fd44fce996776a6e25a4aa60d2",
     "grade": true,
     "grade_id": "cell-bc9807954634cdc5",
     "locked": true,
     "points": 2,
     "schema_version": 3,
     "solution": false,
     "task": false
    }
   },
   "outputs": [],
   "source": [
    "# Hidden tests."
   ]
  },
  {
   "cell_type": "code",
   "execution_count": null,
   "id": "2bdcb3f6-f303-4fd2-ad32-236d3dd2ef53",
   "metadata": {
    "deletable": false,
    "nbgrader": {
     "cell_type": "code",
     "checksum": "2ded146643176668653f4cb8752cb6e5",
     "grade": false,
     "grade_id": "cell-c1d98abd31243b0b",
     "locked": false,
     "schema_version": 3,
     "solution": true,
     "task": false
    }
   },
   "outputs": [],
   "source": [
    "# Definition von a2\n",
    "# YOUR CODE HERE\n",
    "raise NotImplementedError()"
   ]
  },
  {
   "cell_type": "code",
   "execution_count": null,
   "id": "21683d9a-5942-4015-981c-0e4aa3cba45b",
   "metadata": {
    "deletable": false,
    "editable": false,
    "nbgrader": {
     "cell_type": "code",
     "checksum": "0aadc2c4cb228f787f32feb62fb03e12",
     "grade": true,
     "grade_id": "cell-4a63b4e4e76f0d26",
     "locked": true,
     "points": 2,
     "schema_version": 3,
     "solution": false,
     "task": false
    }
   },
   "outputs": [],
   "source": [
    "# Hidden tests."
   ]
  },
  {
   "cell_type": "code",
   "execution_count": null,
   "id": "9a4d5a94-71ba-4ae9-b922-8ba5a2e8b6fa",
   "metadata": {
    "deletable": false,
    "nbgrader": {
     "cell_type": "code",
     "checksum": "772d02350359feb34e542f7260376530",
     "grade": false,
     "grade_id": "cell-5c737c4af5f11890",
     "locked": false,
     "schema_version": 3,
     "solution": true,
     "task": false
    }
   },
   "outputs": [],
   "source": [
    "# Definition von a3\n",
    "a3=a\n",
    "# YOUR CODE HERE\n",
    "raise NotImplementedError()"
   ]
  },
  {
   "cell_type": "code",
   "execution_count": null,
   "id": "dd0eba19-6850-4b05-a21a-50645de4bc2c",
   "metadata": {
    "deletable": false,
    "editable": false,
    "nbgrader": {
     "cell_type": "code",
     "checksum": "08c809719d20818a2fa43441d0168cc3",
     "grade": true,
     "grade_id": "cell-9854968229840a6c",
     "locked": true,
     "points": 2,
     "schema_version": 3,
     "solution": false,
     "task": false
    }
   },
   "outputs": [],
   "source": [
    "# Hidden tests."
   ]
  }
 ],
 "metadata": {
  "kernelspec": {
   "display_name": "Python 3 (ipykernel)",
   "language": "python",
   "name": "python3"
  },
  "language_info": {
   "codemirror_mode": {
    "name": "ipython",
    "version": 3
   },
   "file_extension": ".py",
   "mimetype": "text/x-python",
   "name": "python",
   "nbconvert_exporter": "python",
   "pygments_lexer": "ipython3",
   "version": "3.11.5"
  }
 },
 "nbformat": 4,
 "nbformat_minor": 5
}
