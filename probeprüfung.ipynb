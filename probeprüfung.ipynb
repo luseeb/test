{
  "cells": [
    {
      "cell_type": "markdown",
      "id": "23984ff9",
      "metadata": {
        "id": "23984ff9"
      },
      "source": [
        "# Probeprüfung"
      ]
    },
    {
      "cell_type": "markdown",
      "id": "b9985568",
      "metadata": {
        "id": "b9985568"
      },
      "source": [
        "## Teil 1 - Python Grundlagen"
      ]
    },
    {
      "cell_type": "markdown",
      "id": "ba2e9f22",
      "metadata": {
        "id": "ba2e9f22"
      },
      "source": [
        "### Aufgabe 1\n",
        "**3 Punkte**\n",
        "\n",
        "Schreiben Sie eine Funktion `list_conversion`, die jedes Element einer Liste von Pound-Angaben in Kilogramm umrechnet (1lbs = 0.4535kg). Die Funktion erhält eine Liste als Input und gibt eine andere Liste mit den gerundeten Werten in Kilogramm zurück.\n",
        "\n",
        "```python\n",
        ">>> list_converstion([100, 125, 150])\n",
        "[45, 57, 68]\n",
        "```"
      ]
    },
    {
      "cell_type": "code",
      "source": [
        "def list_conversion(lst):\n",
        "  #YOUR CODE HERE"
      ],
      "metadata": {
        "id": "KOodbgRBAqh6"
      },
      "id": "KOodbgRBAqh6",
      "execution_count": null,
      "outputs": []
    },
    {
      "cell_type": "code",
      "source": [
        "assert list_conversion([100, 125, 150]) == [45, 57, 68]"
      ],
      "metadata": {
        "id": "bfE5KM1ABN91"
      },
      "id": "bfE5KM1ABN91",
      "execution_count": null,
      "outputs": []
    },
    {
      "cell_type": "markdown",
      "id": "e118411d",
      "metadata": {
        "id": "e118411d"
      },
      "source": [
        "### Aufgabe 2\n",
        "**3 Punkte**\n",
        "\n",
        "Implementieren Sie eine Funktion `palindrom`, die testet, ob ein String ein Palindrom ist, d.h. gleiche Buchstabenfolge vorwärts wie auch rückwärts. Stellen Sie ausserdem sicher, dass Gross-/Kleinschreibung keine Rolle spielt.\n",
        "\n",
        "Beispiel:\n",
        "```python\n",
        ">>> palindrom(\"Anna\")\n",
        "True\n",
        ">>> palindrom(\"Simon\")\n",
        "False\n",
        "```\n"
      ]
    },
    {
      "cell_type": "code",
      "execution_count": null,
      "id": "60bcb8a5",
      "metadata": {
        "id": "60bcb8a5",
        "outputId": "68488fab-65b0-4fde-9740-ef95436584f7"
      },
      "outputs": [
        {
          "ename": "SyntaxError",
          "evalue": "unexpected EOF while parsing (116912483.py, line 2)",
          "output_type": "error",
          "traceback": [
            "\u001b[0;36m  File \u001b[0;32m\"/var/folders/2c/x9rb22kj39q_gdnw4mswvd2m0000gn/T/ipykernel_32522/116912483.py\"\u001b[0;36m, line \u001b[0;32m2\u001b[0m\n\u001b[0;31m    # YOUR CODE HERE\u001b[0m\n\u001b[0m                    ^\u001b[0m\n\u001b[0;31mSyntaxError\u001b[0m\u001b[0;31m:\u001b[0m unexpected EOF while parsing\n"
          ]
        }
      ],
      "source": [
        "def palindrom(s):\n",
        "    # YOUR CODE HERE"
      ]
    },
    {
      "cell_type": "code",
      "execution_count": null,
      "id": "454c0a76",
      "metadata": {
        "id": "454c0a76"
      },
      "outputs": [],
      "source": [
        "assert palindrom(\"Anna\")\n",
        "assert not palindrom(\"Simon\")"
      ]
    },
    {
      "cell_type": "markdown",
      "source": [
        "## Aufgabe 3\n",
        "**3 Punkte**\n",
        "\n",
        "Implementieren Sie die Methode `list_common`, die die Gemeinsamkeiten zweier Listen berechnet, d.h. alle Elemente, die in beiden Listen enthalten sind.\n",
        "\n",
        "```python\n",
        ">>> list_common([1,2,3], [2,3,4])\n",
        "[2,3]\n",
        "```"
      ],
      "metadata": {
        "id": "gMmVDnZt-1LG"
      },
      "id": "gMmVDnZt-1LG"
    },
    {
      "cell_type": "code",
      "source": [
        "def list_common(l1, l2):\n",
        "  # YOUR CODE HERE"
      ],
      "metadata": {
        "id": "SHCPMUMiFhW-"
      },
      "id": "SHCPMUMiFhW-",
      "execution_count": null,
      "outputs": []
    },
    {
      "cell_type": "code",
      "source": [
        "assert list_common([1,2,3], [2,3,4]) == [2,3]"
      ],
      "metadata": {
        "id": "PaFBRqspFm3y"
      },
      "id": "PaFBRqspFm3y",
      "execution_count": null,
      "outputs": []
    },
    {
      "cell_type": "markdown",
      "source": [
        "## Aufgabe 4\n",
        "**3 Punkte**\n",
        "\n",
        "Implementieren Sie eine Funktion `group_by_number_of_characters`, die eine Liste von Wörtern in einem Dictionary gruppiert, basierend auf der Anzahl Buchstaben.\n",
        "\n",
        "Beispiel:\n",
        "```python\n",
        ">>> group_by_number_of_characters([\"Simona\", \"Max\", \"Felix\", \"Malea\", \"Mailo\", \"Lucian\"])\n",
        "{3: [\"Max\"], 5: [\"Felix\", \"Malea\", \"Mailo\"], 6: [\"Simona\", \"Lucian\"]}\n",
        "```"
      ],
      "metadata": {
        "id": "2aygJUqFFugn"
      },
      "id": "2aygJUqFFugn"
    },
    {
      "cell_type": "code",
      "source": [
        "def group_by_number_of_characters(words):\n",
        "  # YOUR CODE HERE"
      ],
      "metadata": {
        "id": "m-z8bIXVGwXp"
      },
      "id": "m-z8bIXVGwXp",
      "execution_count": null,
      "outputs": []
    },
    {
      "cell_type": "code",
      "source": [
        "assert group_by_number_of_characters([\"Simona\", \"Max\", \"Felix\", \"Malea\", \"Mailo\", \"Lucian\"]) == {3: [\"Max\"], 5: [\"Felix\", \"Malea\", \"Mailo\"], 6: [\"Simona\", \"Lucian\"]}\n",
        "\n",
        "\n"
      ],
      "metadata": {
        "id": "F57KogqIG9It",
        "outputId": "fb0ee98b-0c4f-41ef-900d-11f32ec7997d",
        "colab": {
          "base_uri": "https://localhost:8080/",
          "height": 164
        }
      },
      "id": "F57KogqIG9It",
      "execution_count": 1,
      "outputs": [
        {
          "output_type": "error",
          "ename": "SyntaxError",
          "evalue": "closing parenthesis ')' does not match opening parenthesis '{' (<ipython-input-1-942824aed37a>, line 1)",
          "traceback": [
            "\u001b[0;36m  File \u001b[0;32m\"<ipython-input-1-942824aed37a>\"\u001b[0;36m, line \u001b[0;32m1\u001b[0m\n\u001b[0;31m    assert group_by_number_of_characters([\"Simona\", \"Max\", \"Felix\", \"Malea\", \"Mailo\", \"Lucian\"]) == {3: [\"Max\"], 5: [\"Felix\", \"Malea\", \"Mailo\"], 6: [\"Simona\", \"Lucian\"])\u001b[0m\n\u001b[0m                                                                                                                                                                        ^\u001b[0m\n\u001b[0;31mSyntaxError\u001b[0m\u001b[0;31m:\u001b[0m closing parenthesis ')' does not match opening parenthesis '{'\n"
          ]
        }
      ]
    },
    {
      "cell_type": "markdown",
      "source": [
        "## Aufgabe 5\n",
        "**3 Punkte**\n",
        "\n",
        "Schreiben Sie eine Funktion `remove_special_characters`, die alle Sonderzeichen (\"+-()_\") und Leerschläge aus einem gegebenen String entfernt.\n",
        "Beispiel:\n",
        "```python\n",
        ">>> remove_special_characters(\"+41 (79)-123 45 67\")\n",
        "\"41791234567\"\n",
        "```"
      ],
      "metadata": {
        "id": "9wDOUGvvHN8j"
      },
      "id": "9wDOUGvvHN8j"
    },
    {
      "cell_type": "code",
      "source": [
        "def remove_special_characters(s):\n",
        "  # YOUR CODE HERE"
      ],
      "metadata": {
        "id": "idVWIAonIClr"
      },
      "id": "idVWIAonIClr",
      "execution_count": null,
      "outputs": []
    },
    {
      "cell_type": "code",
      "source": [
        "assert remove_special_characters(\"+41 (79)-123 45 67\") == \"41791234567\""
      ],
      "metadata": {
        "id": "uzBaUtwjIJPg"
      },
      "id": "uzBaUtwjIJPg",
      "execution_count": null,
      "outputs": []
    },
    {
      "cell_type": "markdown",
      "source": [
        "## Aufgabe 6\n",
        "**3 Punkte**\n",
        "\n",
        "Schreiben Sie eine Funktion `tuple_to_dict`, die eine Liste von Tupeln in einen Dictionary umwandelt, d.h. die ersten Elemente im Tupel werden zum Schlüssel und das zweite Element wird zum Wert.\n",
        "Beispiel:\n",
        "```python\n",
        ">>> tuple_to_dict([(\"Max\", 4), (\"Malea\", 3), (\"Mailo\", 1), (\"Felix\", 2)])\n",
        "{\"Max\": 4, \"Malea\": 3, \"Mailo\": 1, \"Felix\": 2}\n",
        "```"
      ],
      "metadata": {
        "id": "GErMChTxIQ-y"
      },
      "id": "GErMChTxIQ-y"
    },
    {
      "cell_type": "code",
      "source": [
        "def tuple_to_dict(tpls):\n",
        "  # YOUR CODE HERE"
      ],
      "metadata": {
        "id": "BW-x7euFJP4C"
      },
      "id": "BW-x7euFJP4C",
      "execution_count": null,
      "outputs": []
    },
    {
      "cell_type": "code",
      "source": [
        "assert"
      ],
      "metadata": {
        "id": "4x7o-NdTJX0F"
      },
      "id": "4x7o-NdTJX0F",
      "execution_count": null,
      "outputs": []
    }
  ],
  "metadata": {
    "kernelspec": {
      "display_name": "base",
      "language": "python",
      "name": "python3"
    },
    "language_info": {
      "codemirror_mode": {
        "name": "ipython",
        "version": 3
      },
      "file_extension": ".py",
      "mimetype": "text/x-python",
      "name": "python",
      "nbconvert_exporter": "python",
      "pygments_lexer": "ipython3",
      "version": "3.8.8"
    },
    "colab": {
      "provenance": []
    }
  },
  "nbformat": 4,
  "nbformat_minor": 5
}