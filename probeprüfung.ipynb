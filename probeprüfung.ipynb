{
 "cells": [
  {
   "cell_type": "markdown",
   "id": "23984ff9",
   "metadata": {},
   "source": [
    "# Probeprüfung"
   ]
  },
  {
   "cell_type": "markdown",
   "id": "b9985568",
   "metadata": {},
   "source": [
    "## Teil 1 - Python Grundlagen"
   ]
  },
  {
   "cell_type": "markdown",
   "id": "ba2e9f22",
   "metadata": {},
   "source": [
    "### Aufgabe 1\n",
    "**3 Punkte**\n",
    "\n"
   ]
  },
  {
   "cell_type": "markdown",
   "id": "e118411d",
   "metadata": {},
   "source": [
    "### Aufgabe 2\n",
    "**3 Punkte**\n",
    "\n",
    "Implementieren Sie eine Funktion `palindrom`, die testet, ob ein String ein Palindrom ist, d.h. gleiche Buchstabenfolge vorwärts wie auch rückwärts. Stellen Sie ausserdem sicher, dass Gross-/Kleinschreibung keine Rolle spielt.\n",
    "\n",
    "Beispiel:\n",
    "```python\n",
    ">>> palindrom(\"Anna\")\n",
    "True\n",
    ">>> palindrom(\"Simon\")\n",
    "False\n",
    "```\n"
   ]
  },
  {
   "cell_type": "code",
   "execution_count": 1,
   "id": "60bcb8a5",
   "metadata": {},
   "outputs": [
    {
     "ename": "SyntaxError",
     "evalue": "unexpected EOF while parsing (116912483.py, line 2)",
     "output_type": "error",
     "traceback": [
      "\u001b[0;36m  File \u001b[0;32m\"/var/folders/2c/x9rb22kj39q_gdnw4mswvd2m0000gn/T/ipykernel_32522/116912483.py\"\u001b[0;36m, line \u001b[0;32m2\u001b[0m\n\u001b[0;31m    # YOUR CODE HERE\u001b[0m\n\u001b[0m                    ^\u001b[0m\n\u001b[0;31mSyntaxError\u001b[0m\u001b[0;31m:\u001b[0m unexpected EOF while parsing\n"
     ]
    }
   ],
   "source": [
    "def palindrom(s):\n",
    "    # YOUR CODE HERE"
   ]
  },
  {
   "cell_type": "code",
   "execution_count": null,
   "id": "454c0a76",
   "metadata": {},
   "outputs": [],
   "source": [
    "assert palindrom(\"Anna\")\n",
    "assert not palindrom(\"Simon\")"
   ]
  }
 ],
 "metadata": {
  "kernelspec": {
   "display_name": "base",
   "language": "python",
   "name": "python3"
  },
  "language_info": {
   "codemirror_mode": {
    "name": "ipython",
    "version": 3
   },
   "file_extension": ".py",
   "mimetype": "text/x-python",
   "name": "python",
   "nbconvert_exporter": "python",
   "pygments_lexer": "ipython3",
   "version": "3.8.8"
  }
 },
 "nbformat": 4,
 "nbformat_minor": 5
}
