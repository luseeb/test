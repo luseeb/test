{
  "cells": [
    {
      "cell_type": "markdown",
      "id": "23984ff9",
      "metadata": {
        "id": "23984ff9"
      },
      "source": [
        "# Probeprüfung\n",
        "\n",
        "Gesamtpunktzahl: xx Punkte"
      ]
    },
    {
      "cell_type": "markdown",
      "id": "b9985568",
      "metadata": {
        "id": "b9985568"
      },
      "source": [
        "## Teil 1 - Python Grundlagen"
      ]
    },
    {
      "cell_type": "markdown",
      "id": "ba2e9f22",
      "metadata": {
        "id": "ba2e9f22"
      },
      "source": [
        "### Aufgabe 1\n",
        "**3 Punkte**\n",
        "\n",
        "Schreiben Sie eine Funktion `list_conversion`, die jedes Element einer Liste von Pound-Angaben in Kilogramm umrechnet (1lbs = 0.4535kg). Die Funktion erhält eine Liste als Input und gibt eine andere Liste mit den gerundeten Werten in Kilogramm zurück.\n",
        "\n",
        "```python\n",
        ">>> list_conversion([100, 125, 150])\n",
        "[45, 57, 68]\n",
        "```"
      ]
    },
    {
      "cell_type": "code",
      "source": [
        "def list_conversion(lst):\n",
        "  #YOUR CODE HERE"
      ],
      "metadata": {
        "id": "KOodbgRBAqh6"
      },
      "id": "KOodbgRBAqh6",
      "execution_count": null,
      "outputs": []
    },
    {
      "cell_type": "code",
      "source": [
        "## Lösung\n",
        "def list_conversion(pound_liste):\n",
        "    return [round(p * 0.4535) for p in pound_liste]"
      ],
      "metadata": {
        "id": "7HZyMGe08GaU"
      },
      "id": "7HZyMGe08GaU",
      "execution_count": 25,
      "outputs": []
    },
    {
      "cell_type": "code",
      "source": [
        "assert list_conversion([100, 125, 150]) == [45, 57, 68]"
      ],
      "metadata": {
        "id": "bfE5KM1ABN91"
      },
      "id": "bfE5KM1ABN91",
      "execution_count": 26,
      "outputs": []
    },
    {
      "cell_type": "markdown",
      "id": "e118411d",
      "metadata": {
        "id": "e118411d"
      },
      "source": [
        "### Aufgabe 2\n",
        "**3 Punkte**\n",
        "\n",
        "Implementieren Sie eine Funktion `palindrom`, die testet, ob ein String ein Palindrom ist, d.h. gleiche Buchstabenfolge vorwärts wie auch rückwärts. Stellen Sie ausserdem sicher, dass Gross-/Kleinschreibung keine Rolle spielt.\n",
        "\n",
        "Beispiel:\n",
        "```python\n",
        ">>> palindrom(\"Anna\")\n",
        "True\n",
        ">>> palindrom(\"Simon\")\n",
        "False\n",
        "```\n"
      ]
    },
    {
      "cell_type": "code",
      "execution_count": null,
      "id": "60bcb8a5",
      "metadata": {
        "id": "60bcb8a5",
        "outputId": "68488fab-65b0-4fde-9740-ef95436584f7"
      },
      "outputs": [
        {
          "ename": "SyntaxError",
          "evalue": "unexpected EOF while parsing (116912483.py, line 2)",
          "output_type": "error",
          "traceback": [
            "\u001b[0;36m  File \u001b[0;32m\"/var/folders/2c/x9rb22kj39q_gdnw4mswvd2m0000gn/T/ipykernel_32522/116912483.py\"\u001b[0;36m, line \u001b[0;32m2\u001b[0m\n\u001b[0;31m    # YOUR CODE HERE\u001b[0m\n\u001b[0m                    ^\u001b[0m\n\u001b[0;31mSyntaxError\u001b[0m\u001b[0;31m:\u001b[0m unexpected EOF while parsing\n"
          ]
        }
      ],
      "source": [
        "def palindrom(s):\n",
        "    # YOUR CODE HERE"
      ]
    },
    {
      "cell_type": "code",
      "source": [
        "## Lösung\n",
        "def palindrom(text):\n",
        "    text = text.lower()\n",
        "    return text == text[::-1]"
      ],
      "metadata": {
        "id": "1Qm9i1JF8fot"
      },
      "id": "1Qm9i1JF8fot",
      "execution_count": 27,
      "outputs": []
    },
    {
      "cell_type": "code",
      "execution_count": 28,
      "id": "454c0a76",
      "metadata": {
        "id": "454c0a76"
      },
      "outputs": [],
      "source": [
        "assert palindrom(\"Anna\")\n",
        "assert not palindrom(\"Simon\")"
      ]
    },
    {
      "cell_type": "markdown",
      "source": [
        "### Aufgabe 3\n",
        "**3 Punkte**\n",
        "\n",
        "Implementieren Sie die Methode `list_common`, die die Gemeinsamkeiten zweier Listen berechnet, d.h. alle Elemente, die in beiden Listen enthalten sind.\n",
        "\n",
        "```python\n",
        ">>> list_common([1,2,3], [2,3,4])\n",
        "[2,3]\n",
        "```"
      ],
      "metadata": {
        "id": "gMmVDnZt-1LG"
      },
      "id": "gMmVDnZt-1LG"
    },
    {
      "cell_type": "code",
      "source": [
        "def list_common(l1, l2):\n",
        "  # YOUR CODE HERE"
      ],
      "metadata": {
        "id": "SHCPMUMiFhW-"
      },
      "id": "SHCPMUMiFhW-",
      "execution_count": null,
      "outputs": []
    },
    {
      "cell_type": "code",
      "source": [
        "## Lösung\n",
        "def list_common(liste1, liste2):\n",
        "    return [element for element in liste1 if element in liste2]"
      ],
      "metadata": {
        "id": "kWQKamYc8tXK"
      },
      "id": "kWQKamYc8tXK",
      "execution_count": 29,
      "outputs": []
    },
    {
      "cell_type": "code",
      "source": [
        "assert list_common([1,2,3], [2,3,4]) == [2,3]"
      ],
      "metadata": {
        "id": "PaFBRqspFm3y"
      },
      "id": "PaFBRqspFm3y",
      "execution_count": 30,
      "outputs": []
    },
    {
      "cell_type": "markdown",
      "source": [
        "### Aufgabe 4\n",
        "**3 Punkte**\n",
        "\n",
        "Implementieren Sie eine Funktion `group_by_number_of_characters`, die eine Liste von Wörtern in einem Dictionary gruppiert, basierend auf der Anzahl Buchstaben.\n",
        "\n",
        "Beispiel:\n",
        "```python\n",
        ">>> group_by_number_of_characters([\"Simona\", \"Max\", \"Felix\", \"Malea\", \"Mailo\", \"Lucian\"])\n",
        "{3: [\"Max\"], 5: [\"Felix\", \"Malea\", \"Mailo\"], 6: [\"Simona\", \"Lucian\"]}\n",
        "```"
      ],
      "metadata": {
        "id": "2aygJUqFFugn"
      },
      "id": "2aygJUqFFugn"
    },
    {
      "cell_type": "code",
      "source": [
        "def group_by_number_of_characters(words):\n",
        "  # YOUR CODE HERE"
      ],
      "metadata": {
        "id": "m-z8bIXVGwXp"
      },
      "id": "m-z8bIXVGwXp",
      "execution_count": null,
      "outputs": []
    },
    {
      "cell_type": "code",
      "source": [
        "## Lösung\n",
        "def group_by_number_of_characters(wortliste):\n",
        "    gruppiert = {}\n",
        "    for wort in wortliste:\n",
        "        länge = len(wort)\n",
        "        if länge not in gruppiert:\n",
        "            gruppiert[länge] = []\n",
        "        gruppiert[länge].append(wort)\n",
        "    return gruppiert"
      ],
      "metadata": {
        "id": "4V9jBbq_81JB"
      },
      "id": "4V9jBbq_81JB",
      "execution_count": 31,
      "outputs": []
    },
    {
      "cell_type": "code",
      "source": [
        "assert group_by_number_of_characters([\"Simona\", \"Max\", \"Felix\", \"Malea\", \"Mailo\", \"Lucian\"]) == {3: [\"Max\"], 5: [\"Felix\", \"Malea\", \"Mailo\"], 6: [\"Simona\", \"Lucian\"]}"
      ],
      "metadata": {
        "id": "F57KogqIG9It"
      },
      "id": "F57KogqIG9It",
      "execution_count": 34,
      "outputs": []
    },
    {
      "cell_type": "markdown",
      "source": [
        "### Aufgabe 5\n",
        "**3 Punkte**\n",
        "\n",
        "Schreiben Sie eine Funktion `remove_special_characters`, die alle Sonderzeichen (\"+-()_\") und Leerschläge aus einem gegebenen String entfernt.\n",
        "Beispiel:\n",
        "```python\n",
        ">>> remove_special_characters(\"+41 (79)-123 45 67\")\n",
        "\"41791234567\"\n",
        "```"
      ],
      "metadata": {
        "id": "9wDOUGvvHN8j"
      },
      "id": "9wDOUGvvHN8j"
    },
    {
      "cell_type": "code",
      "source": [
        "def remove_special_characters(s):\n",
        "  # YOUR CODE HERE"
      ],
      "metadata": {
        "id": "idVWIAonIClr"
      },
      "id": "idVWIAonIClr",
      "execution_count": null,
      "outputs": []
    },
    {
      "cell_type": "code",
      "source": [
        "## Lösung\n",
        "def remove_special_characters(text):\n",
        "    zeichen_zu_entfernen = \"+-()_ \"\n",
        "    return ''.join(c for c in text if c not in zeichen_zu_entfernen)"
      ],
      "metadata": {
        "id": "20dL9ZGL9SC3"
      },
      "id": "20dL9ZGL9SC3",
      "execution_count": 35,
      "outputs": []
    },
    {
      "cell_type": "code",
      "source": [
        "assert remove_special_characters(\"+41 (79)-123 45 67\") == \"41791234567\""
      ],
      "metadata": {
        "id": "uzBaUtwjIJPg"
      },
      "id": "uzBaUtwjIJPg",
      "execution_count": 36,
      "outputs": []
    },
    {
      "cell_type": "markdown",
      "source": [
        "### Aufgabe 6\n",
        "**3 Punkte**\n",
        "\n",
        "Schreiben Sie eine Funktion `tuple_to_dict`, die eine Liste von Tupeln in einen Dictionary umwandelt, d.h. die ersten Elemente im Tupel werden zum Schlüssel und das zweite Element wird zum Wert.\n",
        "Beispiel:\n",
        "```python\n",
        ">>> tuple_to_dict([(\"Max\", 4), (\"Malea\", 3), (\"Mailo\", 1), (\"Felix\", 2)])\n",
        "{\"Max\": 4, \"Malea\": 3, \"Mailo\": 1, \"Felix\": 2}\n",
        "```"
      ],
      "metadata": {
        "id": "GErMChTxIQ-y"
      },
      "id": "GErMChTxIQ-y"
    },
    {
      "cell_type": "code",
      "source": [
        "def tuple_to_dict(tpls):\n",
        "  # YOUR CODE HERE"
      ],
      "metadata": {
        "id": "BW-x7euFJP4C"
      },
      "id": "BW-x7euFJP4C",
      "execution_count": null,
      "outputs": []
    },
    {
      "cell_type": "code",
      "source": [
        "## Lösung\n",
        "def tuple_to_dict(tupel_liste):\n",
        "    return {key: value for key, value in tupel_liste}"
      ],
      "metadata": {
        "id": "wkqPSQyC9ZIS"
      },
      "id": "wkqPSQyC9ZIS",
      "execution_count": 37,
      "outputs": []
    },
    {
      "cell_type": "code",
      "source": [
        "assert tuple_to_dict([(\"Max\", 4), (\"Malea\", 3), (\"Mailo\", 1), (\"Felix\", 2)]) == {\"Max\": 4, \"Malea\": 3, \"Mailo\": 1, \"Felix\": 2}"
      ],
      "metadata": {
        "id": "4x7o-NdTJX0F"
      },
      "id": "4x7o-NdTJX0F",
      "execution_count": 38,
      "outputs": []
    },
    {
      "cell_type": "markdown",
      "source": [
        "## Teil 2 - Objektorientierte Programmierung"
      ],
      "metadata": {
        "id": "2XOKqzaqiQGM"
      },
      "id": "2XOKqzaqiQGM"
    },
    {
      "cell_type": "markdown",
      "source": [
        "### Aufgabe 7\n",
        "\n",
        "**3*3 Punkte = 9 Punkte**\n",
        "\n",
        "Programmieren Sie eine Klasse `Rundungszahl`, um positive Dezimalzahlen mit begrenzter Nachkommastellenanzahl zu repräsentieren.\n",
        "\n",
        "Verwenden Sie einen Konstruktor, der eine Gleitkommazahl (float) und eine positive ganze Zahl (int) als Anzahl der Nachkommastellen benötigt.\n",
        "\n",
        "1. Programmieren Sie eine String-Repräsentation von Rundungszahl-Objekten, so dass die Zahl auf die angegebene Anzahl von Nachkommastellen gerundet ausgegeben wird (siehe Beispiel unten).\n",
        "2. Programmieren Sie eine Methode addiere, die zwei Rundungszahl-Objekte addiert und ein neues Rundungszahl-Objekt zurückgibt. Die neue Zahl soll ebenfalls auf die kleinere der beiden Nachkommastellen gerundet werden.\n",
        "3. Programmieren Sie die Methode istGanzzahlig, die testet, ob die Zahl (nach Rundung) eine ganze Zahl ist.\n",
        "\n",
        "Beispiele:\n",
        "```python\n",
        ">>> Rundungszahl(3.14159, 2)\n",
        "3.14\n",
        ">>> Rundungszahl(2.71828, 3)\n",
        "2.718\n",
        "r3 = r1.addiere(r2)\n",
        "print(r3)\n",
        "5.86 #(gerundet auf 2 Nachkommastellen)\n",
        "\n",
        ">>> print(r3.istGanzzahlig())\n",
        "False\n",
        "```"
      ],
      "metadata": {
        "id": "AQ-FC9z6iirL"
      },
      "id": "AQ-FC9z6iirL"
    },
    {
      "cell_type": "code",
      "source": [
        "### YOUR CODE HERE"
      ],
      "metadata": {
        "id": "H30yfqLviURH"
      },
      "id": "H30yfqLviURH",
      "execution_count": 1,
      "outputs": []
    },
    {
      "cell_type": "code",
      "source": [
        "## Lösung\n",
        "class Rundungszahl:\n",
        "    def __init__(self, zahl: float, nachkommastellen: int):\n",
        "        self.zahl = zahl\n",
        "        self.nachkommastellen = nachkommastellen\n",
        "\n",
        "    def __str__(self):\n",
        "        format_str = \"{:.\" + str(self.nachkommastellen) + \"f}\"\n",
        "        return format_str.format(round(self.zahl, self.nachkommastellen))\n",
        "\n",
        "    def addiere(self, andere):\n",
        "        neue_anzahl = min(self.nachkommastellen, andere.nachkommastellen)\n",
        "        neue_zahl = round(self.zahl + andere.zahl, neue_anzahl)\n",
        "        return Rundungszahl(neue_zahl, neue_anzahl)\n",
        "\n",
        "    def istGanzzahlig(self):\n",
        "        return round(self.zahl, self.nachkommastellen).is_integer()"
      ],
      "metadata": {
        "id": "4Q6oqR_6tlBP"
      },
      "id": "4Q6oqR_6tlBP",
      "execution_count": 18,
      "outputs": []
    },
    {
      "cell_type": "code",
      "source": [
        "r1 = Rundungszahl(3.14159, 2)\n",
        "assert str(r1) == \"3.14\"\n",
        "r2 = Rundungszahl(2.71828, 3)\n",
        "assert str(r2) == \"2.718\"\n",
        "r3 =  r1.addiere(r2)\n",
        "assert str(r3) == \"5.86\"\n",
        "assert r3.istGanzzahlig() == False"
      ],
      "metadata": {
        "id": "bY7REVE-s_jp"
      },
      "id": "bY7REVE-s_jp",
      "execution_count": 23,
      "outputs": []
    },
    {
      "cell_type": "markdown",
      "source": [
        "### Aufgabe 8\n",
        "\n",
        "**4*3 Punkte = 12 Punkte**\n",
        "\n",
        "Programmieren Sie eine Klasse `Lifts`, die von der Klasse `dict` erbt und Weightlifting Bewegungen als Schlüssel sowie die dazugehörige Bestleistung als Wert enthalten.\n",
        "Implementieren Sie folgende Methoden:\n",
        "1."
      ],
      "metadata": {
        "id": "aXpz53DmmJx6"
      },
      "id": "aXpz53DmmJx6"
    },
    {
      "cell_type": "markdown",
      "source": [
        "## Teil 3 - Funktionale Programmierung und Numpy"
      ],
      "metadata": {
        "id": "WEF8qDrellz4"
      },
      "id": "WEF8qDrellz4"
    },
    {
      "cell_type": "code",
      "source": [],
      "metadata": {
        "id": "mjSnqVHOlsQx"
      },
      "id": "mjSnqVHOlsQx",
      "execution_count": null,
      "outputs": []
    }
  ],
  "metadata": {
    "kernelspec": {
      "display_name": "base",
      "language": "python",
      "name": "python3"
    },
    "language_info": {
      "codemirror_mode": {
        "name": "ipython",
        "version": 3
      },
      "file_extension": ".py",
      "mimetype": "text/x-python",
      "name": "python",
      "nbconvert_exporter": "python",
      "pygments_lexer": "ipython3",
      "version": "3.8.8"
    },
    "colab": {
      "provenance": []
    }
  },
  "nbformat": 4,
  "nbformat_minor": 5
}