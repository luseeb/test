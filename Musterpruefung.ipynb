{
 "cells": [
  {
   "cell_type": "markdown",
   "id": "a4519289-44dd-450a-8cb3-98553b095716",
   "metadata": {
    "deletable": false,
    "editable": false,
    "nbgrader": {
     "cell_type": "markdown",
     "checksum": "3c09ee69b436fe095126a0eb89b74916",
     "grade": false,
     "grade_id": "cell-8c76d0af87080c77",
     "locked": true,
     "schema_version": 3,
     "solution": false,
     "task": false
    }
   },
   "source": [
    "# Musterprüfung FS24"
   ]
  },
  {
   "cell_type": "markdown",
   "id": "138b28b1-a6c1-4c38-89c0-46b1783f3151",
   "metadata": {
    "deletable": false,
    "editable": false,
    "nbgrader": {
     "cell_type": "markdown",
     "checksum": "1be3c8b66f3eb5b9da22f8bf2239f5ba",
     "grade": false,
     "grade_id": "cell-8734aed245f17662",
     "locked": true,
     "schema_version": 3,
     "solution": false,
     "task": false
    }
   },
   "source": [
    "# Teil 1 - Python Grundlagen"
   ]
  },
  {
   "cell_type": "markdown",
   "id": "adc91868-0028-40c5-b45d-91898a5b22ee",
   "metadata": {
    "deletable": false,
    "editable": false,
    "nbgrader": {
     "cell_type": "markdown",
     "checksum": "2ab1f3037e8cccfa092299b36b8bc671",
     "grade": false,
     "grade_id": "cell-39a723bc73ef2855",
     "locked": true,
     "schema_version": 3,
     "solution": false,
     "task": false
    }
   },
   "source": [
    "## Aufgabe 1\n",
    "**3 Punkte**\n",
    "\n",
    "Schreiben Sie eine Funktion mit dem Namen `list_square`, die jedes Element einer Liste in sein Quadrat verwandelt.\n",
    "Die Funktion erhält eine Liste als Input und gibt eine andere Liste mit quadrierten Werten zurück.\n",
    "\n",
    "Beispiel\n",
    "```python\n",
    ">>> list_square([2,3,5])\n",
    "[4,9,25] \n",
    "```"
   ]
  },
  {
   "cell_type": "code",
   "execution_count": null,
   "id": "a8cdd315-2652-4699-a350-b4f4a73cab6b",
   "metadata": {
    "deletable": false,
    "nbgrader": {
     "cell_type": "code",
     "checksum": "cee554c793945ec1ea561c5f98b12c28",
     "grade": false,
     "grade_id": "cell-792d72c221dc046e",
     "locked": false,
     "schema_version": 3,
     "solution": true,
     "task": false
    }
   },
   "outputs": [],
   "source": [
    "def list_square(lst):\n",
    "    #hier Ihr Code:\n",
    "    # YOUR CODE HERE\n",
    "    raise NotImplementedError()"
   ]
  },
  {
   "cell_type": "code",
   "execution_count": null,
   "id": "73051c2e-6ac8-4700-8737-b04ee12d9ce3",
   "metadata": {
    "deletable": false,
    "editable": false,
    "nbgrader": {
     "cell_type": "code",
     "checksum": "bab4d3bdff3fa2cdb8dff477abaea17b",
     "grade": true,
     "grade_id": "cell-3a8543e0fdc701f6",
     "locked": true,
     "points": 3,
     "schema_version": 3,
     "solution": false,
     "task": false
    }
   },
   "outputs": [],
   "source": [
    "#Tests\n",
    "assert list_square([2,3,5]) == [4,9,25]"
   ]
  },
  {
   "cell_type": "markdown",
   "id": "90c14c86-d046-4d52-a262-6f5b8b70a3dd",
   "metadata": {
    "deletable": false,
    "editable": false,
    "nbgrader": {
     "cell_type": "markdown",
     "checksum": "a0852cd48ccbf221bcc35b01eaf76042",
     "grade": false,
     "grade_id": "cell-d1fcaff8f56de4c3",
     "locked": true,
     "schema_version": 3,
     "solution": false,
     "task": false
    }
   },
   "source": [
    "## Aufgabe 2\n",
    "**3 Punkte**\n",
    "\n",
    "Implementieren Sie die Funktion `compress_str` mit folgender Definition:\n",
    "\n",
    "- Die Funktion nimmt einen String als Parameter an \n",
    "- Die Funktion komprimiert den String basierend auf repetierend auftretenden Zeichen\n",
    "- Ausgabetyp ist eine Liste von Tupeln, bestehend aus einem Zeichen und Anzahl Wiederholungen dieses Zeichens im Originalstring.\n",
    "- Falls der Input-String leer ist, soll eine leere Liste zurückgegeben werden.\n",
    "  \n",
    "Beispiel: \n",
    "```python\n",
    ">>> compress_str(\"aabcccccaaa\")\n",
    "[(\"a\",2), (\"b\", 1), (\"c\", 4), (\"a\", 3)]\n",
    "```"
   ]
  },
  {
   "cell_type": "code",
   "execution_count": null,
   "id": "cf80d7d8-2871-4f34-ae94-0dfd15185ba7",
   "metadata": {
    "deletable": false,
    "nbgrader": {
     "cell_type": "code",
     "checksum": "99e3186291782aecab62afb1f4609ca0",
     "grade": false,
     "grade_id": "cell-79045e8210b3c214",
     "locked": false,
     "schema_version": 3,
     "solution": true,
     "task": false
    }
   },
   "outputs": [],
   "source": [
    "def compress_str(s):\n",
    "    #hier Ihr Code:\n",
    "    # YOUR CODE HERE\n",
    "    raise NotImplementedError()"
   ]
  },
  {
   "cell_type": "code",
   "execution_count": null,
   "id": "48fc2cdc-1f68-4685-a1b8-f2736e7413f1",
   "metadata": {
    "deletable": false,
    "editable": false,
    "nbgrader": {
     "cell_type": "code",
     "checksum": "3f7ef2463ae8fe37fd882347b9023426",
     "grade": true,
     "grade_id": "cell-7760f15bd69a7825",
     "locked": true,
     "points": 2,
     "schema_version": 3,
     "solution": false,
     "task": false
    }
   },
   "outputs": [],
   "source": [
    "# Tests\n",
    "assert compress_str(\"aabccccaaa\") == [('a', 2), ('b', 1), ('c', 4), ('a', 3)]"
   ]
  },
  {
   "cell_type": "code",
   "execution_count": null,
   "id": "8893305c-806b-4682-8e6b-d0fd90818147",
   "metadata": {
    "deletable": false,
    "editable": false,
    "nbgrader": {
     "cell_type": "code",
     "checksum": "9c8025ab1f90e88a1985f8ba92bddaed",
     "grade": true,
     "grade_id": "cell-fd4d7614b9e24e69",
     "locked": true,
     "points": 1,
     "schema_version": 3,
     "solution": false,
     "task": false
    }
   },
   "outputs": [],
   "source": [
    "# Tests"
   ]
  },
  {
   "cell_type": "markdown",
   "id": "5a7b6bff-8769-443b-9a73-db16098aa22d",
   "metadata": {
    "deletable": false,
    "editable": false,
    "nbgrader": {
     "cell_type": "markdown",
     "checksum": "125fd2a936c0b6721a526303807401db",
     "grade": false,
     "grade_id": "cell-ca736d0484a55355",
     "locked": true,
     "schema_version": 3,
     "solution": false,
     "task": false
    }
   },
   "source": [
    "## Aufgabe 3\n",
    "**3 Punkte**\n",
    "\n",
    "Implementieren Sie die Funktion `decompress_str`, die die Umkehrfunktion von `compress_str` darstellen soll, also mit folgender Definition:\n",
    "\n",
    "- Die Funktion nimmt Liste von Tupeln an \n",
    "- Die Funktion erzeigt daraus den passenden String und liefert diesen zurück.\n",
    " \n",
    "Beispiel: \n",
    "```python\n",
    ">>> decompress_str([(\"x\", 2), (\"y\", 5), (\"a\", 1), (\"b\", 10)])\n",
    "\"xxyyyyyabbbbbbbbbb\"\n",
    "```"
   ]
  },
  {
   "cell_type": "code",
   "execution_count": null,
   "id": "8ec94357-4e63-4779-87bd-294c48aaf01c",
   "metadata": {
    "deletable": false,
    "nbgrader": {
     "cell_type": "code",
     "checksum": "b5e6e128c99e94710c78a4b575cafd05",
     "grade": false,
     "grade_id": "cell-7b3303006964b32f",
     "locked": false,
     "schema_version": 3,
     "solution": true,
     "task": false
    }
   },
   "outputs": [],
   "source": [
    "def decompress_str(tpl):\n",
    "    #hier Ihr Code:\n",
    "    # YOUR CODE HERE\n",
    "    raise NotImplementedError()"
   ]
  },
  {
   "cell_type": "code",
   "execution_count": null,
   "id": "3eecf48f-fe7b-481a-8a1c-2ac4a112f473",
   "metadata": {
    "deletable": false,
    "editable": false,
    "nbgrader": {
     "cell_type": "code",
     "checksum": "49841a56175d306a4a3e042eb4f9c97d",
     "grade": true,
     "grade_id": "cell-586e2aa7bb1c9b08",
     "locked": true,
     "points": 2,
     "schema_version": 3,
     "solution": false,
     "task": false
    }
   },
   "outputs": [],
   "source": [
    "# Tests\n",
    "assert decompress_str([(\"x\",2), (\"y\", 5), (\"a\", 1), (\"b\", 10)]) == \"xxyyyyyabbbbbbbbbb\""
   ]
  },
  {
   "cell_type": "code",
   "execution_count": null,
   "id": "7596c87a-ae62-4b78-943b-f5e56944e1b0",
   "metadata": {
    "deletable": false,
    "editable": false,
    "nbgrader": {
     "cell_type": "code",
     "checksum": "1aeb4fe662da3d015aa807e810d32945",
     "grade": true,
     "grade_id": "cell-84ce2131bd698dff",
     "locked": true,
     "points": 1,
     "schema_version": 3,
     "solution": false,
     "task": false
    }
   },
   "outputs": [],
   "source": [
    "# Tests"
   ]
  },
  {
   "cell_type": "markdown",
   "id": "e3d640a1-b2cc-418b-a317-f093306d0d79",
   "metadata": {
    "deletable": false,
    "editable": false,
    "nbgrader": {
     "cell_type": "markdown",
     "checksum": "ccfdd72f10d7a9c42f7bf1a9719246fb",
     "grade": false,
     "grade_id": "cell-4ff19b150235967f",
     "locked": true,
     "schema_version": 3,
     "solution": false,
     "task": false
    }
   },
   "source": [
    "## Aufgabe 4\n",
    "\n",
    "**2 + 2 + 2 = 6 Punkte**\n",
    "\n",
    "Wir haben eine Liste `numbers` mit Zahlen.\n",
    "\n",
    "1. Schreiben Sie Python-Code, um alle ungeraden Zahlen aus der Liste auszuwählen und speichern Sie diese ungeraden Zahlen in der Variablen `odd_numbers`.\n",
    "2.  Schreiben Sie Python-Code, um alle Zahlen aus der Liste auszuwählen, die kleiner als 50 sind und speichern Sie diese Zahlen in der Variablen `kleiner50`.\n",
    "3.  Schreiben Sie Python-Code, um alle Zahlen aus der Liste auszuwählen, die mit der Ziffer `5` beginnen und speichern Sie diese Zahlen in deer Variablen `beginn5`."
   ]
  },
  {
   "cell_type": "code",
   "execution_count": null,
   "id": "e325a379-8674-426f-8563-094b47bdc741",
   "metadata": {
    "deletable": false,
    "nbgrader": {
     "cell_type": "code",
     "checksum": "0461ac357b091a8b82c807a4500c5b12",
     "grade": false,
     "grade_id": "cell-4e816a79798d15f2",
     "locked": false,
     "schema_version": 3,
     "solution": true,
     "task": false
    }
   },
   "outputs": [],
   "source": [
    "numbers = [701, 356, 423, 601, 830, 14, 745, 227, 379, 812, 329, 125, 314, 814, 70, 631, \n",
    "           536, 234, 453, 360, 252, 302, 893, 224, 594, 106, 783, 142, 750, 342, 746, \n",
    "           445, 505, 628, 108, 19, 642, 722, 620, 38, 74, 315, 44, 500, 351, 708, 671, \n",
    "           114, 346, 45, 205, 609, 542, 150, 476, 498, 177, 924, 651, 433, 593, 54, 364, \n",
    "           960, 326, 300, 829, 795, 818, 73]\n",
    "#hier Definition von odd_numbers\n",
    "# YOUR CODE HERE\n",
    "raise NotImplementedError()"
   ]
  },
  {
   "cell_type": "code",
   "execution_count": null,
   "id": "266422dd-5a21-4771-b7e5-98bf223936c4",
   "metadata": {
    "deletable": false,
    "editable": false,
    "nbgrader": {
     "cell_type": "code",
     "checksum": "8cb9e5733ae31f48893f3a678e3ab087",
     "grade": true,
     "grade_id": "cell-23faac4bd798fd64",
     "locked": true,
     "points": 2,
     "schema_version": 3,
     "solution": false,
     "task": false
    }
   },
   "outputs": [],
   "source": [
    "# Tests"
   ]
  },
  {
   "cell_type": "code",
   "execution_count": null,
   "id": "604f799a-2526-4b56-b578-8733d99835cd",
   "metadata": {
    "deletable": false,
    "nbgrader": {
     "cell_type": "code",
     "checksum": "8f0837bce47c6e79d79881c563087144",
     "grade": false,
     "grade_id": "cell-6ee6fe854093d88f",
     "locked": false,
     "schema_version": 3,
     "solution": true,
     "task": false
    }
   },
   "outputs": [],
   "source": [
    "numbers = [701, 356, 423, 601, 830, 14, 745, 227, 379, 812, 329, 125, 314, 814, 70, 631, \n",
    "           536, 234, 453, 360, 252, 302, 893, 224, 594, 106, 783, 142, 750, 342, 746, \n",
    "           445, 505, 628, 108, 19, 642, 722, 620, 38, 74, 315, 44, 500, 351, 708, 671, \n",
    "           114, 346, 45, 205, 609, 542, 150, 476, 498, 177, 924, 651, 433, 593, 54, 364, \n",
    "           960, 326, 300, 829, 795, 818, 73]\n",
    "#hier Definition von kleiner50\n",
    "# YOUR CODE HERE\n",
    "raise NotImplementedError()"
   ]
  },
  {
   "cell_type": "code",
   "execution_count": null,
   "id": "21f96749-471d-45da-893d-eef5cd7ffb2a",
   "metadata": {
    "deletable": false,
    "editable": false,
    "nbgrader": {
     "cell_type": "code",
     "checksum": "0b74e746a56fd224de83b04601e211bf",
     "grade": true,
     "grade_id": "cell-dba4cc7ed88d824d",
     "locked": true,
     "points": 2,
     "schema_version": 3,
     "solution": false,
     "task": false
    }
   },
   "outputs": [],
   "source": [
    "# Tests"
   ]
  },
  {
   "cell_type": "code",
   "execution_count": null,
   "id": "16975fa0-59c0-4b8f-866f-55141762d358",
   "metadata": {
    "deletable": false,
    "nbgrader": {
     "cell_type": "code",
     "checksum": "9369a306294127be523c547390805b76",
     "grade": false,
     "grade_id": "cell-0967e780a78f966a",
     "locked": false,
     "schema_version": 3,
     "solution": true,
     "task": false
    }
   },
   "outputs": [],
   "source": [
    "numbers = [701, 356, 423, 601, 830, 14, 745, 227, 379, 812, 329, 125, 314, 814, 70, 631, \n",
    "           536, 234, 453, 360, 252, 302, 893, 224, 594, 106, 783, 142, 750, 342, 746, \n",
    "           445, 505, 628, 108, 19, 642, 722, 620, 38, 74, 315, 44, 500, 351, 708, 671, \n",
    "           114, 346, 45, 205, 609, 542, 150, 476, 498, 177, 924, 651, 433, 593, 54, 364, \n",
    "           960, 326, 300, 829, 795, 818, 73]\n",
    "#hier Definition von beginn5\n",
    "# YOUR CODE HERE\n",
    "raise NotImplementedError()"
   ]
  },
  {
   "cell_type": "code",
   "execution_count": null,
   "id": "5ee2e382-1a07-45ef-bd0b-530926813953",
   "metadata": {
    "deletable": false,
    "editable": false,
    "nbgrader": {
     "cell_type": "code",
     "checksum": "bf46c8bd3ccb717f608fc42d78149f6f",
     "grade": true,
     "grade_id": "cell-1fdd035a6ae825ce",
     "locked": true,
     "points": 2,
     "schema_version": 3,
     "solution": false,
     "task": false
    }
   },
   "outputs": [],
   "source": [
    "# Tests"
   ]
  },
  {
   "cell_type": "markdown",
   "id": "32993d6a-b802-480a-8444-e47f1b1e4619",
   "metadata": {
    "deletable": false,
    "editable": false,
    "nbgrader": {
     "cell_type": "markdown",
     "checksum": "080e521c24b15e5aeaf5331cc5743ddc",
     "grade": false,
     "grade_id": "cell-d0b5bf3b84aab8c3",
     "locked": true,
     "schema_version": 3,
     "solution": false,
     "task": false
    }
   },
   "source": [
    "## Aufgabe 5\n",
    "**3 Punkte**\n",
    "\n",
    "Schreiben Sie eine Funktion namens `find_max_sum`, die eine zweidimensionale Liste als Parameter nimmt und\n",
    "diejenige Liste zurückgibt, deren Elemente die grösste Summe bilden. \n",
    "\n",
    "Beispiel: \n",
    "```python\n",
    ">>> lsts = [[1, 2, 3], [2, 3, 3], [1, 3, 3], [2, 0], [1, 2, 3, 10]]\n",
    ">>> find_max_sum(lsts)\n",
    "[1,2,3,10]\n",
    "```"
   ]
  },
  {
   "cell_type": "code",
   "execution_count": null,
   "id": "333e924a-7fae-4b79-a4bb-11011fbc444f",
   "metadata": {
    "deletable": false,
    "nbgrader": {
     "cell_type": "code",
     "checksum": "5a791b9a252ebc1cc1c0a8ead68f25ed",
     "grade": false,
     "grade_id": "cell-1f31319eb16377dc",
     "locked": false,
     "schema_version": 3,
     "solution": true,
     "task": false
    }
   },
   "outputs": [],
   "source": [
    "def find_max_sum(lsts): \n",
    "    #Ihr Code hier\n",
    "    # YOUR CODE HERE\n",
    "    raise NotImplementedError()"
   ]
  },
  {
   "cell_type": "code",
   "execution_count": null,
   "id": "68ac4ce8-fdd0-4467-afe0-cc278c361e21",
   "metadata": {
    "deletable": false,
    "editable": false,
    "nbgrader": {
     "cell_type": "code",
     "checksum": "a6887440930b455c1a3d0a48857cbae8",
     "grade": true,
     "grade_id": "cell-79026849c9535489",
     "locked": true,
     "points": 3,
     "schema_version": 3,
     "solution": false,
     "task": false
    }
   },
   "outputs": [],
   "source": [
    "# Tests\n",
    "assert find_max_sum([[1, 2, 3], [2, 3, 3], [1, 3, 3], [2,0], [1,2,3,10]]) == [1, 2, 3, 10]"
   ]
  },
  {
   "cell_type": "markdown",
   "id": "52c2d53b-3384-444a-8d83-b7dcdc812c08",
   "metadata": {
    "deletable": false,
    "editable": false,
    "nbgrader": {
     "cell_type": "markdown",
     "checksum": "cb534379df2350e65fd36d11dd745d3c",
     "grade": false,
     "grade_id": "cell-ef4343d20a2434b1",
     "locked": true,
     "schema_version": 3,
     "solution": false,
     "task": false
    }
   },
   "source": [
    "## Aufgabe 6\n",
    "**3 Punkte**\n",
    "\n",
    "\n",
    "Schreiben Sie eine Funktion `reverseDict`, die ein dict-Objekt \"umkehrt\", d.h. alle Schlüssel zu Werten und alle Werte zu den entsprechenden Schlüsseln macht.\n",
    "Beispiel:\n",
    "```python\n",
    ">>> reverseDict({1:0, 100:99, \"Hallo\":3, \"0\":\"1\"})\n",
    "{0:1, 99:100, 3:\"Hallo\", \"1\":\"0\"}\n",
    "```"
   ]
  },
  {
   "cell_type": "code",
   "execution_count": null,
   "id": "a1ede0f4-eda8-4cd6-b17f-a2b0d9bbd762",
   "metadata": {
    "deletable": false,
    "nbgrader": {
     "cell_type": "code",
     "checksum": "a67ed1ada789f33307472c1ff596a003",
     "grade": false,
     "grade_id": "cell-fbf1b5c3b0bfd2fb",
     "locked": false,
     "schema_version": 3,
     "solution": true,
     "task": false
    }
   },
   "outputs": [],
   "source": [
    "def reverseDict(d):\n",
    "    # YOUR CODE HERE\n",
    "    raise NotImplementedError()"
   ]
  },
  {
   "cell_type": "code",
   "execution_count": null,
   "id": "88be6267-cc8e-4c85-8968-3a9ca5989528",
   "metadata": {
    "deletable": false,
    "editable": false,
    "nbgrader": {
     "cell_type": "code",
     "checksum": "491e0fbe71af5f642630f53a1044febd",
     "grade": true,
     "grade_id": "cell-455f63bdca3fad4d",
     "locked": true,
     "points": 3,
     "schema_version": 3,
     "solution": false,
     "task": false
    }
   },
   "outputs": [],
   "source": [
    "assert reverseDict({1: 0, 100: 99, \"Hallo\": 3, \"0\": \"1\"}) == {0: 1, 99: 100, 3: \"Hallo\", \"1\": \"0\"}\n",
    "assert reverseDict({}) == {}\n",
    "assert reverseDict({\"apple\": \"red\", \"banana\": \"yellow\", \"orange\": \"orange\"}) == {\"red\": \"apple\", \"yellow\": \"banana\", \"orange\": \"orange\"}\n"
   ]
  },
  {
   "cell_type": "markdown",
   "id": "92c7f6fd-270d-41ff-b7b7-2bedfb11e820",
   "metadata": {
    "deletable": false,
    "editable": false,
    "nbgrader": {
     "cell_type": "markdown",
     "checksum": "adddab1e18505a5db0e038e8114ef769",
     "grade": false,
     "grade_id": "cell-115f87589c79d4bb",
     "locked": true,
     "schema_version": 3,
     "solution": false,
     "task": false
    }
   },
   "source": [
    "## Aufgabe 6\n",
    "**3 Punkte**\n",
    "\n",
    "Implementieren sie die Funktion `myUnion`, die eine neue Menge erzeugt,\n",
    "die die Vereinigung der beiden übergebenen Mengen ist. Sie dürfen vom\n",
    "Typ `set` nur die Methode add verwenden.\n",
    "Beispiel:\n",
    "```python\n",
    ">>> myUnion({3,2,10,5}, {11,10,3,1})\n",
    "{3,2,10,5,11,1}\n",
    "```  "
   ]
  },
  {
   "cell_type": "code",
   "execution_count": null,
   "id": "dffae3de-c7f1-4ddd-b095-5d72966bce15",
   "metadata": {
    "deletable": false,
    "nbgrader": {
     "cell_type": "code",
     "checksum": "ae56e58b87a8b7eddc7361bff858b446",
     "grade": false,
     "grade_id": "cell-e48dcf7de30f2e05",
     "locked": false,
     "schema_version": 3,
     "solution": true,
     "task": false
    }
   },
   "outputs": [],
   "source": [
    "def myUnion(set1, set2):\n",
    "    # YOUR CODE HERE\n",
    "    raise NotImplementedError()"
   ]
  },
  {
   "cell_type": "code",
   "execution_count": null,
   "id": "c3900c50-d57d-4a04-8423-0b11587fde32",
   "metadata": {
    "deletable": false,
    "editable": false,
    "nbgrader": {
     "cell_type": "code",
     "checksum": "c48027cd9e51a7b22f103cdb884220d7",
     "grade": true,
     "grade_id": "cell-371781229cb17f59",
     "locked": true,
     "points": 3,
     "schema_version": 3,
     "solution": false,
     "task": false
    }
   },
   "outputs": [],
   "source": [
    "assert myUnion({3, 2, 10, 5}, {11, 10, 3, 1}) == {3, 2, 10, 5, 11, 1}\n",
    "assert myUnion(set(), set()) == set()\n",
    "assert myUnion({3, 2, 10, 5}, set()) == {3, 2, 10, 5}\n",
    "assert myUnion(set(), {11, 10, 3, 1}) == {11, 10, 3, 1}\n"
   ]
  },
  {
   "cell_type": "markdown",
   "id": "481e002c-a662-4911-91f6-54f01dea0423",
   "metadata": {
    "deletable": false,
    "editable": false,
    "nbgrader": {
     "cell_type": "markdown",
     "checksum": "3cc9f8e7d2bf8434de75395f4232b569",
     "grade": false,
     "grade_id": "cell-f8c065c9d4ed5980",
     "locked": true,
     "schema_version": 3,
     "solution": false,
     "task": false
    }
   },
   "source": [
    "# Teil 2 - Objektorientierte Programmierung"
   ]
  },
  {
   "cell_type": "markdown",
   "id": "d9d37078-e31c-439a-82b7-8e189f447109",
   "metadata": {
    "deletable": false,
    "editable": false,
    "nbgrader": {
     "cell_type": "markdown",
     "checksum": "2660835545db8ed0d6ce7746a437fe44",
     "grade": false,
     "grade_id": "cell-9e0b24bd160a49a5",
     "locked": true,
     "schema_version": 3,
     "solution": false,
     "task": false
    }
   },
   "source": [
    "## Aufgabe 7\n",
    "**3+3+3+3 = 12 Punkte**\n",
    "\n",
    "Programmieren Sie eine Klasse `Queue`, indem Sie die folgenden Teilaufgaben lösen.\n",
    "\n",
    "1. Programmieren Sie eine Methode `isEmpty`, die überprüfen soll, ob eine Queue leer ist. Anwendungsbeispiel siehe unten.\n",
    "2. Programmieren Sie eine Methode `enqueue`, die einer Queue ein neues Element hinzufügt.\n",
    "3. Programmieren Sie eine Methode `dequeue`, die das Element, das sich am längsten in der Queue befindet, herausnimmt und zurückgibt.\n",
    "4. Programmieren Sie die Methode `__repr__` so, dass eine Queue die im Beispiel gezeigte String-Repräsentation besitzt. \n",
    "\n",
    "Beispielanwendungen:\n",
    "```python\n",
    ">>> q = Queue()\n",
    ">>> q.isEmpty()\n",
    "True\n",
    ">>> q.enqueue('Tom')\n",
    ">>> q.isEmpty()\n",
    "False\n",
    ">>> q.enqueue('Karl')\n",
    ">>> q\n",
    "--> Karl, Tom -->\n",
    ">>> q.dequeue()\n",
    "\"Tom\"\n",
    ">>> q\n",
    "--> Karl -->\n",
    "```"
   ]
  },
  {
   "cell_type": "code",
   "execution_count": null,
   "id": "42abf0af-eccb-4168-b90b-9ff6dd2110dd",
   "metadata": {
    "deletable": false,
    "nbgrader": {
     "cell_type": "code",
     "checksum": "183231dffa094bafcda76bea8dbf8bc8",
     "grade": false,
     "grade_id": "cell-7d97b0b356c282b7",
     "locked": false,
     "schema_version": 3,
     "solution": true,
     "task": false
    }
   },
   "outputs": [],
   "source": [
    "class Queue:\n",
    "    def __init__(self): \n",
    "        self.q = []\n",
    "    # YOUR CODE HERE\n",
    "    raise NotImplementedError()\n",
    "    \n",
    "    def enqueue(self,e): \n",
    "        return self.q.append(e)\n",
    "    def dequeue(self):\n",
    "        e = self.q[0]\n",
    "        self.q = self.q[1:]\n",
    "        return e\n",
    "    def __repr__(self): \n",
    "        return \"--> \" + repr(self.q)[1:-1] + \" -->\""
   ]
  },
  {
   "cell_type": "code",
   "execution_count": null,
   "id": "4ecf498c-4f99-4a94-8b0d-436e07f3b5ea",
   "metadata": {
    "deletable": false,
    "editable": false,
    "nbgrader": {
     "cell_type": "code",
     "checksum": "2de46c17341a500b113085ad21a4cdaf",
     "grade": true,
     "grade_id": "cell-8f0d2a4ff08e94a2",
     "locked": true,
     "points": 3,
     "schema_version": 3,
     "solution": false,
     "task": false
    }
   },
   "outputs": [],
   "source": [
    "q = Queue()\n",
    "assert q.isEmpty()"
   ]
  },
  {
   "cell_type": "code",
   "execution_count": null,
   "id": "7a9d7af3-7ad8-412a-863f-4ccd44ca6c8b",
   "metadata": {
    "deletable": false,
    "editable": false,
    "nbgrader": {
     "cell_type": "code",
     "checksum": "9ded3949c683fddf9e72ae6a0472c524",
     "grade": true,
     "grade_id": "cell-a28b4e75d2ff6f3f",
     "locked": true,
     "points": 3,
     "schema_version": 3,
     "solution": false,
     "task": false
    }
   },
   "outputs": [],
   "source": [
    "q = Queue()\n",
    "q.enqueue(\"Tom\")"
   ]
  },
  {
   "cell_type": "code",
   "execution_count": null,
   "id": "62c105ae-b782-4e2f-bc2f-4d09a7c7d7c0",
   "metadata": {
    "deletable": false,
    "editable": false,
    "nbgrader": {
     "cell_type": "code",
     "checksum": "a6e9bc483afe1da74a1533961a0ca57a",
     "grade": true,
     "grade_id": "cell-26d83327ba017467",
     "locked": true,
     "points": 3,
     "schema_version": 3,
     "solution": false,
     "task": false
    }
   },
   "outputs": [],
   "source": [
    "q = Queue()\n",
    "q.enqueue(\"Tom\")"
   ]
  },
  {
   "cell_type": "code",
   "execution_count": null,
   "id": "5e0d0b62-7c29-4d05-81b2-c6e66ebfe98d",
   "metadata": {
    "deletable": false,
    "editable": false,
    "nbgrader": {
     "cell_type": "code",
     "checksum": "c738a319eaf9f51b4ebca75a05fc66b1",
     "grade": true,
     "grade_id": "cell-3b1eb462e1973229",
     "locked": true,
     "points": 3,
     "schema_version": 3,
     "solution": false,
     "task": false
    }
   },
   "outputs": [],
   "source": [
    "q = Queue()\n",
    "q.enqueue(\"Tom\")"
   ]
  },
  {
   "cell_type": "markdown",
   "id": "b60d7660-a80c-41ce-92cf-8473b6723e6f",
   "metadata": {
    "deletable": false,
    "editable": false,
    "nbgrader": {
     "cell_type": "markdown",
     "checksum": "1adbdaba1e1792193e039884d5477745",
     "grade": false,
     "grade_id": "cell-b4887fd75dbde9bd",
     "locked": true,
     "schema_version": 3,
     "solution": false,
     "task": false
    }
   },
   "source": [
    "# Aufgabe 8\n",
    "\n",
    "**3+3+3 = 9 Punkte**\n",
    "\n",
    "Programmieren Sie eine Klasse `evenL`, die von der Klasse `list` erbt, und Listen repräsentiert, die nur gerade ganzen Zahlen enthalten können. Überschreiben Sie hierzu die folgenden `list`-Methoden so, dass ein Versuch, ein Element in eine `evenL`-liste einzufügen einfach ignoriert wird, falls es sich nicht um eine gerade ganze Zahl handelt.\n",
    "\n",
    "1. die `append`-Methode\n",
    "2. die `__add__`-Methode (die zwei Listen konkateniert)\n",
    "3. die `insert`-Methode.\n"
   ]
  },
  {
   "cell_type": "code",
   "execution_count": null,
   "id": "ce1b5090-431d-4d26-9585-6eab562ec7de",
   "metadata": {
    "deletable": false,
    "nbgrader": {
     "cell_type": "code",
     "checksum": "a9901b26edf65c131d7d150faed04304",
     "grade": false,
     "grade_id": "cell-81cca05a1bef5ba0",
     "locked": false,
     "schema_version": 3,
     "solution": true,
     "task": false
    }
   },
   "outputs": [],
   "source": [
    "def ok(x): \n",
    "    return type(x)==int and x%2==0\n",
    "\n",
    "class EvenL(list): \n",
    "    # YOUR CODE HERE\n",
    "    raise NotImplementedError()"
   ]
  },
  {
   "cell_type": "code",
   "execution_count": null,
   "id": "3741292f-773c-4b93-9384-d4d45d48f9cc",
   "metadata": {
    "deletable": false,
    "editable": false,
    "nbgrader": {
     "cell_type": "code",
     "checksum": "8bba6c91a1400c00b8903ae76ff8798b",
     "grade": true,
     "grade_id": "cell-b762b46eadac7b1d",
     "locked": true,
     "points": 3,
     "schema_version": 3,
     "solution": false,
     "task": false
    }
   },
   "outputs": [],
   "source": [
    "l = EvenL([10,4,2,7,9,7])\n",
    "l.insert(4,100)\n",
    "assert l == EvenL([10, 4, 2, 7, 100, 9, 7])\n",
    "# Some hidden tests here"
   ]
  },
  {
   "cell_type": "code",
   "execution_count": null,
   "id": "bb6865d8-252e-417f-949f-9c7937b86dc7",
   "metadata": {
    "deletable": false,
    "editable": false,
    "nbgrader": {
     "cell_type": "code",
     "checksum": "2c9433f75aae80b0e887a53548b31e5f",
     "grade": true,
     "grade_id": "cell-89191cd1380a8352",
     "locked": true,
     "points": 3,
     "schema_version": 3,
     "solution": false,
     "task": false
    }
   },
   "outputs": [],
   "source": [
    "l = EvenL([2,4,6])\n",
    "l2 = l + [2]\n",
    "assert l2 == EvenL([2,4,6,2])\n",
    "# Some hidden tests here"
   ]
  },
  {
   "cell_type": "code",
   "execution_count": null,
   "id": "1d562e2a-7b65-4caf-80c7-7af61f432413",
   "metadata": {
    "deletable": false,
    "editable": false,
    "nbgrader": {
     "cell_type": "code",
     "checksum": "0dce0ff4b1534697ff37bae63df8286e",
     "grade": true,
     "grade_id": "cell-adc9bef7284783ea",
     "locked": true,
     "points": 3,
     "schema_version": 3,
     "solution": false,
     "task": false
    }
   },
   "outputs": [],
   "source": [
    "l = EvenL([2,4,6])\n",
    "l.append(13)\n",
    "assert 13 not in l\n",
    "# Some hidden tests here"
   ]
  },
  {
   "cell_type": "markdown",
   "id": "db0423a5-9ed0-4717-9094-6ce886e74bc3",
   "metadata": {
    "deletable": false,
    "editable": false,
    "nbgrader": {
     "cell_type": "markdown",
     "checksum": "99be1b022191c123be212d2650688fe0",
     "grade": false,
     "grade_id": "cell-828497761aa1e20d",
     "locked": true,
     "schema_version": 3,
     "solution": false,
     "task": false
    }
   },
   "source": [
    "# Teil 3 - Funktionale Programmierung und Numpy"
   ]
  },
  {
   "cell_type": "markdown",
   "id": "8cdbf564-d282-4e53-9910-227fc8919eaa",
   "metadata": {
    "deletable": false,
    "editable": false,
    "nbgrader": {
     "cell_type": "markdown",
     "checksum": "b7d37b0ce6e9cedad46ae073092519be",
     "grade": false,
     "grade_id": "cell-2294f4ea664a8a2e",
     "locked": true,
     "schema_version": 3,
     "solution": false,
     "task": false
    }
   },
   "source": [
    "## Aufgabe 9\n",
    "\n",
    "**2+2+2 = 6 Punkte**\n",
    "\n",
    "1. Verwenden Sie eine List Comprehension, um eine Liste der Längen aller Methodennamen der Klasse `str` zu erzeugen; speichern Sie diese Liste in der Variablen `aufg_a`. \n",
    "2. Verwenden Sie eine List Comprehension, um die Länge des längsten Methodennamens der Klasse `str` zu berechnen; speichern Sie diese Länge in der Variablen `aufg_b`.\n",
    "3. Verwenden Sie eine List Comprehension, um den Namen des längsten Methodennamen der Klasse `str` zurückzuliefern. Speichern Sie diesen Namen in der Variablen `aufg_c`"
   ]
  },
  {
   "cell_type": "code",
   "execution_count": null,
   "id": "d885bfb7-76da-4dad-9eb8-5edb47053225",
   "metadata": {
    "deletable": false,
    "nbgrader": {
     "cell_type": "code",
     "checksum": "f36c5cd7892360cd30882f55d1a5aba5",
     "grade": false,
     "grade_id": "cell-5365b067b0d5cc6b",
     "locked": false,
     "schema_version": 3,
     "solution": true,
     "task": false
    }
   },
   "outputs": [],
   "source": [
    "# Hier die Variablen aufg_a, aufg_b und aufg_c definieren\n",
    "# YOUR CODE HERE\n",
    "raise NotImplementedError()"
   ]
  },
  {
   "cell_type": "code",
   "execution_count": null,
   "id": "5df79bdf-a812-46e0-8233-f283446c8850",
   "metadata": {
    "deletable": false,
    "editable": false,
    "nbgrader": {
     "cell_type": "code",
     "checksum": "877c004987d30ff68781a9b653fde35d",
     "grade": true,
     "grade_id": "cell-efce5ab5564a1d83",
     "locked": true,
     "points": 2,
     "schema_version": 3,
     "solution": false,
     "task": false
    }
   },
   "outputs": [],
   "source": [
    "# Some hidden tests"
   ]
  },
  {
   "cell_type": "code",
   "execution_count": null,
   "id": "3d348945-f5dd-4db5-b3f3-ace8f4d7df9d",
   "metadata": {
    "deletable": false,
    "editable": false,
    "nbgrader": {
     "cell_type": "code",
     "checksum": "f899bf29da508c734fce8841653f2e1f",
     "grade": true,
     "grade_id": "cell-ea718e5530150f3b",
     "locked": true,
     "points": 2,
     "schema_version": 3,
     "solution": false,
     "task": false
    }
   },
   "outputs": [],
   "source": [
    "# Some hidden tests"
   ]
  },
  {
   "cell_type": "code",
   "execution_count": null,
   "id": "68467ff6-492c-478e-b12d-6d10d978d900",
   "metadata": {
    "deletable": false,
    "editable": false,
    "nbgrader": {
     "cell_type": "code",
     "checksum": "ce2d0ed8b23832e256f09e53ade33eaf",
     "grade": true,
     "grade_id": "cell-4e5e1175c0395225",
     "locked": true,
     "points": 2,
     "schema_version": 3,
     "solution": false,
     "task": false
    }
   },
   "outputs": [],
   "source": [
    "# Some hidden tests"
   ]
  },
  {
   "cell_type": "markdown",
   "id": "71cad567-cf07-4f59-80e0-805fbaf9872f",
   "metadata": {
    "deletable": false,
    "editable": false,
    "nbgrader": {
     "cell_type": "markdown",
     "checksum": "a9813b51abc0ef3b483c873b1c18582e",
     "grade": false,
     "grade_id": "cell-ca9fde40e52872a8",
     "locked": true,
     "schema_version": 3,
     "solution": false,
     "task": false
    }
   },
   "source": [
    "## Aufgabe 10"
   ]
  },
  {
   "cell_type": "code",
   "execution_count": null,
   "id": "49e86930-cdf1-43c7-8939-35f4b54e016d",
   "metadata": {
    "deletable": false,
    "editable": false,
    "nbgrader": {
     "cell_type": "code",
     "checksum": "b751c07c0bec40dccfed16d9d3891ddf",
     "grade": false,
     "grade_id": "cell-6570a729ff4274cc",
     "locked": true,
     "schema_version": 3,
     "solution": false,
     "task": false
    }
   },
   "outputs": [],
   "source": [
    "test = \"\"\"Am Anfang schuf Gott Himmel und Erde.\n",
    "Und die Erde war wüst und leer, und es war finster auf der Tiefe; und der Geist Gottes schwebte auf dem Wasser.\n",
    "Und Gott sprach: Es werde Licht! Und es ward Licht.\n",
    "Und Gott sah, dass das Licht gut war. Da schied Gott das Licht von der Finsternis\n",
    "und nannte das Licht Tag und die Finsternis Nacht. Da ward aus Abend und Morgen der erste Tag.\n",
    "Da machte Gott die Feste und schied das Wasser unter der Feste von dem Wasser über der Feste. Und es geschah also.\n",
    "Und Gott nannte die Feste Himmel. Da ward aus Abend und Morgen der zweite Tag.\n",
    "Und Gott sprach: Es sammle sich das Wasser unter dem Himmel an besondere Orte, dass man das Trockene sehe. Und es geschah also.\n",
    "Und Gott nannte das Trockene Erde, und die Sammlung der Wasser nannte er Meer. Und Gott sah, dass es gut war.\n",
    "Und Gott sprach: Es lasse die Erde aufgehen Gras und Kraut, das Samen bringe, und fruchtbare Bäume, die auf der Erde Frucht bringen, in der ihr Same ist, ein jegliches nach seiner Art. Und es geschah also.\n",
    "Und die Erde brachte hervor Gras und Kraut, das Samen bringt, ein jegliches nach seiner Art, und Bäume, die Frucht bringen, in der ihr Same ist, ein jegliches nach seiner Art. Und Gott sah, dass es gut war.\n",
    "Da ward aus Abend und Morgen der dritte Tag.\n",
    "Und Gott sprach: Es werden Lichter an der Feste des Himmels, die da scheiden Tag und Nacht und geben Zeichen, Zeiten, Tage und Jahre\n",
    "und seien Lichter an der Feste des Himmels, die da leuchten auf die Erde. Und es geschah also.\n",
    "Und Gott machte zwei große Lichter: das größere Licht zur Beherrschung des Tages und das kleinere Licht zur Beherrschung der Nacht und die Sterne.\n",
    "Und Gott setzte sie an die Feste des Himmels, dass sie leuchten auf die Erde\n",
    "und herrschen über den Tag und über die Nacht und scheiden Licht und Finsternis. Und Gott sah, dass es gut war.\n",
    "Da ward aus Abend und Morgen der vierte Tag.\n",
    "Und Gott sprach: Es wimmle das Wasser von lebendigem Getier, und Vögel sollen fliegen über die Erde unter der Feste des Himmels.\n",
    "Und Gott schuf große Walfische und alles lebendige Getier, das sich regt, das da wimmelt in den Wassern, nach ihrer Art, und alle gefiederten Vögel nach ihrer Art. Und Gott sah, dass es gut war.\n",
    "Und Gott segnete sie und sprach: Seid fruchtbar und mehret euch und füllet das Wasser in den Meeren, und die Vögel sollen sich mehren auf Erden.\n",
    "Da ward aus Abend und Morgen der fünfte Tag.\n",
    "Und Gott sprach: Die Erde bringe hervor lebendiges Getier, ein jedes nach seiner Art: Vieh, Gewürm und Tiere des Feldes, ein jedes nach seiner Art. Und es geschah also.\n",
    "Und Gott machte die Tiere des Feldes, ein jedes nach seiner Art, und das Vieh nach seiner Art und alles Gewürm des Erdbodens nach seiner Art. Und Gott sah, dass es gut war.\n",
    "Und Gott sprach: Lasset uns Menschen machen, ein Bild, das uns gleich sei, die da herrschen über die Fische im Meer und über die Vögel unter dem Himmel und über das Vieh und über die ganze Erde und über alles Gewürm, das auf Erden kriecht.\n",
    "Und Gott schuf den Menschen ihm zum Bilde, zum Bilde Gottes schuf er ihn; und schuf sie als Mann und Frau.\n",
    "\"\"\""
   ]
  },
  {
   "cell_type": "markdown",
   "id": "392b74a1-45bd-4a77-a578-b053f84444a3",
   "metadata": {
    "deletable": false,
    "editable": false,
    "nbgrader": {
     "cell_type": "markdown",
     "checksum": "e28f61994d0eed84f86b01b9ca0a869e",
     "grade": false,
     "grade_id": "cell-a89c6919c4969cb2",
     "locked": true,
     "schema_version": 3,
     "solution": false,
     "task": false
    }
   },
   "source": [
    "**2+2+2+2+2+2=12 Punkte**\n",
    "\n",
    "1. Verwenden Sie List Comprehensions gegebenenfalls zusammen mit anderen Funktionen, um die Funktion `aufg10_1` zu programmieren; diese bekommt einen Text `t` übergeben und liefert die Liste der jeweils ersten Worte der Zeilen zurück.\n",
    "2. Verwenden Sie List Comprehensions gegebenenfalls zusammen mit anderen Funktionen, um die Funktion `aufg10_2` zu programmieren; diese bekommt einen Text `t` übergeben und liefert die Liste aller Zeilen zurück, die mit einem Grossbuchstaben beginnen.\n",
    "3. Verwenden Sie List Comprehensions gegebenenfalls zusammen mit anderen Funktionen, um die Funktion `aufg10_3` zu programmieren; diese bekommt einen Text `t` übergeben und liefert die Länge der längsten Zeile zurück.\n",
    "4. Verwenden Sie List Comprehensions gegebenenfalls zusammen mit anderen Funktionen, um die Funktion `aufg10_4` zu programmieren; diese bekommt einen Text `t` übergeben und liefert die längsten Zeile zurück.\n",
    "5. Verwenden Sie List Comprehensions gegebenenfalls zusammen mit anderen Funktionen, um die Funktion `aufg10_5` zu programmieren; diese bekommt einen Text `t` übergeben und liefert diejenige Zeile zurück, die die wenigsten Wörter enthält.\n",
    "6. Verwenden Sie List Comprehensions gegebenenfalls zusammen mit anderen Funktionen, um die Funktion `aufg10_6` zu programmieren; diese bekommt einen Text `t` übergeben und liefert das längste Wort zurück."
   ]
  },
  {
   "cell_type": "code",
   "execution_count": null,
   "id": "963538eb-08fa-4482-b1dc-9b050b8dc3d4",
   "metadata": {
    "deletable": false,
    "nbgrader": {
     "cell_type": "code",
     "checksum": "037c3ebb314e9c058f522e4fb9412d49",
     "grade": false,
     "grade_id": "cell-e4af689352fbb9f6",
     "locked": false,
     "schema_version": 3,
     "solution": true,
     "task": false
    }
   },
   "outputs": [],
   "source": [
    "def aufg10_1(t):\n",
    "    # YOUR CODE HERE\n",
    "    raise NotImplementedError()"
   ]
  },
  {
   "cell_type": "code",
   "execution_count": null,
   "id": "3cfe3a79-3f7e-4884-8804-b396e1ab8cfd",
   "metadata": {
    "deletable": false,
    "editable": false,
    "nbgrader": {
     "cell_type": "code",
     "checksum": "069dc3d4601038eff98784feefd22e8e",
     "grade": true,
     "grade_id": "cell-a71611b43743abc8",
     "locked": true,
     "points": 2,
     "schema_version": 3,
     "solution": false,
     "task": false
    }
   },
   "outputs": [],
   "source": [
    "# Hidden tests."
   ]
  },
  {
   "cell_type": "code",
   "execution_count": null,
   "id": "40bf7643-2755-403e-b9ba-32588d5a5908",
   "metadata": {
    "deletable": false,
    "nbgrader": {
     "cell_type": "code",
     "checksum": "69d62d38a009bdc788f3935496422bab",
     "grade": false,
     "grade_id": "cell-0cd342df14630e73",
     "locked": false,
     "schema_version": 3,
     "solution": true,
     "task": false
    }
   },
   "outputs": [],
   "source": [
    "def aufg10_2(t):\n",
    "    # YOUR CODE HERE\n",
    "    raise NotImplementedError()"
   ]
  },
  {
   "cell_type": "code",
   "execution_count": null,
   "id": "360c30dc-9e60-4dad-afaf-ed6311f0d8d4",
   "metadata": {
    "deletable": false,
    "editable": false,
    "nbgrader": {
     "cell_type": "code",
     "checksum": "b7a1387837f22736beaae8bb649e9e98",
     "grade": true,
     "grade_id": "cell-7bb005a730fa52e7",
     "locked": true,
     "points": 2,
     "schema_version": 3,
     "solution": false,
     "task": false
    }
   },
   "outputs": [],
   "source": [
    "# Hidden tests."
   ]
  },
  {
   "cell_type": "code",
   "execution_count": null,
   "id": "429836c8-3ef7-462b-abbf-e6d8aac37dc3",
   "metadata": {
    "deletable": false,
    "nbgrader": {
     "cell_type": "code",
     "checksum": "19cf81745ee1ea07aac3e422204e3211",
     "grade": false,
     "grade_id": "cell-ad679ca93bce36f0",
     "locked": false,
     "schema_version": 3,
     "solution": true,
     "task": false
    }
   },
   "outputs": [],
   "source": [
    "def aufg10_3(t):\n",
    "    # YOUR CODE HERE\n",
    "    raise NotImplementedError()"
   ]
  },
  {
   "cell_type": "code",
   "execution_count": null,
   "id": "97940861-c274-4cc6-8920-1892edbc93c5",
   "metadata": {
    "deletable": false,
    "editable": false,
    "nbgrader": {
     "cell_type": "code",
     "checksum": "5d67f21019efb953ec806ee09608c106",
     "grade": true,
     "grade_id": "cell-0e017c36a81c8832",
     "locked": true,
     "points": 2,
     "schema_version": 3,
     "solution": false,
     "task": false
    }
   },
   "outputs": [],
   "source": [
    "# Hidden tests."
   ]
  },
  {
   "cell_type": "code",
   "execution_count": null,
   "id": "e6db7def-0637-4d04-8aff-392a97eb5b18",
   "metadata": {
    "deletable": false,
    "nbgrader": {
     "cell_type": "code",
     "checksum": "5870c72664513830a05db6becd823ad1",
     "grade": false,
     "grade_id": "cell-ab49888d306763aa",
     "locked": false,
     "schema_version": 3,
     "solution": true,
     "task": false
    }
   },
   "outputs": [],
   "source": [
    "def aufg10_4(t):\n",
    "    # YOUR CODE HERE\n",
    "    raise NotImplementedError()"
   ]
  },
  {
   "cell_type": "code",
   "execution_count": null,
   "id": "ab53e714-a6f5-432c-ac86-fc0bfb969c00",
   "metadata": {
    "deletable": false,
    "editable": false,
    "nbgrader": {
     "cell_type": "code",
     "checksum": "55f4c335af9e245e2794aad78e0c6209",
     "grade": true,
     "grade_id": "cell-8dfef1c3dff81ea9",
     "locked": true,
     "points": 2,
     "schema_version": 3,
     "solution": false,
     "task": false
    }
   },
   "outputs": [],
   "source": [
    "# Hidden tests."
   ]
  },
  {
   "cell_type": "code",
   "execution_count": null,
   "id": "338f3a7a-d829-4f9d-abf4-ebd02173e430",
   "metadata": {
    "deletable": false,
    "nbgrader": {
     "cell_type": "code",
     "checksum": "15a59273d447947857b6c10885b5f847",
     "grade": false,
     "grade_id": "cell-75011bff78352ec4",
     "locked": false,
     "schema_version": 3,
     "solution": true,
     "task": false
    }
   },
   "outputs": [],
   "source": [
    "def aufg10_5(t):\n",
    "    # YOUR CODE HERE\n",
    "    raise NotImplementedError()"
   ]
  },
  {
   "cell_type": "code",
   "execution_count": null,
   "id": "d5462c92-4ac8-4f65-93be-ff7d8f7e369a",
   "metadata": {
    "deletable": false,
    "editable": false,
    "nbgrader": {
     "cell_type": "code",
     "checksum": "5230358beedfb831708244ac540dcd2d",
     "grade": true,
     "grade_id": "cell-5e38b4e1dcf72421",
     "locked": true,
     "points": 2,
     "schema_version": 3,
     "solution": false,
     "task": false
    }
   },
   "outputs": [],
   "source": [
    "# Hidden tests."
   ]
  },
  {
   "cell_type": "code",
   "execution_count": null,
   "id": "5cdbbab7-f8d5-497e-b23d-9480db38b1b0",
   "metadata": {
    "deletable": false,
    "nbgrader": {
     "cell_type": "code",
     "checksum": "b16c09566c1d35ce4c85c7d7984b1187",
     "grade": false,
     "grade_id": "cell-754848ecf6b0cb6b",
     "locked": false,
     "schema_version": 3,
     "solution": true,
     "task": false
    }
   },
   "outputs": [],
   "source": [
    "def aufg10_6(t):\n",
    "    # YOUR CODE HERE\n",
    "    raise NotImplementedError()"
   ]
  },
  {
   "cell_type": "code",
   "execution_count": null,
   "id": "12fd0f39-a540-4419-931e-b7b0b73b7b74",
   "metadata": {
    "deletable": false,
    "editable": false,
    "nbgrader": {
     "cell_type": "code",
     "checksum": "77cc646509e8d1be69dbb10b63ea97a0",
     "grade": true,
     "grade_id": "cell-3d9294dc68ca9f35",
     "locked": true,
     "points": 2,
     "schema_version": 3,
     "solution": false,
     "task": false
    }
   },
   "outputs": [],
   "source": [
    "# Hidden tests."
   ]
  },
  {
   "cell_type": "markdown",
   "id": "9f2d60d7-5794-4c44-95fd-8d7dfb70921e",
   "metadata": {
    "deletable": false,
    "editable": false,
    "nbgrader": {
     "cell_type": "markdown",
     "checksum": "41931e94e9cbc0106481569c331c90cd",
     "grade": false,
     "grade_id": "cell-3553b60f236acb6b",
     "locked": true,
     "schema_version": 3,
     "solution": false,
     "task": false
    }
   },
   "source": [
    "## Aufgabe 11\n",
    "\n",
    "**2+2+2 = 6 Punkte**\n",
    "\n",
    "Gegeben sei das folgende NDArray `a`: "
   ]
  },
  {
   "cell_type": "code",
   "execution_count": null,
   "id": "1a9d247b-0e01-48f6-aa40-4e37be25f78f",
   "metadata": {
    "deletable": false,
    "editable": false,
    "nbgrader": {
     "cell_type": "code",
     "checksum": "f9afe3c10437a58f2b122fe143745f2c",
     "grade": false,
     "grade_id": "cell-61b83295b8272797",
     "locked": true,
     "schema_version": 3,
     "solution": false,
     "task": false
    }
   },
   "outputs": [],
   "source": [
    "import numpy as np\n",
    "a = np.array([256, 654, 685, 943, 278,  18, 213, 703, 410,  99, 189, 845, 498,\n",
    "              604, 862, 166, 542, 356, 752, 688, 160, 331,  40, 272,  51, 416,\n",
    "              174, 355, 772, 575, 186,   2, 241, 639, 780, 278, 697, 887, 357,\n",
    "              105, 460,  44, 939, 849, 911,  64, 185, 516, 987, 507, 739,  30,\n",
    "              594, 861, 448, 841, 172, 931, 161, 798, 135, 605, 578, 456, 657,\n",
    "              8, 937, 719, 440, 106, 207, 273, 665, 477, 831, 308, 749, 734,\n",
    "              701, 742])"
   ]
  },
  {
   "cell_type": "markdown",
   "id": "0d44267f-3bb0-4e13-bb42-e2cf4a881bfb",
   "metadata": {
    "deletable": false,
    "editable": false,
    "nbgrader": {
     "cell_type": "markdown",
     "checksum": "059b536a1ba31917833a5921bef2009e",
     "grade": false,
     "grade_id": "cell-c11452aff09812c3",
     "locked": true,
     "schema_version": 3,
     "solution": false,
     "task": false
    }
   },
   "source": [
    "Geben Sie numpy-Code an, um ...\n",
    "1. alle Zahlen in `a` zurückzugeben, die kleiner als 50 sind. Speichern Sie das Ergebnis in der Variablen `a1`.\n",
    "2. alle Zahlen in `a` zurückzugeben, die gerade sind. Speichern Sie das Ergebnis in der Variablen `a2`.\n",
    "3. alle Zahlen in `a` auf `0` zu setzen, die grösser als 100 sind. Speichern Sie dieses Array in der Variablen `a3`."
   ]
  },
  {
   "cell_type": "code",
   "execution_count": null,
   "id": "f87e4355-ca4e-48fe-b1fb-ada0b9f1cd1b",
   "metadata": {
    "deletable": false,
    "nbgrader": {
     "cell_type": "code",
     "checksum": "9861a40d9dce6a40a9411972c25f9962",
     "grade": false,
     "grade_id": "cell-efc385313a322698",
     "locked": false,
     "schema_version": 3,
     "solution": true,
     "task": false
    }
   },
   "outputs": [],
   "source": [
    "# Definition von a1\n",
    "# YOUR CODE HERE\n",
    "raise NotImplementedError()"
   ]
  },
  {
   "cell_type": "code",
   "execution_count": null,
   "id": "e8f4fe12-1f56-47da-a9cc-c145688fb19e",
   "metadata": {
    "deletable": false,
    "editable": false,
    "nbgrader": {
     "cell_type": "code",
     "checksum": "55b4f3fd44fce996776a6e25a4aa60d2",
     "grade": true,
     "grade_id": "cell-bc9807954634cdc5",
     "locked": true,
     "points": 2,
     "schema_version": 3,
     "solution": false,
     "task": false
    }
   },
   "outputs": [],
   "source": [
    "# Hidden tests."
   ]
  },
  {
   "cell_type": "code",
   "execution_count": null,
   "id": "2bdcb3f6-f303-4fd2-ad32-236d3dd2ef53",
   "metadata": {
    "deletable": false,
    "nbgrader": {
     "cell_type": "code",
     "checksum": "2ded146643176668653f4cb8752cb6e5",
     "grade": false,
     "grade_id": "cell-c1d98abd31243b0b",
     "locked": false,
     "schema_version": 3,
     "solution": true,
     "task": false
    }
   },
   "outputs": [],
   "source": [
    "# Definition von a2\n",
    "# YOUR CODE HERE\n",
    "raise NotImplementedError()"
   ]
  },
  {
   "cell_type": "code",
   "execution_count": null,
   "id": "21683d9a-5942-4015-981c-0e4aa3cba45b",
   "metadata": {
    "deletable": false,
    "editable": false,
    "nbgrader": {
     "cell_type": "code",
     "checksum": "0aadc2c4cb228f787f32feb62fb03e12",
     "grade": true,
     "grade_id": "cell-4a63b4e4e76f0d26",
     "locked": true,
     "points": 2,
     "schema_version": 3,
     "solution": false,
     "task": false
    }
   },
   "outputs": [],
   "source": [
    "# Hidden tests."
   ]
  },
  {
   "cell_type": "code",
   "execution_count": null,
   "id": "9a4d5a94-71ba-4ae9-b922-8ba5a2e8b6fa",
   "metadata": {
    "deletable": false,
    "nbgrader": {
     "cell_type": "code",
     "checksum": "772d02350359feb34e542f7260376530",
     "grade": false,
     "grade_id": "cell-5c737c4af5f11890",
     "locked": false,
     "schema_version": 3,
     "solution": true,
     "task": false
    }
   },
   "outputs": [],
   "source": [
    "# Definition von a3\n",
    "a3=a\n",
    "# YOUR CODE HERE\n",
    "raise NotImplementedError()"
   ]
  },
  {
   "cell_type": "code",
   "execution_count": null,
   "id": "dd0eba19-6850-4b05-a21a-50645de4bc2c",
   "metadata": {
    "deletable": false,
    "editable": false,
    "nbgrader": {
     "cell_type": "code",
     "checksum": "08c809719d20818a2fa43441d0168cc3",
     "grade": true,
     "grade_id": "cell-9854968229840a6c",
     "locked": true,
     "points": 2,
     "schema_version": 3,
     "solution": false,
     "task": false
    }
   },
   "outputs": [],
   "source": [
    "# Hidden tests."
   ]
  },
  {
   "cell_type": "code",
   "execution_count": null,
   "id": "d98009cc-02ea-4294-844b-f124d2dbf5c7",
   "metadata": {},
   "outputs": [],
   "source": []
  },
  {
   "cell_type": "code",
   "execution_count": null,
   "id": "e4e809d2-adb1-41b8-b5ec-a2eacbb3d7b2",
   "metadata": {},
   "outputs": [],
   "source": []
  }
 ],
 "metadata": {
  "kernelspec": {
   "display_name": "Python 3 (ipykernel)",
   "language": "python",
   "name": "python3"
  },
  "language_info": {
   "codemirror_mode": {
    "name": "ipython",
    "version": 3
   },
   "file_extension": ".py",
   "mimetype": "text/x-python",
   "name": "python",
   "nbconvert_exporter": "python",
   "pygments_lexer": "ipython3",
   "version": "3.11.6"
  }
 },
 "nbformat": 4,
 "nbformat_minor": 5
}
