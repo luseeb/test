{
  "cells": [
    {
      "cell_type": "markdown",
      "id": "23984ff9",
      "metadata": {
        "id": "23984ff9"
      },
      "source": [
        "# Probeprüfung\n",
        "\n",
        "Gesamtpunktzahl: 63 Punkte"
      ]
    },
    {
      "cell_type": "markdown",
      "id": "b9985568",
      "metadata": {
        "id": "b9985568"
      },
      "source": [
        "## Teil 1 - Python Grundlagen"
      ]
    },
    {
      "cell_type": "markdown",
      "id": "ba2e9f22",
      "metadata": {
        "id": "ba2e9f22"
      },
      "source": [
        "### Aufgabe 1\n",
        "**3 Punkte**\n",
        "\n",
        "Schreiben Sie eine Funktion `list_conversion`, die jedes Element einer Liste von Pound-Angaben in Kilogramm umrechnet (1lbs = 0.4535kg). Die Funktion erhält eine Liste als Input und gibt eine andere Liste mit den gerundeten Werten in Kilogramm zurück.\n",
        "\n",
        "```python\n",
        ">>> list_conversion([100, 125, 150])\n",
        "[45, 57, 68]\n",
        "```"
      ]
    },
    {
      "cell_type": "code",
      "source": [
        "def list_conversion(lst):\n",
        "  #YOUR CODE HERE"
      ],
      "metadata": {
        "id": "KOodbgRBAqh6"
      },
      "id": "KOodbgRBAqh6",
      "execution_count": null,
      "outputs": []
    },
    {
      "cell_type": "code",
      "source": [
        "assert list_conversion([100, 125, 150]) == [45, 57, 68]"
      ],
      "metadata": {
        "id": "bfE5KM1ABN91"
      },
      "id": "bfE5KM1ABN91",
      "execution_count": null,
      "outputs": []
    },
    {
      "cell_type": "markdown",
      "id": "e118411d",
      "metadata": {
        "id": "e118411d"
      },
      "source": [
        "### Aufgabe 2\n",
        "**3 Punkte**\n",
        "\n",
        "Implementieren Sie eine Funktion `palindrom`, die testet, ob ein String ein Palindrom ist, d.h. gleiche Buchstabenfolge vorwärts wie auch rückwärts. Stellen Sie ausserdem sicher, dass Gross-/Kleinschreibung keine Rolle spielt.\n",
        "\n",
        "Beispiel:\n",
        "```python\n",
        ">>> palindrom(\"Anna\")\n",
        "True\n",
        ">>> palindrom(\"Simon\")\n",
        "False\n",
        "```\n"
      ]
    },
    {
      "cell_type": "code",
      "execution_count": null,
      "id": "60bcb8a5",
      "metadata": {
        "id": "60bcb8a5"
      },
      "outputs": [],
      "source": [
        "def palindrom(s):\n",
        "    # YOUR CODE HERE"
      ]
    },
    {
      "cell_type": "code",
      "execution_count": null,
      "id": "454c0a76",
      "metadata": {
        "id": "454c0a76"
      },
      "outputs": [],
      "source": [
        "assert palindrom(\"Anna\")\n",
        "assert not palindrom(\"Simon\")"
      ]
    },
    {
      "cell_type": "markdown",
      "source": [
        "### Aufgabe 3\n",
        "**3 Punkte**\n",
        "\n",
        "Implementieren Sie die Methode `list_common`, die die Gemeinsamkeiten zweier Listen berechnet, d.h. alle Elemente, die in beiden Listen enthalten sind.\n",
        "\n",
        "```python\n",
        ">>> list_common([1,2,3], [2,3,4])\n",
        "[2,3]\n",
        "```"
      ],
      "metadata": {
        "id": "gMmVDnZt-1LG"
      },
      "id": "gMmVDnZt-1LG"
    },
    {
      "cell_type": "code",
      "source": [
        "def list_common(l1, l2):\n",
        "  # YOUR CODE HERE"
      ],
      "metadata": {
        "id": "SHCPMUMiFhW-"
      },
      "id": "SHCPMUMiFhW-",
      "execution_count": null,
      "outputs": []
    },
    {
      "cell_type": "code",
      "source": [
        "assert list_common([1,2,3], [2,3,4]) == [2,3]"
      ],
      "metadata": {
        "id": "PaFBRqspFm3y"
      },
      "id": "PaFBRqspFm3y",
      "execution_count": null,
      "outputs": []
    },
    {
      "cell_type": "markdown",
      "source": [
        "### Aufgabe 4\n",
        "**3 Punkte**\n",
        "\n",
        "Implementieren Sie eine Funktion `group_by_number_of_characters`, die eine Liste von Wörtern in einem Dictionary gruppiert, basierend auf der Anzahl Buchstaben.\n",
        "\n",
        "Beispiel:\n",
        "```python\n",
        ">>> group_by_number_of_characters([\"Simona\", \"Max\", \"Felix\", \"Malea\", \"Mailo\", \"Lucian\"])\n",
        "{3: [\"Max\"], 5: [\"Felix\", \"Malea\", \"Mailo\"], 6: [\"Simona\", \"Lucian\"]}\n",
        "```"
      ],
      "metadata": {
        "id": "2aygJUqFFugn"
      },
      "id": "2aygJUqFFugn"
    },
    {
      "cell_type": "code",
      "source": [
        "def group_by_number_of_characters(words):\n",
        "  # YOUR CODE HERE"
      ],
      "metadata": {
        "id": "m-z8bIXVGwXp"
      },
      "id": "m-z8bIXVGwXp",
      "execution_count": null,
      "outputs": []
    },
    {
      "cell_type": "code",
      "source": [
        "assert group_by_number_of_characters([\"Simona\", \"Max\", \"Felix\", \"Malea\", \"Mailo\", \"Lucian\"]) == {3: [\"Max\"], 5: [\"Felix\", \"Malea\", \"Mailo\"], 6: [\"Simona\", \"Lucian\"]}"
      ],
      "metadata": {
        "id": "F57KogqIG9It"
      },
      "id": "F57KogqIG9It",
      "execution_count": null,
      "outputs": []
    },
    {
      "cell_type": "markdown",
      "source": [
        "### Aufgabe 5\n",
        "**3 Punkte**\n",
        "\n",
        "Schreiben Sie eine Funktion `remove_special_characters`, die alle Sonderzeichen (\"+-()_\") und Leerschläge aus einem gegebenen String entfernt.\n",
        "Beispiel:\n",
        "```python\n",
        ">>> remove_special_characters(\"+41 (79)-123 45 67\")\n",
        "\"41791234567\"\n",
        "```"
      ],
      "metadata": {
        "id": "9wDOUGvvHN8j"
      },
      "id": "9wDOUGvvHN8j"
    },
    {
      "cell_type": "code",
      "source": [
        "def remove_special_characters(s):\n",
        "  # YOUR CODE HERE"
      ],
      "metadata": {
        "id": "idVWIAonIClr"
      },
      "id": "idVWIAonIClr",
      "execution_count": null,
      "outputs": []
    },
    {
      "cell_type": "code",
      "source": [
        "assert remove_special_characters(\"+41 (79)-123 45 67\") == \"41791234567\""
      ],
      "metadata": {
        "id": "uzBaUtwjIJPg"
      },
      "id": "uzBaUtwjIJPg",
      "execution_count": null,
      "outputs": []
    },
    {
      "cell_type": "markdown",
      "source": [
        "### Aufgabe 6\n",
        "**3 Punkte**\n",
        "\n",
        "Schreiben Sie eine Funktion `tuple_to_dict`, die eine Liste von Tupeln in einen Dictionary umwandelt, d.h. die ersten Elemente im Tupel werden zum Schlüssel und das zweite Element wird zum Wert.\n",
        "Beispiel:\n",
        "```python\n",
        ">>> tuple_to_dict([(\"Max\", 4), (\"Malea\", 3), (\"Mailo\", 1), (\"Felix\", 2)])\n",
        "{\"Max\": 4, \"Malea\": 3, \"Mailo\": 1, \"Felix\": 2}\n",
        "```"
      ],
      "metadata": {
        "id": "GErMChTxIQ-y"
      },
      "id": "GErMChTxIQ-y"
    },
    {
      "cell_type": "code",
      "source": [
        "def tuple_to_dict(tpls):\n",
        "  # YOUR CODE HERE"
      ],
      "metadata": {
        "id": "BW-x7euFJP4C"
      },
      "id": "BW-x7euFJP4C",
      "execution_count": null,
      "outputs": []
    },
    {
      "cell_type": "code",
      "source": [
        "assert tuple_to_dict([(\"Max\", 4), (\"Malea\", 3), (\"Mailo\", 1), (\"Felix\", 2)]) == {\"Max\": 4, \"Malea\": 3, \"Mailo\": 1, \"Felix\": 2}"
      ],
      "metadata": {
        "id": "4x7o-NdTJX0F"
      },
      "id": "4x7o-NdTJX0F",
      "execution_count": null,
      "outputs": []
    },
    {
      "cell_type": "markdown",
      "source": [
        "## Teil 2 - Objektorientierte Programmierung"
      ],
      "metadata": {
        "id": "2XOKqzaqiQGM"
      },
      "id": "2XOKqzaqiQGM"
    },
    {
      "cell_type": "markdown",
      "source": [
        "### Aufgabe 7\n",
        "\n",
        "**3*3 Punkte = 9 Punkte**\n",
        "\n",
        "Programmieren Sie eine Klasse `Rundungszahl`, um positive Dezimalzahlen mit begrenzter Nachkommastellenanzahl zu repräsentieren.\n",
        "\n",
        "1. Verwenden Sie einen Konstruktor, der eine Gleitkommazahl (float) und eine positive ganze Zahl (int) als Anzahl der Nachkommastellen benötigt.\n",
        "2. Programmieren Sie eine Methode addiere, die zwei Rundungszahl-Objekte addiert und ein neues Rundungszahl-Objekt zurückgibt. Die neue Zahl soll ebenfalls auf die kleinere der beiden Nachkommastellen gerundet werden.\n",
        "3. Programmieren Sie die Methode istGanzzahlig, die testet, ob die Zahl (nach Rundung) eine ganze Zahl ist.\n",
        "\n",
        "Beispiele:\n",
        "```python\n",
        ">>> Rundungszahl(3.14159, 2)\n",
        "3.14\n",
        ">>> Rundungszahl(2.71828, 3)\n",
        "2.718\n",
        ">>> r3 = r1.addiere(r2)\n",
        ">>> print(r3)\n",
        "5.86 #(gerundet auf 2 Nachkommastellen)\n",
        ">>> print(r3.istGanzzahlig())\n",
        "False\n",
        "```"
      ],
      "metadata": {
        "id": "AQ-FC9z6iirL"
      },
      "id": "AQ-FC9z6iirL"
    },
    {
      "cell_type": "code",
      "source": [
        "### YOUR CODE HERE\n",
        "class Rundungszahl:\n",
        "    def __init__():\n",
        "        # YOUR CODE HERE\n",
        "\n",
        "    def __str__(self):\n",
        "        format_str = \"{:.\" + str(self.nachkommastellen) + \"f}\"\n",
        "        return format_str.format(round(self.zahl, self.nachkommastellen))\n",
        "\n",
        "    def addiere():\n",
        "        # YOUR CODE HERE\n",
        "\n",
        "    def istGanzzahlig():\n",
        "        # YOUR CODE HERE"
      ],
      "metadata": {
        "id": "H30yfqLviURH"
      },
      "id": "H30yfqLviURH",
      "execution_count": null,
      "outputs": []
    },
    {
      "cell_type": "code",
      "source": [
        "r1 = Rundungszahl(3.14159, 2)\n",
        "assert str(r1) == \"3.14\"\n",
        "r2 = Rundungszahl(2.71828, 3)\n",
        "assert str(r2) == \"2.718\"\n",
        "r3 =  r1.addiere(r2)\n",
        "assert str(r3) == \"5.86\"\n",
        "assert r3.istGanzzahlig() == False"
      ],
      "metadata": {
        "id": "bY7REVE-s_jp"
      },
      "id": "bY7REVE-s_jp",
      "execution_count": null,
      "outputs": []
    },
    {
      "cell_type": "markdown",
      "source": [
        "### Aufgabe 8\n",
        "\n",
        "**4*3 Punkte = 12 Punkte**\n",
        "\n",
        "Programmieren Sie eine Klasse `Lifts`, die von der Klasse `dict` erbt und Weightlifting Bewegungen als Schlüssel sowie die dazugehörige Bestleistung als Wert enthalten. \\\n",
        "\n",
        "Implementieren Sie folgende Methoden: \\\n",
        "1. Die String-Repräsentation von `Lifts`-Objekten, so dass Ausgaben korrekt dargestellt werden (siehe Beispiel unten).\n",
        "2. `personal_record`, welche den Wert einer bestehenden Bewegung innerhalb eines `Lifts`-Objekt durch den neuen Wert ersetzt oder falls die Bewegung noch nicht vorhanden ist, diese mit dem entsprechenden Wert dem `Lifts`-Objekt hinzufügt.\n",
        "3. `percentage`, welche den gerundeten prozentualen Wert einer bestimmten Bewegung zurückgibt ohne das `Lifts`-Objekt zu verändern.\n",
        "4. `percentage_list`, welche die gerundeten prozentualen Werte (50, 55, 60, 65, 70, 75, 80, 85, 90, 95, 100%) für eine bestimmte Bewegung als `dictionary`zurückgibt.\n",
        "\n",
        "Beispiele:\n",
        "```python\n",
        ">>> a = Lifts({\"Snatch\": 58, \"Clean & Jerk\": 65, \"Back Squat\": 85})\n",
        ">>> str(a)\n",
        "\"Snatch: 58kg, Clean & Jerk: 65kg, Back Squat: 85kg\"\n",
        ">>> a.personal_record(\"Snatch\", 60)\n",
        ">>> a.get(\"Snatch\")\n",
        "Snatch: 60kg\n",
        ">>> a.personal_record(\"Deadlift\", 105)\n",
        ">>> a.percentage(\"Back Squat\", 0.5)\n",
        "\"42kg\"\n",
        ">>> a.percentage_list(\"Clean & Jerk\")\n",
        "{\"50%\": 33, \"55%\": 36, \"60%\": 39, \"65%\": 42, \"70%\": 46, \"75%\": 49, \"80%\": 52, \"85%\": 55, \"90%\": 59, \"95%\": 62, \"100%\": 65}\n",
        "```"
      ],
      "metadata": {
        "id": "aXpz53DmmJx6"
      },
      "id": "aXpz53DmmJx6"
    },
    {
      "cell_type": "code",
      "source": [
        "# YOUR CODE HERE\n",
        "class Lifts(dict):\n",
        "    def __str__(self):\n",
        "      # YOUR CODE HERE\n",
        "\n",
        "    def personal_record():\n",
        "        # YOUR CODE HERE\n",
        "\n",
        "    def percentage():\n",
        "        # YOUR CODE HERE\n",
        "\n",
        "    def percentage_list():\n",
        "        # YOUR CODE HERE"
      ],
      "metadata": {
        "id": "viCjgVcmIwMn"
      },
      "id": "viCjgVcmIwMn",
      "execution_count": 20,
      "outputs": []
    },
    {
      "cell_type": "code",
      "source": [
        "a = Lifts({\"Snatch\": 58, \"Clean & Jerk\": 65, \"Back Squat\": 85})\n",
        "assert str(a) == \"Snatch: 58kg, Clean & Jerk: 65kg, Back Squat: 85kg\"\n",
        "a.personal_record(\"Snatch\", 60)\n",
        "assert a.get(\"Snatch\") == 60\n",
        "a.personal_record(\"Deadlift\", 105)\n",
        "assert a.get(\"Deadlift\") == 105\n",
        "assert a.percentage(\"Back Squat\", 0.5) == \"42kg\"\n",
        "assert a.percentage_list(\"Clean & Jerk\") == {\"50%\": 32, \"55%\": 36, \"60%\": 39, \"65%\": 42, \"70%\": 46, \"75%\": 49, \"80%\": 52, \"85%\": 55, \"90%\": 58, \"95%\": 62, \"100%\": 65}"
      ],
      "metadata": {
        "id": "5C7auYq9I2Yy"
      },
      "id": "5C7auYq9I2Yy",
      "execution_count": null,
      "outputs": []
    },
    {
      "cell_type": "markdown",
      "source": [
        "## Teil 3 - Funktionale Programmierung und Numpy"
      ],
      "metadata": {
        "id": "WEF8qDrellz4"
      },
      "id": "WEF8qDrellz4"
    },
    {
      "cell_type": "markdown",
      "source": [
        "### Aufgabe 9\n",
        "**3*2 Punkte = 6 Punkte**\n",
        "\n",
        "1. Verwenden Sie eine List Comprehension, um eine Liste der Längen aller Elemente der vorgegebenen Liste zu erzeugen; speichern Sie diese Liste in der Variablen aufg_a.\n",
        "2. Verwenden Sie eine List Comprehension, um die Länge des kürzesten Elements der vorgegebenen Liste zu berechnen; speichern Sie den Namen des Elements in der Variablen aufg_b.\n",
        "3. Verwenden Sie eine List Comprehension, um die Elemente der vorgebenen Liste, welche aus mehrerern Wörtern (getrennt durch Leerschlag) bestehen, zurückzugeben. Speichern Sie diese Liste in der Variablen aufg_c."
      ],
      "metadata": {
        "id": "IiPvtpEAL7EK"
      },
      "id": "IiPvtpEAL7EK"
    },
    {
      "cell_type": "code",
      "source": [
        "lst = [\"Snatch\", \"Clean & Jerk\", \"Back Squat\", \"Front Squat\", \"Deadlift\", \"Overhead Squat\", \"Push Press\", \"Jerk\", \"Clean\"]"
      ],
      "metadata": {
        "id": "mjSnqVHOlsQx"
      },
      "id": "mjSnqVHOlsQx",
      "execution_count": null,
      "outputs": []
    },
    {
      "cell_type": "code",
      "source": [
        "# YOUR CODE HERE"
      ],
      "metadata": {
        "id": "eD-zH6WJL4no"
      },
      "id": "eD-zH6WJL4no",
      "execution_count": null,
      "outputs": []
    },
    {
      "cell_type": "code",
      "source": [
        "assert aufg_a == [6, 12, 10, 11, 8, 14, 10, 4, 5]\n",
        "assert aufg_b == \"Jerk\"\n",
        "assert aufg_c == [\"Clean & Jerk\", \"Back Squat\", \"Front Squat\", \"Overhead Squat\", \"Push Press\"]"
      ],
      "metadata": {
        "id": "MNILayEhOLhN"
      },
      "id": "MNILayEhOLhN",
      "execution_count": null,
      "outputs": []
    },
    {
      "cell_type": "markdown",
      "source": [
        "### Aufgabe 10\n",
        "**3*2=6 Punkte**"
      ],
      "metadata": {
        "id": "JK_BGDkcPdYU"
      },
      "id": "JK_BGDkcPdYU"
    },
    {
      "cell_type": "code",
      "source": [
        "t = \"\"\"Eat meat and vegetables, nuts and seeds, some fruit, little starch and no sugar. Keep intake to levels that will support exercise but not body fat.\n",
        "Practice and train major lifts: Deadlift, clean, squat, presses, C&J, and snatch. Similarly, master the basics of gymnastics: pull-ups, dips, rope climb, push-ups, sit-ups, presses to handstand, pirouettes, flips, splits, and holds. Bike, run, swim, row, etc, hard and fast.\n",
        "Five or six days per week mix these elements in as many combinations and patterns as creativity will allow.\n",
        "Routine is the enemy.\n",
        "Keep workouts short and intense!\n",
        "Regularly learn and play new sports\"\"\""
      ],
      "metadata": {
        "id": "O6YLS9NrPZv1"
      },
      "id": "O6YLS9NrPZv1",
      "execution_count": 24,
      "outputs": []
    },
    {
      "cell_type": "markdown",
      "source": [
        "1. Verwenden Sie List Comprehensions gegebenenfalls zusammen mit anderen Funktionen, um die Funktion aufg10_1 zu programmieren; diese bekommt einen Text t übergeben und liefert diejenige Zeile zurück, die die wenigsten Wörter enthält.\n",
        "\n",
        "2. Verwenden Sie List Comprehensions gegebenenfalls zusammen mit anderen Funktionen, um die Funktion aufg10_2 zu programmieren; diese bekommt einen Text t übergeben und liefert die längsten Zeile und deren Länge zurück.\n",
        "\n",
        "3. Verwenden Sie List Comprehensions gegebenenfalls zusammen mit anderen Funktionen, um die Funktion aufg10_3 zu programmieren; diese bekommt einen Text t übergeben und liefert das längste Wort zurück."
      ],
      "metadata": {
        "id": "kvvex_ZpSfLZ"
      },
      "id": "kvvex_ZpSfLZ"
    },
    {
      "cell_type": "code",
      "source": [
        "# YOUR CODE HERE"
      ],
      "metadata": {
        "id": "sDq7e2agVX7s"
      },
      "id": "sDq7e2agVX7s",
      "execution_count": 25,
      "outputs": []
    },
    {
      "cell_type": "code",
      "source": [
        "assert aufg10_1(t) == \"Routine is the enemy.\"\n",
        "assert aufg10_2(t) == (274,\n",
        " 'Practice and train major lifts: Deadlift, clean, squat, presses, C&J, and snatch. Similarly, master the basics of gymnastics: pull-ups, dips, rope climb, push-ups, sit-ups, presses to handstand, pirouettes, flips, splits, and holds. Bike, run, swim, row, etc, hard and fast.')\n",
        "assert aufg10_3(t) == \"combinations\""
      ],
      "metadata": {
        "id": "Iz9R-BM_Vb2c"
      },
      "id": "Iz9R-BM_Vb2c",
      "execution_count": 27,
      "outputs": []
    },
    {
      "cell_type": "markdown",
      "source": [
        "### Aufgabe 11\n",
        "**6 Punkte**\n",
        "\n",
        "Implementieren Sie eine Funktion `vector_difference`, die zwei gleich lange Listen (Vektoren) nimmt und eine neue Liste zurückgibt, in der jeweils die Differenz der Elemente berechnet wurde. Verwenden Sie dazu ausschließlich `map`, `zip` und `lambda`. Beispiel:\n",
        "\n",
        "```python\n",
        ">>> vector_difference([5, 10, 15], [2, 4, 7])\n",
        "[3, 6, 8]\n",
        "```"
      ],
      "metadata": {
        "id": "2FYjBK1iUPPj"
      },
      "id": "2FYjBK1iUPPj"
    },
    {
      "cell_type": "code",
      "source": [
        "# YOUR CODE HERE"
      ],
      "metadata": {
        "id": "n0OME6VFUUmZ"
      },
      "id": "n0OME6VFUUmZ",
      "execution_count": null,
      "outputs": []
    },
    {
      "cell_type": "code",
      "source": [
        "assert vector_difference([5, 10, 15], [2, 4, 7]) == [3, 6, 8]\n",
        "assert vector_difference([1, 1], [1, 1]) == [0, 0]\n",
        "assert vector_difference([0, 5], [3, 2]) == [-3, 3]"
      ],
      "metadata": {
        "id": "huJvJYIMgqx7"
      },
      "id": "huJvJYIMgqx7",
      "execution_count": null,
      "outputs": []
    },
    {
      "cell_type": "markdown",
      "source": [
        "### Aufgabe 12\n",
        "**3*2 = 6 Punkte**\n",
        "\n",
        "Gegeben sei das folgende NDArray `b`:"
      ],
      "metadata": {
        "id": "Mo0NEdu0UrAT"
      },
      "id": "Mo0NEdu0UrAT"
    },
    {
      "cell_type": "code",
      "source": [
        "import numpy as np\n",
        "\n",
        "b = np.array([34, 76, 121, 190, 55, 210, 99, 18, 38, 105])"
      ],
      "metadata": {
        "id": "f4aSMjphUv4G"
      },
      "id": "f4aSMjphUv4G",
      "execution_count": null,
      "outputs": []
    },
    {
      "cell_type": "markdown",
      "source": [
        "Geben Sie NumPy-Code an, um:\n",
        "\n",
        "1. alle Zahlen in b zurückzugeben, die größer als 100 sind. Speichern Sie das Ergebnis in der Variablen b1.\n",
        "\n",
        "2. alle Zahlen in b zurückzugeben, die durch 5 teilbar sind. Speichern Sie das Ergebnis in der Variablen b2.\n",
        "\n",
        "3. alle Zahlen in b durch -1 zu ersetzen, die kleiner als 50 sind. Speichern Sie dieses Array in der Variablen b3."
      ],
      "metadata": {
        "id": "wXH19fJacHdH"
      },
      "id": "wXH19fJacHdH"
    },
    {
      "cell_type": "code",
      "source": [
        "# YOUR CODE HERE"
      ],
      "metadata": {
        "id": "UnKdOvkOcOM0"
      },
      "id": "UnKdOvkOcOM0",
      "execution_count": null,
      "outputs": []
    },
    {
      "cell_type": "code",
      "source": [
        "assert np.array_equal(b1, np.array([121, 190, 210, 105]))\n",
        "assert np.array_equal(b2, np.array([190, 55, 210, 105]))\n",
        "assert np.array_equal(b3, np.array([-1, 76, 121, 190, 55, 210, 99, -1, -1, 105]))"
      ],
      "metadata": {
        "id": "6Ap_aQCzckVs"
      },
      "id": "6Ap_aQCzckVs",
      "execution_count": null,
      "outputs": []
    },
    {
      "cell_type": "code",
      "source": [],
      "metadata": {
        "id": "gjoH082DrHFq"
      },
      "id": "gjoH082DrHFq",
      "execution_count": null,
      "outputs": []
    }
  ],
  "metadata": {
    "kernelspec": {
      "display_name": "base",
      "language": "python",
      "name": "python3"
    },
    "language_info": {
      "codemirror_mode": {
        "name": "ipython",
        "version": 3
      },
      "file_extension": ".py",
      "mimetype": "text/x-python",
      "name": "python",
      "nbconvert_exporter": "python",
      "pygments_lexer": "ipython3",
      "version": "3.8.8"
    },
    "colab": {
      "provenance": []
    }
  },
  "nbformat": 4,
  "nbformat_minor": 5
}