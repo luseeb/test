{
  "cells": [
    {
      "cell_type": "markdown",
      "metadata": {
        "id": "yNPfvB8jE-Aa"
      },
      "source": [
        "# Lernkontrolle Python"
      ]
    },
    {
      "cell_type": "markdown",
      "metadata": {
        "id": "3ZVWbaOQE-Ab"
      },
      "source": [
        "# Aufgabe 1.1 (3 Punkte)\n",
        "\n",
        "Programmieren Sie eine Klasse `Lift`, die eine Weightlifting Bewegung und die dazugehörige Bestleistung speichert.\n",
        "\n",
        "Beispielanwendung:\n",
        "```python\n",
        ">>> sn = Lift(\"Snatch\",58)\n",
        ">>> sn\n",
        "Snatch: 58\n",
        "```"
      ]
    },
    {
      "cell_type": "code",
      "execution_count": 1,
      "metadata": {
        "id": "qvb_I4dyE-Ac"
      },
      "outputs": [],
      "source": [
        "class Lift:\n",
        "\n",
        "    def __init__(self, lift, pr):\n",
        "        self.lift = lift\n",
        "        self.pr = pr\n",
        "    def __repr__(self):\n",
        "        return str(self.lift)+\": \"+str(self.pr)\n",
        "    def __eq__(self, p):\n",
        "        return self.lift==p.lift and self.pr==p.pr"
      ]
    },
    {
      "cell_type": "code",
      "execution_count": 2,
      "metadata": {
        "id": "KLhdP2BaE-Ad",
        "outputId": "31e38624-562d-4d08-8697-b8af136ee623",
        "colab": {
          "base_uri": "https://localhost:8080/"
        }
      },
      "outputs": [
        {
          "output_type": "execute_result",
          "data": {
            "text/plain": [
              "Snatch: 58"
            ]
          },
          "metadata": {},
          "execution_count": 2
        }
      ],
      "source": [
        "sn = Lift(\"Snatch\", 58)\n",
        "sn"
      ]
    },
    {
      "cell_type": "markdown",
      "metadata": {
        "id": "2t-4i318E-Ad"
      },
      "source": [
        "# Aufgabe 1.2 (3 Punkte)\n",
        "\n",
        "Programmieren Sie eine Methode `personal_record` in der Klasse `Lift`, die die entsprechende Bestleistung mit einem neuen Wert ersetzt. Die Methode soll keinen Rückgabewert haben und die Bestleistung direkt ändern.\n",
        "\n",
        "Beispielanwendung:\n",
        "```python\n",
        ">>> sn = Lift(\"Snatch\",58)\n",
        ">>> sn\n",
        "\"Snatch\": 58\n",
        ">>> sn.personal_record(60)\n",
        ">>> sn\n",
        "\"Snatch\": 60\n",
        "```"
      ]
    },
    {
      "cell_type": "code",
      "execution_count": 3,
      "metadata": {
        "id": "LzaCGHpYE-Ad"
      },
      "outputs": [],
      "source": [
        "# copy class from above\n"
      ]
    },
    {
      "cell_type": "code",
      "execution_count": 4,
      "metadata": {
        "id": "b310qepHE-Ad"
      },
      "outputs": [],
      "source": [
        "class Lift:\n",
        "\n",
        "    def personal_record(self, new_pr):\n",
        "        self.pr = new_pr\n",
        "\n",
        "    def __init__(self, lift, pr):\n",
        "        self.lift = lift\n",
        "        self.pr = pr\n",
        "    def __repr__(self):\n",
        "        return str(self.lift)+\": \"+str(self.pr)\n",
        "    def __eq__(self, p):\n",
        "        return self.lift==p.lift and self.pr==p.pr"
      ]
    },
    {
      "cell_type": "code",
      "execution_count": 5,
      "metadata": {
        "id": "zGCAk3LjE-Ae"
      },
      "outputs": [],
      "source": [
        "sn = Lift(\"Snatch\",58)\n",
        "sn.personal_record(60)\n",
        "assert sn == Lift(\"Snatch\", 60)"
      ]
    },
    {
      "cell_type": "markdown",
      "metadata": {
        "id": "OvhaCzjtE-Ae"
      },
      "source": [
        "# Aufgabe 1.3 (3 Punkte)\n",
        "\n",
        "Programmieren Sie eine Methode `percentage` in der Klasse `Lift`, die die entsprechende Bestleistung mit einem mitgegebenen Prozentwert verechnet. Die Methode soll Namen des Lifts sowie den prozentualen Wert als Prozentzahl formatiert als Rückgabe haben.\n",
        "\n",
        "Beispielanwendung:\n",
        "```python\n",
        ">>> sn = Lift(\"Snatch\",58)\n",
        ">>> sn\n",
        "\"Snatch\": 58\n",
        ">>> sn.percentage(0.5)\n",
        "\"50.0% of Snatch is 29.0kg\"\n",
        "```"
      ]
    },
    {
      "cell_type": "code",
      "execution_count": null,
      "metadata": {
        "id": "zUkTj0HsE-Ae"
      },
      "outputs": [],
      "source": [
        "# copy class from above"
      ]
    },
    {
      "cell_type": "code",
      "execution_count": 6,
      "metadata": {
        "id": "D9_81GleE-Ae"
      },
      "outputs": [],
      "source": [
        "class Lift:\n",
        "\n",
        "    def percentage(self, percentage):\n",
        "        work = self.pr * percentage\n",
        "        return str(percentage * 100)+\"% of \"+str(self.lift)+\" is \"+str(work)+\"kg\"\n",
        "\n",
        "    def personal_record(self, new_pr):\n",
        "        self.pr = new_pr\n",
        "\n",
        "    def __init__(self, lift, pr):\n",
        "        self.lift = lift\n",
        "        self.pr = pr\n",
        "    def __repr__(self):\n",
        "        return str(self.lift)+\": \"+str(self.pr)\n",
        "    def __eq__(self, p):\n",
        "        return self.lift==p.lift and self.pr==p.pr"
      ]
    },
    {
      "cell_type": "code",
      "execution_count": 7,
      "metadata": {
        "id": "M4VdSO6jE-Ae"
      },
      "outputs": [],
      "source": [
        "sn = Lift(\"Snatch\",58)\n",
        "assert sn.percentage(0.5) == \"50.0% of Snatch is 29.0kg\""
      ]
    },
    {
      "cell_type": "markdown",
      "metadata": {
        "id": "xAiRttuVE-Af"
      },
      "source": [
        "# Aufgabe 1.4 (3 Punkte)\n",
        "\n",
        "Programmieren Sie die `Lift`-Methode `toDict`, die einen Lift in einen Dictionary (`dict`) umwandelt.\n",
        "\n",
        "Beispielanwendung:\n",
        "```python\n",
        ">>> sn = Lift(\"Snatch\",58)\n",
        ">>> sn\n",
        "\"Snatch\": 58\n",
        ">>> sn.toDict()\n",
        "{'Snatch': 58}\n",
        "```"
      ]
    },
    {
      "cell_type": "code",
      "execution_count": null,
      "metadata": {
        "id": "-mB9D6snE-Af"
      },
      "outputs": [],
      "source": [
        "# copy class from above"
      ]
    },
    {
      "cell_type": "code",
      "execution_count": 8,
      "metadata": {
        "id": "A3TVF0xNE-Af"
      },
      "outputs": [],
      "source": [
        "class Lift:\n",
        "\n",
        "    def toDict(self):\n",
        "        return {self.lift: self.pr}\n",
        "\n",
        "    def percentage(self, percentage):\n",
        "        work = self.pr * percentage\n",
        "        return str(percentage * 100)+\"% of \"+str(self.lift)+\" is \"+str(work)+\"kg\"\n",
        "\n",
        "    def personal_record(self, new_pr):\n",
        "        self.pr = new_pr\n",
        "\n",
        "    def __init__(self, lift, pr):\n",
        "        self.lift = lift\n",
        "        self.pr = pr\n",
        "    def __repr__(self):\n",
        "        return str(self.lift)+\": \"+str(self.pr)\n",
        "    def __eq__(self, p):\n",
        "        return self.lift==p.lift and self.pr==p.pr"
      ]
    },
    {
      "cell_type": "code",
      "execution_count": 11,
      "metadata": {
        "id": "ffGAM32QE-Ag"
      },
      "outputs": [],
      "source": [
        "sn = Lift(\"Snatch\",58)\n",
        "assert  isinstance(sn.toDict(), dict)"
      ]
    },
    {
      "cell_type": "markdown",
      "metadata": {
        "id": "ULY1hjjOE-Ag"
      },
      "source": [
        "## Aufgabe 2"
      ]
    },
    {
      "cell_type": "markdown",
      "source": [
        "# Aufgabe 2.1 (3 Punkte)\n",
        "\n",
        "Betrachten Sie die `WorkingSets`-Klasse und programmieren sie die Methode `AmIDone`, die prüft ob die Instanz einer Klasse leer ist.\n",
        "\n",
        "Beispielanwendung:\n",
        "```python\n",
        ">>> sets = WorkingSets()\n",
        ">>> sets.AmIDone()\n",
        "True\n",
        "```"
      ],
      "metadata": {
        "id": "87F6k0SdF5OD"
      }
    },
    {
      "cell_type": "code",
      "execution_count": 12,
      "metadata": {
        "id": "uIq_i2G1E-Ag"
      },
      "outputs": [],
      "source": [
        "class WorkingSets:\n",
        "    def AmIDone(self):\n",
        "        # Lösung hier einfügen\n",
        "        # YOUR CODE HERE\n",
        "        return len(self.s) == 0\n",
        "\n",
        "    def __init__(self):\n",
        "        self.s = []\n",
        "    def add_set(self,e):\n",
        "        return self.s.append(e)\n",
        "    def complete_set(self):\n",
        "        e = self.s[0]\n",
        "        self.q = self.q[1:]\n",
        "        return e"
      ]
    },
    {
      "cell_type": "code",
      "source": [
        "sets = WorkingSets()\n",
        "sets.AmIDone()"
      ],
      "metadata": {
        "id": "K6O4NXmGHvaw",
        "outputId": "5187620f-2612-47cf-8633-1b0983e83b6a",
        "colab": {
          "base_uri": "https://localhost:8080/"
        }
      },
      "execution_count": 14,
      "outputs": [
        {
          "output_type": "execute_result",
          "data": {
            "text/plain": [
              "True"
            ]
          },
          "metadata": {},
          "execution_count": 14
        }
      ]
    },
    {
      "cell_type": "markdown",
      "source": [
        "# Aufgabe 2.2 (6 Punkte)\n",
        "\n",
        "Betrachten Sie die `WorkingSets`-Klasse und programmieren sie eine Methode die zwei WorkingSets-Instanzen addiert, indem die jeweiligen Werte als Tupel (tuple) zusammengefasst werden. Sollte eine Queue länger sein als die andere, soll eine entsprechende Warnmeldung zurückgegeben werden. Stellen Sie sicher, dass die Methode eine neue WorkingSets-Instanz mit den erstellten Tupeln zurückgibt und nicht einfach eine Liste erstellt.\n",
        "\n",
        "Beispielanwendung:\n",
        "```python\n",
        "> sets1\n",
        "<-- 5, 4, 3, 3 <--\n",
        "> sets2\n",
        "<-- '40kg', '45kg', '50kg', '50kg+' <--\n",
        "> sets1 + sets2\n",
        "<-- (5, '40kg'), (4, '45kg'), (3, '50kg'), (3, '50kg+') <--\n",
        "```"
      ],
      "metadata": {
        "id": "JSQu9Lg6IKp2"
      }
    },
    {
      "cell_type": "code",
      "source": [
        "class WorkingSets:\n",
        "\n",
        "    def __add__(self, sets2):\n",
        "        # Lösung hier einfügen\n",
        "        # YOUR CODE HERE\n",
        "        if len(self.s) == len(sets2.s):\n",
        "          sets3 = WorkingSets()\n",
        "          for e1, e2 in zip(self.s, sets2.s):\n",
        "              sets3.add_set((e1, e2))\n",
        "          return sets3\n",
        "        else:\n",
        "          return \"Unequal number of items in WorkingSets-instances\"\n",
        "\n",
        "    def AmIDone(self):\n",
        "        # Lösung hier einfügen\n",
        "        # YOUR CODE HERE\n",
        "        return len(self.s) == 0\n",
        "\n",
        "    def __init__(self):\n",
        "        self.s = []\n",
        "    def add_set(self,e):\n",
        "        return self.s.append(e)\n",
        "    def complete_set(self):\n",
        "        e = self.s[0]\n",
        "        self.s = self.s[1:]\n",
        "        return e\n",
        "    def __repr__(self):\n",
        "        if self.AmIDone():\n",
        "            return \"No working sets\"\n",
        "        else:\n",
        "            return \"<-- \" + str(self.s)[1:-1] + \" <--\"\n",
        "    def __eq__(self,s):\n",
        "        return self.s == s.s"
      ],
      "metadata": {
        "id": "eK9xt5pzIJ_P"
      },
      "execution_count": 24,
      "outputs": []
    },
    {
      "cell_type": "code",
      "source": [
        "reps = WorkingSets()\n",
        "for i in [5,4,3,3]:\n",
        "    reps.add_set(i)\n",
        "weights = WorkingSets()\n",
        "for s in [\"40kg\", \"45kg\", \"50kg\", \"50kg+\"]:\n",
        "    weights.add_set(s)\n",
        "sets = WorkingSets()\n",
        "for t in [(5, '40kg'), (4, '45kg'), (3, '50kg'), (3, '50kg+')]:\n",
        "    sets.add_set(t)\n",
        "assert reps+weights == sets\n",
        "weights.complete_set()\n",
        "assert reps + weights == \"Unequal number of items in WorkingSets-instances\""
      ],
      "metadata": {
        "id": "cqvUqjCmKdUX"
      },
      "execution_count": 30,
      "outputs": []
    },
    {
      "cell_type": "markdown",
      "metadata": {
        "id": "I2COEN3fE-Ag"
      },
      "source": [
        "## Aufgabe 3"
      ]
    },
    {
      "cell_type": "markdown",
      "metadata": {
        "id": "_FEfZDanE-Ag"
      },
      "source": [
        "## Aufgabe 4"
      ]
    },
    {
      "cell_type": "markdown",
      "metadata": {
        "id": "-VDoZ1VRE-Ag"
      },
      "source": [
        "## Aufgabe 5"
      ]
    }
  ],
  "metadata": {
    "kernelspec": {
      "display_name": "Python 3",
      "language": "python",
      "name": "python3"
    },
    "language_info": {
      "codemirror_mode": {
        "name": "ipython",
        "version": 3
      },
      "file_extension": ".py",
      "mimetype": "text/x-python",
      "name": "python",
      "nbconvert_exporter": "python",
      "pygments_lexer": "ipython3",
      "version": "3.12.2"
    },
    "colab": {
      "provenance": []
    }
  },
  "nbformat": 4,
  "nbformat_minor": 0
}