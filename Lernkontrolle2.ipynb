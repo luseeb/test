{
 "cells": [
  {
   "cell_type": "markdown",
   "metadata": {},
   "source": [
    "# Lernkontrolle Python"
   ]
  },
  {
   "cell_type": "markdown",
   "metadata": {},
   "source": [
    "# Aufgabe 1.1 (3 Punkte)\n",
    "\n",
    "Programmieren Sie eine Klasse `Lift`, die eine Weightlifting Bewegung und die dazugehörige Bestleistung speichert.\n",
    "\n",
    "Beispielanwendung:\n",
    "```python\n",
    ">>> sn = Lift(\"Snatch\",58)\n",
    ">>> sn\n",
    "Snatch: 58\n",
    "```"
   ]
  },
  {
   "cell_type": "code",
   "execution_count": 22,
   "metadata": {},
   "outputs": [],
   "source": [
    "class Lift:\n",
    "\n",
    "    def __init__(self, lift, pr): \n",
    "        self.lift = lift\n",
    "        self.pr = pr\n",
    "    def __repr__(self): \n",
    "        return str(self.lift)+\": \"+str(self.pr)\n",
    "    def __eq__(self, p):\n",
    "        return self.lift==p.lift and self.pr==p.pr"
   ]
  },
  {
   "cell_type": "code",
   "execution_count": 23,
   "metadata": {},
   "outputs": [
    {
     "data": {
      "text/plain": [
       "Snatch: 68"
      ]
     },
     "execution_count": 23,
     "metadata": {},
     "output_type": "execute_result"
    }
   ],
   "source": [
    "sn = Lift(\"Snatch\", 68)\n",
    "sn"
   ]
  },
  {
   "cell_type": "markdown",
   "metadata": {},
   "source": [
    "# Aufgabe 1.2 (3 Punkte)\n",
    "\n",
    "Programmieren Sie eine Methode `personal_record` in der Klasse `Lift`, die die entsprechende Bestleistung mit einem neuen Wert ersetzt. Die Methode soll keinen Rückgabewert haben und die Bestleistung direkt ändern.\n",
    "\n",
    "Beispielanwendung:\n",
    "```python\n",
    ">>> sn = Lift(\"Snatch\",58)\n",
    ">>> sn\n",
    "\"Snatch\": 58\n",
    ">>> sn.personal_record(60)\n",
    ">>> sn\n",
    "\"Snatch\": 60\n",
    "```"
   ]
  },
  {
   "cell_type": "code",
   "execution_count": null,
   "metadata": {},
   "outputs": [],
   "source": [
    "# copy class from above\n"
   ]
  },
  {
   "cell_type": "code",
   "execution_count": 24,
   "metadata": {},
   "outputs": [],
   "source": [
    "class Lift:\n",
    "\n",
    "    def personal_record(self, new_pr):\n",
    "        self.pr = new_pr\n",
    "\n",
    "    def __init__(self, lift, pr): \n",
    "        self.lift = lift\n",
    "        self.pr = pr\n",
    "    def __repr__(self): \n",
    "        return str(self.lift)+\": \"+str(self.pr)\n",
    "    def __eq__(self, p):\n",
    "        return self.lift==p.lift and self.pr==p.pr"
   ]
  },
  {
   "cell_type": "code",
   "execution_count": 25,
   "metadata": {},
   "outputs": [],
   "source": [
    "sn = Lift(\"Snatch\",58)\n",
    "sn.personal_record(60)\n",
    "assert sn == Lift(\"Snatch\", 60)"
   ]
  },
  {
   "cell_type": "markdown",
   "metadata": {},
   "source": [
    "# Aufgabe 1.3 (3 Punkte)\n",
    "\n",
    "Programmieren Sie eine Methode `percentage` in der Klasse `Lift`, die die entsprechende Bestleistung mit einem mitgegebenen Prozentwert verechnet. Die Methode soll Namen des Lifts sowie den prozentualen Wert als Prozentzahl formatiert als Rückgabe haben.\n",
    "\n",
    "Beispielanwendung:\n",
    "```python\n",
    ">>> sn = Lift(\"Snatch\",58)\n",
    ">>> sn\n",
    "\"Snatch\": 58\n",
    ">>> sn.percentage(0.5)\n",
    "\"50.0% of Snatch is 29.0kg\"\n",
    "```"
   ]
  },
  {
   "cell_type": "code",
   "execution_count": null,
   "metadata": {},
   "outputs": [],
   "source": [
    "# copy class from above"
   ]
  },
  {
   "cell_type": "code",
   "execution_count": 42,
   "metadata": {},
   "outputs": [],
   "source": [
    "class Lift:\n",
    "\n",
    "    def percentage(self, percentage):\n",
    "        work = self.pr * percentage \n",
    "        return str(percentage * 100)+\"% of \"+str(self.lift)+\" is \"+str(work)+\"kg\"\n",
    "\n",
    "    def personal_record(self, new_pr):\n",
    "        self.pr = new_pr\n",
    "\n",
    "    def __init__(self, lift, pr): \n",
    "        self.lift = lift\n",
    "        self.pr = pr\n",
    "    def __repr__(self): \n",
    "        return str(self.lift)+\": \"+str(self.pr)\n",
    "    def __eq__(self, p):\n",
    "        return self.lift==p.lift and self.pr==p.pr"
   ]
  },
  {
   "cell_type": "code",
   "execution_count": 43,
   "metadata": {},
   "outputs": [],
   "source": [
    "sn = Lift(\"Snatch\",58)\n",
    "assert sn.percentage(0.5) == \"50.0% of Snatch is 29.0kg\""
   ]
  },
  {
   "cell_type": "markdown",
   "metadata": {},
   "source": [
    "# Aufgabe 3.3 (3 Punkte)\n",
    "\n",
    "Programmieren Sie die `Lift`-Methode `toDict`, die einen Lift in einen Dictionary (`dict`) umwandelt.\n",
    "\n",
    "Beispielanwendung: \n",
    "```python\n",
    ">>> sn = Lift(\"Snatch\",58)\n",
    ">>> sn\n",
    "\"Snatch\": 58\n",
    ">>> sn.toDict()\n",
    "\"50.0% of Snatch is 29.0kg\"\n",
    "```"
   ]
  },
  {
   "cell_type": "code",
   "execution_count": null,
   "metadata": {},
   "outputs": [],
   "source": [
    "# copy class from above"
   ]
  },
  {
   "cell_type": "code",
   "execution_count": 44,
   "metadata": {},
   "outputs": [],
   "source": [
    "class Lift:\n",
    "\n",
    "    def toDict(self):\n",
    "        return {self.lift: self.pr}\n",
    "    \n",
    "    def percentage(self, percentage):\n",
    "        work = self.pr * percentage \n",
    "        return str(percentage * 100)+\"% of \"+str(self.lift)+\" is \"+str(work)+\"kg\"\n",
    "\n",
    "    def personal_record(self, new_pr):\n",
    "        self.pr = new_pr\n",
    "\n",
    "    def __init__(self, lift, pr): \n",
    "        self.lift = lift\n",
    "        self.pr = pr\n",
    "    def __repr__(self): \n",
    "        return str(self.lift)+\": \"+str(self.pr)\n",
    "    def __eq__(self, p):\n",
    "        return self.lift==p.lift and self.pr==p.pr"
   ]
  },
  {
   "cell_type": "code",
   "execution_count": 47,
   "metadata": {},
   "outputs": [],
   "source": [
    "sn = Lift(\"Snatch\",58)\n",
    "assert  isinstance(sn.toDict(), dict)"
   ]
  },
  {
   "cell_type": "markdown",
   "metadata": {},
   "source": [
    "## Aufgabe 2"
   ]
  },
  {
   "cell_type": "code",
   "execution_count": null,
   "metadata": {},
   "outputs": [],
   "source": [
    "class WorkingSets:\n",
    "    "
   ]
  },
  {
   "cell_type": "markdown",
   "metadata": {},
   "source": [
    "## Aufgabe 3"
   ]
  },
  {
   "cell_type": "markdown",
   "metadata": {},
   "source": [
    "## Aufgabe 4"
   ]
  },
  {
   "cell_type": "markdown",
   "metadata": {},
   "source": [
    "## Aufgabe 5"
   ]
  }
 ],
 "metadata": {
  "kernelspec": {
   "display_name": "Python 3",
   "language": "python",
   "name": "python3"
  },
  "language_info": {
   "codemirror_mode": {
    "name": "ipython",
    "version": 3
   },
   "file_extension": ".py",
   "mimetype": "text/x-python",
   "name": "python",
   "nbconvert_exporter": "python",
   "pygments_lexer": "ipython3",
   "version": "3.12.2"
  }
 },
 "nbformat": 4,
 "nbformat_minor": 2
}
