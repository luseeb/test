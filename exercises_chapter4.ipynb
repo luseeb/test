{
  "cells": [
    {
      "cell_type": "markdown",
      "metadata": {
        "id": "EXaXS8j3QcvP"
      },
      "source": [
        "# Aufgabe 1\n",
        "Implementieren sie eine Funktion `str_to_dict`, die einen String als Input nimmt und in einen Dictionary umwandelt. Dabei sollen die einzelnen Buchstaben als Schlüssel dienen und das Vorkommen der jeweiligen Buchstaben als Wert.\n",
        "\n",
        "Beispiel:\n",
        "```python\n",
        "str_to_dict(\"aabccccaaa\")\n",
        ">>> {\"a\": 5, \"b\": 1, \"c\": 4}\n",
        "```"
      ]
    },
    {
      "cell_type": "code",
      "source": [
        "# YOUR CODE HERE"
      ],
      "metadata": {
        "id": "i2JbEme-RtDM"
      },
      "execution_count": 1,
      "outputs": []
    },
    {
      "cell_type": "code",
      "source": [
        "assert str_to_dict(\"aabccccaaa\") ==  {\"a\": 5, \"b\": 1, \"c\": 4}"
      ],
      "metadata": {
        "id": "dDoi7__SRvHs"
      },
      "execution_count": null,
      "outputs": []
    },
    {
      "cell_type": "markdown",
      "source": [
        "# Aufgabe 2\n",
        "\n",
        "Schreiben Sie eine Funktion mit dem Namen `list_sqrt`, die jedes Element einer Liste in seine quadratische Wurzel verwandelt. Die Funktion erhält eine Liste als Input und gibt eine andere Liste mit den Resultaten zurück.\n",
        "\n",
        "Beispiel:\n",
        "```python\n",
        "list_sqrt([4, 16, 144])\n",
        ">>> [2, 4, 12]\n",
        "```"
      ],
      "metadata": {
        "id": "U8AwKVGQR3ea"
      }
    },
    {
      "cell_type": "code",
      "source": [
        "# YOUR CODE HERE"
      ],
      "metadata": {
        "id": "AmsMAR7iSSkd"
      },
      "execution_count": 1,
      "outputs": []
    },
    {
      "cell_type": "code",
      "source": [
        "assert list_sqrt([4, 16, 144]) == [2, 4, 12]"
      ],
      "metadata": {
        "id": "JiksFIqSSjcv"
      },
      "execution_count": null,
      "outputs": []
    },
    {
      "cell_type": "markdown",
      "source": [
        "# Aufgabe 3\n",
        "Implementieren sie die Funktion `myUnion`, die zwei Dictionaries als Input nimmt und einen neuen Dictionary als Output liefert. Der neue Dictionary soll dabei alle Schlüssel der beiden ursprünglichen Dictionaries enthalten. Falls ein Schlüssel in beiden Dictionaries vorkommt, sollen die Werte im neuen Dictionary in einer Liste gespeichert werden.\n",
        "\n",
        "Beispiel:\n",
        "```python\n",
        "myUnion({\"a\": \"apple\", \"b\": \"building\", \"c\": \"cook\"}, {\"a\": \"apple\", \"c\": \"cricket\", \"d\": \"dingo\"})\n",
        ">>> {\"a\": [\"apple\", \"apple\"], \"b\": \"building\", \"c\": [\"cook\", \"cricket\"], \"d\": \"dingo\"}\n",
        "```"
      ],
      "metadata": {
        "id": "iwN-tNxPSnbd"
      }
    },
    {
      "cell_type": "code",
      "source": [
        "# YOUR CODE HERE"
      ],
      "metadata": {
        "id": "PguG8Um4T92A"
      },
      "execution_count": 2,
      "outputs": []
    },
    {
      "cell_type": "code",
      "source": [
        "assert myUnion({\"a\": \"apple\", \"b\": \"building\", \"c\": \"cook\"}, {\"a\": \"apple\", \"c\": \"cricket\", \"d\": \"dingo\"}) == {\"a\": [\"apple\", \"apple\"], \"b\": \"building\", \"c\": [\"cook\", \"cricket\"], \"d\": \"dingo\"}"
      ],
      "metadata": {
        "id": "5VlIqrP6V2qg"
      },
      "execution_count": null,
      "outputs": []
    },
    {
      "cell_type": "markdown",
      "source": [
        "# Aufgabe 4\n",
        "Implementieren Sie eine Funktion palindrom, die testet, ob ein String ein Palindrom ist, d.h. gleiche Buchstabenfolge vorwärts wie auch rückwärts. Stellen Sie ausserdem sicher, dass Gross-/Kleinschreibung keine Rolle spielt.\n",
        "\n",
        "Beispiel:\n",
        "```python\n",
        ">>> palindrom(\"Anna\")\n",
        "True\n",
        ">>> palindrom(\"Simon\")\n",
        "False\n",
        "```"
      ],
      "metadata": {
        "id": "jQJc2frSY8bk"
      }
    },
    {
      "cell_type": "code",
      "source": [
        "# YOUR CODE HERE"
      ],
      "metadata": {
        "id": "CenhEjYKZG6t"
      },
      "execution_count": null,
      "outputs": []
    },
    {
      "cell_type": "code",
      "source": [
        "assert palindrom(\"Anna\")\n",
        "assert not palindrom(\"Simon\")"
      ],
      "metadata": {
        "id": "RmfwMRB3ZGw6"
      },
      "execution_count": null,
      "outputs": []
    },
    {
      "cell_type": "markdown",
      "source": [
        "# Aufgabe 5\n",
        "Programmieren Sie eine Klasse Queue, indem Sie die folgenden Teilaufgaben lösen.\n",
        "\n",
        "Programmieren Sie eine Methode isNotEmpty, die überprüfen soll, ob eine Queue leer ist. Anwendungsbeispiel siehe unten.\n",
        "Programmieren Sie eine Methode enqueue, die einer Queue ein neues Element hinzufügt.\n",
        "Programmieren Sie eine Methode dequeue, die das Element, das sich am längsten in der Queue befindet, herausnimmt und zurückgibt.\n",
        "Programmieren Sie die Methode __repr__ so, dass eine Queue die im Beispiel gezeigte String-Repräsentation besitzt.\n",
        "\n",
        "Beispielanwendungen:\n",
        "```python\n",
        ">>> q = Queue()\n",
        ">>> q.isNotEmpty()\n",
        "False\n",
        ">>> q.enqueue('Tom')\n",
        ">>> q.isNotEmpty()\n",
        "True\n",
        ">>> q.enqueue('Karl')\n",
        ">>> q\n",
        "--> Karl, Tom -->\n",
        ">>> q.dequeue()\n",
        "\"Tom\"\n",
        ">>> q\n",
        "--> Karl -->\n",
        "```"
      ],
      "metadata": {
        "id": "mKGcrzqtV9i3"
      }
    },
    {
      "cell_type": "code",
      "source": [
        "class Queue:\n",
        "    def __init__(self):\n",
        "        self.q = []\n",
        "    # YOUR CODE HERE"
      ],
      "metadata": {
        "id": "sPf1qeENW2ZJ"
      },
      "execution_count": null,
      "outputs": []
    },
    {
      "cell_type": "code",
      "source": [
        "q = Queue()\n",
        "assert not q.isNotEmpty()"
      ],
      "metadata": {
        "id": "-TAeDtUmXVKI"
      },
      "execution_count": null,
      "outputs": []
    },
    {
      "cell_type": "code",
      "source": [
        "q.enqueue('Tom')\n",
        "assert q.isNotEmpty()"
      ],
      "metadata": {
        "id": "ypp8MFl1XZd6"
      },
      "execution_count": null,
      "outputs": []
    },
    {
      "cell_type": "code",
      "source": [
        "q.enqueue('Karl')\n",
        "assert q == \"--> Karl, Tom -->\""
      ],
      "metadata": {
        "id": "p9TX4NI1Xhz9"
      },
      "execution_count": null,
      "outputs": []
    },
    {
      "cell_type": "code",
      "source": [
        "assert q.dequeue() == \"Tom\"\n",
        "assert q == \"--> Karl -->\""
      ],
      "metadata": {
        "id": "s5wavrzRXv20"
      },
      "execution_count": null,
      "outputs": []
    },
    {
      "cell_type": "markdown",
      "source": [
        "# Aufgabe 6\n",
        "\n",
        "Programmieren Sie die Methode least_common für die MyCounter-Klasse; diese Methode soll eine Zahl n übergeben bekommen und die n wenig häufigsten Elemente als Liste von Tupeln (Anzahl, Zeichen) zurückliefern.\n",
        "\n",
        "Beispielanwendung:\n",
        "```python\n",
        "c = MyCounter(\"aaaabbbccd\")\n",
        "> c.lest_common(2)\n",
        "[(1, 'd'), (2, 'c')]\n",
        "```"
      ],
      "metadata": {
        "id": "ylQkGFV4X7mF"
      }
    },
    {
      "cell_type": "code",
      "source": [
        "class MyCounter:\n",
        "\n",
        "    def least_common(self,n):\n",
        "        # YOUR CODE HERE\n",
        "\n",
        "    def __init__(self, s=[]):\n",
        "        self.c = {}\n",
        "        for x in s:\n",
        "            self.add(x)\n",
        "    def add(self,x):\n",
        "        \"\"\"fuegt x in den MyCounter ein\"\"\"\n",
        "        if x in self.c:\n",
        "            self.c[x] = self.c[x] + 1\n",
        "        else:\n",
        "            self.c[x] = 1\n",
        "    def __repr__(self):\n",
        "        return 'MyCounter(' + str(self.c) + ')'"
      ],
      "metadata": {
        "id": "6ViZQXY9anlQ"
      },
      "execution_count": null,
      "outputs": []
    },
    {
      "cell_type": "code",
      "source": [
        "c = MyCounter(\"aaaabbbccd\")\n",
        "assert c.least_common(2) == [(1, 'd'), (2, 'c')]"
      ],
      "metadata": {
        "id": "4h9GguMyavIJ"
      },
      "execution_count": null,
      "outputs": []
    },
    {
      "cell_type": "markdown",
      "source": [
        "# Aufgabe 7\n",
        "\n",
        "Implementieren sie den \"-\"-Operator für MyCounter-Objekte mit der folgenden Funktionsweise:\n",
        "\n",
        "Beispielanwendung:\n",
        "```python\n",
        ">>> vorrat\n",
        "MyCounter({'Milch': 3, 'Bananen': 2, 'Pudding': 4, 'Schoggi': 1})\n",
        ">>> menu\n",
        "MyCounter({'Milch': 1, 'Pudding': 2})\n",
        ">>> vorrat - menu\n",
        "MyCounter({'Milch': 2, 'Bananen': 2, 'Pudding': 2, 'Schoggi': 1})\n",
        "```\n",
        "\n",
        "Der \"-\"-Operator erzeugt also ein neues MyCounter-Objekt in dem die Elemente aus dem zweiten Objekt vom ersten Objekt abgezogen werden. Stellen sie ausserdem sicher, dass der String \"Element nicht vorrätig\" zurückgegeben wird, falls ein Element im zweiten Objekt (menu) nicht im ersten Objekt (vorrat) enthalten ist."
      ],
      "metadata": {
        "id": "y2CtCrX1ayNS"
      }
    },
    {
      "cell_type": "code",
      "source": [
        "class MyCounter(dict):\n",
        "\n",
        "    def __sub__(self,c2):\n",
        "        # YOUR CODE HERE\n",
        "\n",
        "    def __init__(self, s=[]):\n",
        "        super().__init__()\n",
        "        for x in s:\n",
        "            self.add(x)\n",
        "    def add(self,x):\n",
        "        \"\"\"fuegt x in den MyCounter ein\"\"\"\n",
        "        if x in self:\n",
        "            self[x] = self[x] + 1\n",
        "        else:\n",
        "            self[x] = 1\n",
        "    def __repr__(self):\n",
        "        return 'MyCounter(' + super().__repr__() + ')'"
      ],
      "metadata": {
        "id": "W2U0frG6a5Zh"
      },
      "execution_count": null,
      "outputs": []
    },
    {
      "cell_type": "code",
      "source": [
        "vorrat = MyCounter([\"Milch\", \"Milch\", \"Milch\", \"Bananen\", \"Bananen\", \"Pudding\", \"Pudding\", \"Pudding\", \"Pudding\", \"Schoggi\"])\n",
        "menu = MyCounter([\"Milch\", \"Pudding\", \"Pudding\"])\n",
        "assert vorrat - menu == MyCounter([\"Milch\", \"Milch\", \"Bananen\", \"Bananen\", \"Pudding\", \"Pudding\", \"Schoggi\"])\n",
        "menu.add(\"Apfel\")\n",
        "assert vorrat - menu == \"Element nicht vorrätig\""
      ],
      "metadata": {
        "id": "oYRsH3s2a-O-"
      },
      "execution_count": null,
      "outputs": []
    },
    {
      "cell_type": "markdown",
      "source": [
        "# Aufgabe 8\n",
        "Gegeben sei das folgende NDArray b:"
      ],
      "metadata": {
        "id": "vr59mUdwblbl"
      }
    },
    {
      "cell_type": "code",
      "source": [
        "import numpy as np\n",
        "b = np.array([102, 315, 88,  57, 246, 300, 701, 410, 190, 321, 555, 64,  91,\n",
        "              203, 120, 430, 872, 144, 999, 622, 174, 276, 382, 159, 238, 60,\n",
        "              701, 810, 94,  122, 47,  81,  23, 555, 676, 718, 804, 888, 66,\n",
        "              154, 222, 306, 410, 55,  84,  108, 190])\n"
      ],
      "metadata": {
        "id": "_lGuI4NkbpH5"
      },
      "execution_count": 3,
      "outputs": []
    },
    {
      "cell_type": "markdown",
      "source": [
        "Geben Sie mit NumPy-Code an:\n",
        "\n",
        "Alle Zahlen in b, die größer als 500 sind. Speichern Sie das Ergebnis in der Variablen b1.\n",
        "\n",
        "Alle Zahlen in b, die sowohl gerade als auch durch 3 teilbar sind. Speichern Sie das Ergebnis in der Variablen b2.\n",
        "\n",
        "Setzen Sie alle ungeraden Zahlen in b auf -1. Speichern Sie dieses Array in der Variablen b3."
      ],
      "metadata": {
        "id": "e9pO1l62bw1j"
      }
    },
    {
      "cell_type": "code",
      "source": [
        "# YOUR CODE HERE"
      ],
      "metadata": {
        "id": "ttrwOBwabu-X"
      },
      "execution_count": null,
      "outputs": []
    }
  ],
  "metadata": {
    "kernelspec": {
      "display_name": "Python 3",
      "language": "python",
      "name": "python3"
    },
    "language_info": {
      "codemirror_mode": {
        "name": "ipython",
        "version": 3
      },
      "file_extension": ".py",
      "mimetype": "text/x-python",
      "name": "python",
      "nbconvert_exporter": "python",
      "pygments_lexer": "ipython3",
      "version": "3.12.2"
    },
    "colab": {
      "provenance": []
    }
  },
  "nbformat": 4,
  "nbformat_minor": 0
}