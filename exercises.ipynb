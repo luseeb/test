{
  "cells": [
    {
      "cell_type": "code",
      "source": [
        "def compress_str(s):\n",
        "  lst = []\n",
        "  sub = s[0]\n",
        "  i = 1\n",
        "  for x in s[1:]:\n",
        "    if sub == x:\n",
        "      i += 1\n",
        "    else:\n",
        "      lst.append((sub, i))\n",
        "      sub = x\n",
        "      i = 1\n",
        "\n",
        "  lst.append((sub, i))\n",
        "  return lst\n"
      ],
      "metadata": {
        "id": "zUvm3ik3e-5l"
      },
      "id": "zUvm3ik3e-5l",
      "execution_count": 30,
      "outputs": []
    },
    {
      "cell_type": "code",
      "source": [
        "def compress_str(s):\n",
        "    if not s:\n",
        "        return []\n",
        "\n",
        "    result = []\n",
        "    current_char = s[0]\n",
        "    count = 1\n",
        "\n",
        "    for char in s[1:]:\n",
        "        if char == current_char:\n",
        "            count += 1\n",
        "        else:\n",
        "            result.append((current_char, count))\n",
        "            current_char = char\n",
        "            count = 1\n",
        "\n",
        "    # Letztes Zeichen noch hinzufügen\n",
        "    result.append((current_char, count))\n",
        "\n",
        "    return result\n"
      ],
      "metadata": {
        "id": "cnx2AfRxnYqr"
      },
      "id": "cnx2AfRxnYqr",
      "execution_count": 24,
      "outputs": []
    },
    {
      "cell_type": "code",
      "source": [
        "compress_str(\"aabccccaaa\")"
      ],
      "metadata": {
        "id": "XhcLF6ROe95d",
        "outputId": "bae3daa0-1f80-4f34-eeeb-a7a1dc02490f",
        "colab": {
          "base_uri": "https://localhost:8080/"
        }
      },
      "id": "XhcLF6ROe95d",
      "execution_count": 31,
      "outputs": [
        {
          "output_type": "execute_result",
          "data": {
            "text/plain": [
              "[('a', 2), ('b', 1), ('c', 4), ('a', 3)]"
            ]
          },
          "metadata": {},
          "execution_count": 31
        }
      ]
    },
    {
      "cell_type": "markdown",
      "id": "7d20978f-9fb8-4b9c-9e4d-c73e7fa22349",
      "metadata": {
        "deletable": false,
        "editable": false,
        "nbgrader": {
          "cell_type": "markdown",
          "checksum": "f10fd3f5577185cf2ed7c179b9f7b653",
          "grade": false,
          "grade_id": "cell-f6b8196542a73cd7",
          "locked": true,
          "schema_version": 3,
          "solution": false,
          "task": false
        },
        "id": "7d20978f-9fb8-4b9c-9e4d-c73e7fa22349"
      },
      "source": [
        "# Aufgabe 3.1 (3 Punkte)\n",
        "\n",
        "Programmieren Sie eine Methode `double` in der Klasse `Point`, die die x- und y-Koordinaten des Punktes verdoppelt. Die Methode soll keinen Rückgabewert haben und die Koordinaten direkt ändern.\n",
        "\n",
        "Beispielanwendung:\n",
        "```python\n",
        ">>> p = Point(3,7)\n",
        ">>> p\n",
        "(3|7)\n",
        ">>> p.double()\n",
        ">>> p\n",
        "(6|14)\n",
        "```"
      ]
    },
    {
      "cell_type": "code",
      "execution_count": null,
      "id": "aeb85a63-8175-4883-b5da-c6f70cf11ad3",
      "metadata": {
        "deletable": false,
        "nbgrader": {
          "cell_type": "code",
          "checksum": "7b106ac01d9177ea7fbb6e0d1ca35d10",
          "grade": false,
          "grade_id": "cell-dfe3f0c80000a3ab",
          "locked": false,
          "schema_version": 3,
          "solution": true,
          "task": false
        },
        "id": "aeb85a63-8175-4883-b5da-c6f70cf11ad3"
      },
      "outputs": [],
      "source": [
        "class Point:\n",
        "    def double(self):\n",
        "        # YOUR CODE HERE\n",
        "        self.x = self.x * 2\n",
        "        self.y = self.y * 2\n",
        "\n",
        "\n",
        "    def __init__(self, x, y):\n",
        "        self.x = x\n",
        "        self.y = y\n",
        "    def __repr__(self):\n",
        "        return \"(\"+str(self.x)+\"¦\"+str(self.y)+\")\"\n",
        "    def __eq__(self, p):\n",
        "        return self.x==p.x and self.y==p.y"
      ]
    },
    {
      "cell_type": "code",
      "execution_count": null,
      "id": "3a03e52f-1369-4c26-a7ab-76c87b5936c2",
      "metadata": {
        "deletable": false,
        "editable": false,
        "nbgrader": {
          "cell_type": "code",
          "checksum": "b013ff280436b5ce5620f45ce8723c4e",
          "grade": true,
          "grade_id": "cell-fee5b1ac1e3aaa1e",
          "locked": true,
          "points": 3,
          "schema_version": 3,
          "solution": false,
          "task": false
        },
        "id": "3a03e52f-1369-4c26-a7ab-76c87b5936c2"
      },
      "outputs": [],
      "source": [
        "p1 = Point(3,7)\n",
        "p1.double()\n",
        "assert p1 == Point(6,14)\n",
        "# Some hidden tests here"
      ]
    },
    {
      "cell_type": "code",
      "execution_count": null,
      "id": "5ef2e1eb-cd2b-4157-83b5-0953e2e091ef",
      "metadata": {
        "id": "5ef2e1eb-cd2b-4157-83b5-0953e2e091ef"
      },
      "outputs": [],
      "source": []
    },
    {
      "cell_type": "markdown",
      "id": "25c4f048-68ca-4b5a-bd59-cbb054938796",
      "metadata": {
        "deletable": false,
        "editable": false,
        "nbgrader": {
          "cell_type": "markdown",
          "checksum": "95b8eb691f922418d6ce8f34ef22ab5e",
          "grade": false,
          "grade_id": "cell-b3b16566c7d913f6",
          "locked": true,
          "schema_version": 3,
          "solution": false,
          "task": false
        },
        "id": "25c4f048-68ca-4b5a-bd59-cbb054938796"
      },
      "source": [
        "# Aufgabe 3.3 (3 Punkte)\n",
        "\n",
        "Programmieren Sie die `Point`-Methode `toTuple`, die einen Point in ein Tupel (`tuple`) umwandelt.\n",
        "\n",
        "Beispielanwendung:\n",
        "```python\n",
        ">>> p = Point(3,7)\n",
        ">>> p\n",
        "(3|7)\n",
        ">>> p.toTuple()\n",
        "(3,7)\n",
        "```"
      ]
    },
    {
      "cell_type": "code",
      "execution_count": null,
      "id": "4c38103a",
      "metadata": {
        "id": "4c38103a"
      },
      "outputs": [],
      "source": [
        "class Point:\n",
        "    def toTuple(self):\n",
        "        # YOUR CODE HERE\n",
        "        return (self.x, self.y)\n",
        "\n",
        "    def __init__(self, x, y):\n",
        "        self.x = x\n",
        "        self.y = y\n",
        "    def __repr__(self):\n",
        "        return \"(\"+str(self.x)+\"¦\"+str(self.y)+\")\"\n",
        "    def __eq__(self, p):\n",
        "        return self.x==p.x and self.y==p.y"
      ]
    },
    {
      "cell_type": "code",
      "execution_count": null,
      "id": "fd024c2a",
      "metadata": {
        "id": "fd024c2a"
      },
      "outputs": [],
      "source": [
        "p1 = Point(3,7)\n",
        "assert p1.toTuple() == (3,7)\n",
        "# Some hidden tests here"
      ]
    },
    {
      "cell_type": "markdown",
      "id": "d041bfc1-5c0b-4802-913c-cfea395fef32",
      "metadata": {
        "deletable": false,
        "editable": false,
        "nbgrader": {
          "cell_type": "markdown",
          "checksum": "9b47d1c24b4d9c99df81e9fc642ede8e",
          "grade": false,
          "grade_id": "cell-98c2c5f4f9113f14",
          "locked": true,
          "schema_version": 3,
          "solution": false,
          "task": false
        },
        "id": "d041bfc1-5c0b-4802-913c-cfea395fef32"
      },
      "source": [
        "# Aufgabe 3.4 (3 Punkte)\n",
        "\n",
        "Programmieren Sie die Methode `spiegeleX` in der Klasse `Point`, die einen Punkt an der x-Achse spiegeln soll.\n",
        "\n",
        "Hier ein Beispiel für die Verwendung der Methode:\n",
        "```python\n",
        ">>> p = Point(10,20)\n",
        ">>> p.spiegeleX()\n",
        ">>> (p.x, p.y)\n",
        "(10,-20)\n",
        "```"
      ]
    },
    {
      "cell_type": "code",
      "execution_count": null,
      "id": "108394b1",
      "metadata": {
        "id": "108394b1"
      },
      "outputs": [],
      "source": [
        "class Point:\n",
        "    def spiegeleX(self):\n",
        "        # YOUR CODE HERE\n",
        "        self.y = self.y * -1\n",
        "\n",
        "    def __init__(self, x, y):\n",
        "        self.x = x\n",
        "        self.y = y\n",
        "    def __repr__(self):\n",
        "        return \"(\"+str(self.x)+\"¦\"+str(self.y)+\")\"\n",
        "    def __eq__(self, p):\n",
        "        return self.x==p.x and self.y==p.y"
      ]
    },
    {
      "cell_type": "code",
      "execution_count": null,
      "id": "e951682c",
      "metadata": {
        "id": "e951682c"
      },
      "outputs": [],
      "source": [
        "p1 = Point(10,20)\n",
        "p1.spiegeleX()\n",
        "assert p1 == Point(10,-20)\n",
        "# Some hidden tests here"
      ]
    },
    {
      "cell_type": "markdown",
      "id": "6f9b7147-4445-4faf-a6a6-dda239c1df16",
      "metadata": {
        "deletable": false,
        "editable": false,
        "nbgrader": {
          "cell_type": "markdown",
          "checksum": "fc23441a2e65adaee0155a734d1f6eb7",
          "grade": false,
          "grade_id": "cell-f5a1280f9241f749",
          "locked": true,
          "schema_version": 3,
          "solution": false,
          "task": false
        },
        "id": "6f9b7147-4445-4faf-a6a6-dda239c1df16"
      },
      "source": [
        "# Aufgabe 3.10 (2 Punkte)\n",
        "\n",
        "Programmieren Sie eine Methode `isEmpty`, die überprüfen soll, ob eine\n",
        "`Queue` leer ist. Hier ein Anwendungsbeispiel dieser Methode:\n",
        "\n",
        "Beispielanwendungen:\n",
        "```python\n",
        ">>> q = Queue()\n",
        ">>> q.isEmpty()\n",
        "True\n",
        ">>> q.enqueue('Tom')\n",
        ">>> q.isEmpty()\n",
        "False\n",
        "```"
      ]
    },
    {
      "cell_type": "code",
      "execution_count": null,
      "id": "c15988a2",
      "metadata": {
        "deletable": false,
        "nbgrader": {
          "cell_type": "code",
          "checksum": "3d14c694b83e6d4221694952234c5166",
          "grade": false,
          "grade_id": "cell-dfe3f0c80000a3ab",
          "locked": false,
          "schema_version": 3,
          "solution": true,
          "task": false
        },
        "id": "c15988a2"
      },
      "outputs": [],
      "source": [
        "class Queue:\n",
        "    def isEmpty(self):\n",
        "        # Lösung hier einfügen\n",
        "        # YOUR CODE HERE\n",
        "        return len(self.q) == 0\n",
        "\n",
        "    def __init__(self):\n",
        "        self.q = []\n",
        "    def enqueue(self,e):\n",
        "        return self.q.append(e)\n",
        "    def dequeue(self):\n",
        "        e = self.q[0]\n",
        "        self.q = self.q[1:]\n",
        "        return e"
      ]
    },
    {
      "cell_type": "code",
      "execution_count": null,
      "metadata": {
        "deletable": false,
        "editable": false,
        "nbgrader": {
          "cell_type": "code",
          "checksum": "90b32878d3d464c987bb3a2dca6e6ee1",
          "grade": true,
          "grade_id": "cell-fee5b1ac1e3aaa1e",
          "locked": true,
          "points": 2,
          "schema_version": 3,
          "solution": false,
          "task": false
        },
        "id": "5Z81pc8Je7l6"
      },
      "outputs": [],
      "source": [
        "q = Queue()\n",
        "assert q.isEmpty()\n",
        "# Some hidden tests here"
      ],
      "id": "5Z81pc8Je7l6"
    },
    {
      "cell_type": "markdown",
      "id": "d89d6388-cf4f-4187-b88e-b187d93f5411",
      "metadata": {
        "id": "d89d6388-cf4f-4187-b88e-b187d93f5411"
      },
      "source": [
        "# Aufgabe 3.11 (3 Punkte)\n",
        "\n",
        "Programmieren Sie eine Methode, die zwei Queues \"addiert\", indem die jeweiligen Werte als Tupel (`tuple`) zusammengefasst werden. Sollte eine Queue länger sein als die andere, dann wird der Rest einfach abgeschnitten. Stellen Sie sicher, dass die Methode eine neue `Queue` mit den erstellten Tupeln zurückgibt und nicht einfach eine Liste erstellt.\n",
        "\n",
        "Beispielanwendung:\n",
        "```python\n",
        "> q1\n",
        "<-- 11, 23, 45, 100, 2 <--\n",
        "> q2\n",
        "<-- 'Albert', 'Ayn', 'Hannah', 'Paul' <--\n",
        "> q1 + q2\n",
        "<-- (11, 'Albert'), (23, 'Ayn'), (45, 'Hannah'), (100, 'Paul') <--\n",
        "```"
      ]
    },
    {
      "cell_type": "code",
      "execution_count": null,
      "metadata": {
        "deletable": false,
        "nbgrader": {
          "cell_type": "code",
          "checksum": "d52ae9a3c465cd9f1a6eb89c1d51fbc5",
          "grade": false,
          "grade_id": "cell-dfe3f0c80000a3ab",
          "locked": false,
          "schema_version": 3,
          "solution": true,
          "task": false
        },
        "id": "J-DhKODEe7l7"
      },
      "outputs": [],
      "source": [
        "class Queue:\n",
        "\n",
        "    def __add__(self, q):\n",
        "        # Lösung hier einfügen\n",
        "        # YOUR CODE HERE\n",
        "        q3 = Queue()\n",
        "        for e1, e2 in zip(self.q, q.q):\n",
        "            q3.enqueue((e1, e2))\n",
        "        return q3\n",
        "\n",
        "    def isEmpty(self):\n",
        "        # YOUR CODE HERE\n",
        "        return len(self.q) == 0\n",
        "\n",
        "    def __init__(self):\n",
        "        self.q = []\n",
        "    def enqueue(self,e):\n",
        "        return self.q.append(e)\n",
        "    def dequeue(self):\n",
        "        e = self.q[0]\n",
        "        self.q = self.q[1:]\n",
        "        return e\n",
        "    def __repr__(self):\n",
        "        if self.isEmpty():\n",
        "            return \"Empty Queue\"\n",
        "        else:\n",
        "            return \"<-- \" + str(self.q)[1:-1] + \" <--\"\n",
        "    def __eq__(self,q):\n",
        "        return self.q == q.q"
      ],
      "id": "J-DhKODEe7l7"
    },
    {
      "cell_type": "code",
      "execution_count": null,
      "metadata": {
        "deletable": false,
        "editable": false,
        "nbgrader": {
          "cell_type": "code",
          "checksum": "40823507f2ab955cbd5efdfd017f4bd8",
          "grade": true,
          "grade_id": "cell-fee5b1ac1e3aaa1e",
          "locked": true,
          "points": 3,
          "schema_version": 3,
          "solution": false,
          "task": false
        },
        "id": "D1Y-Durie7l8"
      },
      "outputs": [],
      "source": [
        "q1 = Queue()\n",
        "for i in [11,23,45,100,2]:\n",
        "    q1.enqueue(i)\n",
        "q2 = Queue()\n",
        "for s in [\"Albert\", \"Ayn\", \"Hannah\", \"Paul\"]:\n",
        "    q2.enqueue(s)\n",
        "q3 = Queue()\n",
        "for t in [(11, 'Albert'), (23, 'Ayn'), (45, 'Hannah'), (100, 'Paul')]:\n",
        "    q3.enqueue(t)\n",
        "assert q1+q2 == q3\n",
        "# Some hidden tests here"
      ],
      "id": "D1Y-Durie7l8"
    },
    {
      "cell_type": "markdown",
      "id": "b0e9414c-73bf-4f84-b076-7826013fbdb9",
      "metadata": {
        "deletable": false,
        "editable": false,
        "nbgrader": {
          "cell_type": "markdown",
          "checksum": "65e0574f53fae136a72f9da6b3ed8b7b",
          "grade": false,
          "grade_id": "cell-e309287b4ef88dbc",
          "locked": true,
          "schema_version": 3,
          "solution": false,
          "task": false
        },
        "id": "b0e9414c-73bf-4f84-b076-7826013fbdb9"
      },
      "source": [
        "# Aufgabe 3.13 (3 Punkte)\n",
        "\n",
        "Programmieren Sie die Methode `most_common` für die `MyCounter`-Klasse; diese Methode soll eine Zahl `n` übergeben bekommen und die `n` häufigsten Elemente als Liste von Tupeln `(Anzahl, Zeichen)` zurückliefern.\n",
        "\n",
        "Beispielanwendung:\n",
        "```python\n",
        "> c = MyCounter(\"Banana nananuna Baa\")\n",
        "> c.most_common(2)\n",
        "[(8, 'a'), (6, 'n')]\n",
        "\n",
        "```"
      ]
    },
    {
      "cell_type": "code",
      "execution_count": null,
      "metadata": {
        "deletable": false,
        "nbgrader": {
          "cell_type": "code",
          "checksum": "10a639b9cc5e2e358bf73d65b99e0b3c",
          "grade": false,
          "grade_id": "cell-dfe3f0c80000a3ab",
          "locked": false,
          "schema_version": 3,
          "solution": true,
          "task": false
        },
        "id": "SgdTzpYHe7l8"
      },
      "outputs": [],
      "source": [
        "class MyCounter:\n",
        "\n",
        "    def most_common(self,n):\n",
        "        # Lösung hier einfügen\n",
        "        # YOUR CODE HERE\n",
        "        lst = []\n",
        "        for k,v in self.c.items():\n",
        "            lst.append((v,k))\n",
        "        return sorted(lst, reverse=True)[:n]\n",
        "\n",
        "    def __init__(self, s=[]):\n",
        "        self.c = {}\n",
        "        for x in s:\n",
        "            self.add(x)\n",
        "    def add(self,x):\n",
        "        \"\"\"fuegt x in den MyCounter ein\"\"\"\n",
        "        if x in self.c:\n",
        "            self.c[x] = self.c[x] + 1\n",
        "        else:\n",
        "            self.c[x] = 1\n",
        "    def __repr__(self):\n",
        "        return 'MyCounter(' + str(self.c) + ')'"
      ],
      "id": "SgdTzpYHe7l8"
    },
    {
      "cell_type": "code",
      "execution_count": null,
      "id": "fba2397d",
      "metadata": {
        "id": "fba2397d",
        "outputId": "2b4c1457-ce88-4338-8042-d2d8814daa92"
      },
      "outputs": [
        {
          "data": {
            "text/plain": [
              "[(8, 'a'), (6, 'n'), (2, 'B')]"
            ]
          },
          "execution_count": 198,
          "metadata": {},
          "output_type": "execute_result"
        }
      ],
      "source": [
        "c = MyCounter(\"Banana nananuna Baa\")\n",
        "c.most_common(3)"
      ]
    },
    {
      "cell_type": "code",
      "execution_count": null,
      "metadata": {
        "deletable": false,
        "editable": false,
        "nbgrader": {
          "cell_type": "code",
          "checksum": "dee8f3a30805919a32f6696673d5b1f2",
          "grade": true,
          "grade_id": "cell-fee5b1ac1e3aaa1e",
          "locked": true,
          "points": 3,
          "schema_version": 3,
          "solution": false,
          "task": false
        },
        "id": "C1jg0VTqe7l-"
      },
      "outputs": [],
      "source": [
        "c = MyCounter(\"Banana nananuna Baa\")\n",
        "assert c.most_common(2) == [(8, 'a'), (6, 'n')]\n",
        "# Some hidden tests here"
      ],
      "id": "C1jg0VTqe7l-"
    },
    {
      "cell_type": "markdown",
      "id": "fcb0f0f7-db74-4e63-bc87-2bf951437628",
      "metadata": {
        "deletable": false,
        "editable": false,
        "nbgrader": {
          "cell_type": "markdown",
          "checksum": "346683c5c41a9e9aff4627bbcdf6d71a",
          "grade": false,
          "grade_id": "cell-8930cae117eba8a3",
          "locked": true,
          "schema_version": 3,
          "solution": false,
          "task": false
        },
        "id": "fcb0f0f7-db74-4e63-bc87-2bf951437628"
      },
      "source": [
        "# Aufgabe 3.14 (3 Punkte)\n",
        "\n",
        "Offenbar ist der `+`-Operator für `MyCounter`-Objekte definiert und funktioniert wie in folgendem Beispiel gezeigt:\n",
        "\n",
        "```python\n",
        ">>> c1\n",
        "MyCounter({'H': 1, 'a': 1, 'l': 2, 'o': 1})\n",
        ">>> c2\n",
        "MyCounter({'l': 2, 'a': 2})\n",
        ">>> c1 + c2\n",
        "MyCounter({'H': 1, 'a': 3, 'l': 4, 'o': 1})\n",
        "```\n",
        "Der `+`-Operator erzeugt also ein neues `MyCounter`-Objekt in dem die einzelnen Häufigkeiten addiert sind.\n",
        "Implementieren Sie einen `+`-Operator für die `MyCounter`-Klasse der\n",
        "sich gleich dem `+`-Operator der `MyCounter`-Klasse verhält."
      ]
    },
    {
      "cell_type": "code",
      "execution_count": null,
      "metadata": {
        "deletable": false,
        "nbgrader": {
          "cell_type": "code",
          "checksum": "bef625c021a34b506caa6202ca1ae333",
          "grade": false,
          "grade_id": "cell-dfe3f0c80000a3ab",
          "locked": false,
          "schema_version": 3,
          "solution": true,
          "task": false
        },
        "id": "RsehXsJ5e7l-"
      },
      "outputs": [],
      "source": [
        "class MyCounter(dict):\n",
        "\n",
        "    def __add__(self,c2):\n",
        "        # Lösung hier einfügen\n",
        "        # YOUR CODE HERE\n",
        "        res = MyCounter()\n",
        "        for k in self:\n",
        "            if k in c2:\n",
        "                res[k] = self[k] + c2[k]\n",
        "            else:\n",
        "                res[k] = self[k]\n",
        "        for k in c2:\n",
        "            if k not in self:\n",
        "                res[k] = c2[k]\n",
        "        return res\n",
        "\n",
        "    def __init__(self, s=[]):\n",
        "        super().__init__()\n",
        "        for x in s:\n",
        "            self.add(x)\n",
        "    def add(self,x):\n",
        "        \"\"\"fuegt x in den MyCounter ein\"\"\"\n",
        "        if x in self:\n",
        "            self[x] = self[x] + 1\n",
        "        else:\n",
        "            self[x] = 1\n",
        "    def __repr__(self):\n",
        "        return 'MyCounter(' + super().__repr__() + ')'"
      ],
      "id": "RsehXsJ5e7l-"
    },
    {
      "cell_type": "code",
      "execution_count": null,
      "metadata": {
        "deletable": false,
        "editable": false,
        "nbgrader": {
          "cell_type": "code",
          "checksum": "945642b5fda35fb2c5c0d03282808eb3",
          "grade": true,
          "grade_id": "cell-fee5b1ac1e3aaa1e",
          "locked": true,
          "points": 3,
          "schema_version": 3,
          "solution": false,
          "task": false
        },
        "id": "P7-e3u9ce7l_"
      },
      "outputs": [],
      "source": [
        "assert MyCounter(\"Hallo\")+MyCounter(\"lala\") == MyCounter(\"Hallolala\")\n",
        "# Some hidden tests here"
      ],
      "id": "P7-e3u9ce7l_"
    },
    {
      "cell_type": "markdown",
      "id": "80cc4fab-e024-4cb6-a01a-e0c18ad181ec",
      "metadata": {
        "deletable": false,
        "editable": false,
        "nbgrader": {
          "cell_type": "markdown",
          "checksum": "0eca060baa586963d22be6eb305d3526",
          "grade": false,
          "grade_id": "cell-14dca0e8c7bd6ebf",
          "locked": true,
          "schema_version": 3,
          "solution": false,
          "task": false
        },
        "id": "80cc4fab-e024-4cb6-a01a-e0c18ad181ec"
      },
      "source": [
        "# Aufgabe 3.15 (3 Punkte)\n",
        "\n",
        "Implementiern sie die Multiplikation für `MyCounter`-Objekte, so dass sie\n",
        "wie in folgendem Beispiel funktioniert:\n",
        "```python\n",
        ">>> c1 = MyCounter(\"Hallo\")\n",
        ">>> c1 * 10\n",
        "MyCounter({'H': 10, 'a': 10, 'l': 20, 'o': 10})\n",
        "```\n",
        "\n",
        "Die Multiplikation soll ein neues `MyCounter`-Objekt mit den Ergebnissen zurückgeben."
      ]
    },
    {
      "cell_type": "code",
      "execution_count": null,
      "metadata": {
        "deletable": false,
        "nbgrader": {
          "cell_type": "code",
          "checksum": "09b585d13f7eb64689c0eb8528c64c33",
          "grade": false,
          "grade_id": "cell-dfe3f0c80000a3ab",
          "locked": false,
          "schema_version": 3,
          "solution": true,
          "task": false
        },
        "id": "y9rn5TAHe7l_"
      },
      "outputs": [],
      "source": [
        "class MyCounter(dict):\n",
        "\n",
        "    def __mul__(self,n):\n",
        "        # Lösung hier einfügen\n",
        "        # YOUR CODE HERE\n",
        "        res = MyCounter()\n",
        "        if type(n) == int:\n",
        "            for k in self:\n",
        "                res[k] = self[k] * n\n",
        "        else:\n",
        "            for k in self:\n",
        "                if k in m:\n",
        "                    res[k] = self[k] * n[k]\n",
        "                else:\n",
        "                    res[k] = self[k]\n",
        "            for k in m:\n",
        "                if k not in self:\n",
        "                    res[k] = n[k]\n",
        "        return res\n",
        "\n",
        "    def __init__(self, s=[]):\n",
        "        super().__init__()\n",
        "        for x in s:\n",
        "            self.add(x)\n",
        "    def add(self,x):\n",
        "        \"\"\"fuegt x in den MyCounter ein\"\"\"\n",
        "        if x in self:\n",
        "            self[x] = self[x] + 1\n",
        "        else:\n",
        "            self[x] = 1\n",
        "    def __repr__(self):\n",
        "        return 'MyCounter(' + super().__repr__() + ')'"
      ],
      "id": "y9rn5TAHe7l_"
    },
    {
      "cell_type": "code",
      "execution_count": null,
      "id": "6585a6fd",
      "metadata": {
        "id": "6585a6fd",
        "outputId": "98b05394-1066-402e-dbb1-166b09266ea1"
      },
      "outputs": [
        {
          "data": {
            "text/plain": [
              "MyCounter({'H': 10, 'a': 10, 'l': 20, 'o': 10})"
            ]
          },
          "execution_count": 202,
          "metadata": {},
          "output_type": "execute_result"
        }
      ],
      "source": [
        "c1 = MyCounter(\"Hallo\")\n",
        "c1 * 10"
      ]
    },
    {
      "cell_type": "code",
      "execution_count": null,
      "metadata": {
        "deletable": false,
        "editable": false,
        "nbgrader": {
          "cell_type": "code",
          "checksum": "6a84c9f60ab7d9602b594da13df2b90f",
          "grade": true,
          "grade_id": "cell-fee5b1ac1e3aaa1e",
          "locked": true,
          "points": 3,
          "schema_version": 3,
          "solution": false,
          "task": false
        },
        "id": "gbWh5Ifge7mA"
      },
      "outputs": [],
      "source": [
        "c1 = MyCounter(\"Hallo\")\n",
        "assert (c1*10) == {'H': 10, 'a': 10, 'l': 20, 'o': 10}\n",
        "assert (c1)  == {'H': 1, 'a': 1, 'l': 2, 'o': 1}\n",
        "# Some hidden tests here"
      ],
      "id": "gbWh5Ifge7mA"
    },
    {
      "cell_type": "markdown",
      "id": "45358235-b09e-4149-8bae-5d9892e8b493",
      "metadata": {
        "deletable": false,
        "editable": false,
        "nbgrader": {
          "cell_type": "markdown",
          "checksum": "215f376c5ea80d9185b07065bc673847",
          "grade": false,
          "grade_id": "cell-5a8261a1f07573d7",
          "locked": true,
          "schema_version": 3,
          "solution": false,
          "task": false
        },
        "id": "45358235-b09e-4149-8bae-5d9892e8b493"
      },
      "source": [
        "# Aufgabe 3.16 (3 Punkte)\n",
        "\n",
        "Programmieren Sie die Funktion `ok(x)`, die den Parameter `x` daraufhin überprüft, ob er eine gerade ganze Zahl ist.\n",
        "\n",
        "Beispiel:\n",
        "```python\n",
        "> ok(3)\n",
        "False\n",
        "> ok(4)\n",
        "True\n",
        "> ok(\"Hallo\")\n",
        "False\n",
        ">ok(3.5)\n",
        "False\n",
        "```"
      ]
    },
    {
      "cell_type": "code",
      "execution_count": null,
      "metadata": {
        "deletable": false,
        "nbgrader": {
          "cell_type": "code",
          "checksum": "c2852ace14d56aef3df8b61d053f5307",
          "grade": false,
          "grade_id": "cell-dfe3f0c80000a3ab",
          "locked": false,
          "schema_version": 3,
          "solution": true,
          "task": false
        },
        "id": "M0OvX9oce7mA"
      },
      "outputs": [],
      "source": [
        "def ok(x):\n",
        "    # YOUR CODE HERE\n",
        "    if type(x) == int:\n",
        "        return x % 2 == 0\n",
        "    else:\n",
        "        return False"
      ],
      "id": "M0OvX9oce7mA"
    },
    {
      "cell_type": "code",
      "execution_count": null,
      "metadata": {
        "deletable": false,
        "editable": false,
        "nbgrader": {
          "cell_type": "code",
          "checksum": "2908bde3a2755ec4f167e6b6ed74efc6",
          "grade": true,
          "grade_id": "cell-fee5b1ac1e3aaa1e",
          "locked": true,
          "points": 2,
          "schema_version": 3,
          "solution": false,
          "task": false
        },
        "id": "ISsu2rO_e7mA"
      },
      "outputs": [],
      "source": [
        "assert ok(4)\n",
        "assert not ok(3)\n",
        "assert not ok(\"Hallo\")\n",
        "# Some hidden tests here"
      ],
      "id": "ISsu2rO_e7mA"
    },
    {
      "cell_type": "code",
      "execution_count": null,
      "id": "31407a96-b238-4d37-b2ff-c9d726b5b20e",
      "metadata": {
        "deletable": false,
        "editable": false,
        "nbgrader": {
          "cell_type": "code",
          "checksum": "e993612605419da03c1e4d8a22e3a8d7",
          "grade": true,
          "grade_id": "cell-e662347fc17cfedf",
          "locked": true,
          "points": 1,
          "schema_version": 3,
          "solution": false,
          "task": false
        },
        "id": "31407a96-b238-4d37-b2ff-c9d726b5b20e"
      },
      "outputs": [],
      "source": [
        "# Some more hidden tests here"
      ]
    },
    {
      "cell_type": "markdown",
      "id": "9e59a09e-2571-4a9b-a242-22a0c24a3d7f",
      "metadata": {
        "deletable": false,
        "editable": false,
        "nbgrader": {
          "cell_type": "markdown",
          "checksum": "d7acb92fe9fa34c58003808a37e08137",
          "grade": false,
          "grade_id": "cell-934a14d9864fe444",
          "locked": true,
          "schema_version": 3,
          "solution": false,
          "task": false
        },
        "id": "9e59a09e-2571-4a9b-a242-22a0c24a3d7f"
      },
      "source": []
    },
    {
      "cell_type": "markdown",
      "id": "ab783ec0",
      "metadata": {
        "id": "ab783ec0"
      },
      "source": [
        "# Aufgabe 3.18a (8 Punkte)\n",
        "\n",
        "Passen Sie die folgenden Methoden der Klasse `EvenL` so an, dass sie nur **gerade ganze Zahlen** (`int`) akzeptieren. Nutzen Sie dazu die bereits definierte Funktion `ok(x)`, um die Überprüfung durchzuführen:\n",
        "\n",
        "\n",
        "- `extend` (2 Punkte)\n",
        "- `insert` (2 Punkte)\n",
        "- `__add__` (2 Punkte)\n",
        "- `__init__` (2 Punkte)\n",
        "\n",
        "Da `EvenL` von `list` erbt, sollen Sie die Methoden von `list` mit `super()` aufrufen.\n",
        "\n",
        "**A**: Starten Sie mit der Anpassung von `extend`."
      ]
    },
    {
      "cell_type": "code",
      "execution_count": null,
      "metadata": {
        "deletable": false,
        "nbgrader": {
          "cell_type": "code",
          "checksum": "718dfcbc14611b4abc598e6683eb5bcc",
          "grade": false,
          "grade_id": "cell-dfe3f0c80000a3ab",
          "locked": false,
          "schema_version": 3,
          "solution": true,
          "task": false
        },
        "id": "btvZ_9yRe7mG"
      },
      "outputs": [],
      "source": [
        "class EvenL(list):\n",
        "\n",
        "    def extend(self, it):\n",
        "        # YOUR CODE HERE\n",
        "        super().extend([i for i in it if ok(i)])\n",
        "\n",
        "    def append(self, x):\n",
        "        if ok(x):\n",
        "            super().append(x)\n",
        "    def __repr__(self):\n",
        "        return \"EvenL(\"+super().__repr__()+\")\"\n",
        "\n",
        "    def ok(x):\n",
        "        return type(x)==int and x%2==0"
      ],
      "id": "btvZ_9yRe7mG"
    },
    {
      "cell_type": "code",
      "execution_count": null,
      "id": "2c65805d",
      "metadata": {
        "id": "2c65805d"
      },
      "outputs": [],
      "source": [
        "el = EvenL([2,4])\n",
        "el.extend([6,7,8,9])"
      ]
    },
    {
      "cell_type": "code",
      "execution_count": null,
      "id": "a8074ad0",
      "metadata": {
        "id": "a8074ad0",
        "outputId": "cd46f7c7-166e-4acd-ed85-e5bfa95a6789"
      },
      "outputs": [
        {
          "data": {
            "text/plain": [
              "EvenL([2, 4, 6, 8])"
            ]
          },
          "execution_count": 185,
          "metadata": {},
          "output_type": "execute_result"
        }
      ],
      "source": [
        "el"
      ]
    },
    {
      "cell_type": "code",
      "execution_count": null,
      "metadata": {
        "deletable": false,
        "editable": false,
        "nbgrader": {
          "cell_type": "code",
          "checksum": "a40c0cecf828539ae720ff9cb6b8e11d",
          "grade": true,
          "grade_id": "cell-fee5b1ac1e3aaa1e",
          "locked": true,
          "points": 2,
          "schema_version": 3,
          "solution": false,
          "task": false
        },
        "id": "XsKenm1Ve7mH"
      },
      "outputs": [],
      "source": [
        "el = EvenL([2,4])\n",
        "el.extend([6,7,8,9])\n",
        "assert el == EvenL([2,4,6,8])\n",
        "assert isinstance(el, list)\n",
        "\n",
        "# Some hidden tests here"
      ],
      "id": "XsKenm1Ve7mH"
    },
    {
      "cell_type": "markdown",
      "id": "5778aa57-0dc6-43db-9086-6cce8db9d5a9",
      "metadata": {
        "deletable": false,
        "editable": false,
        "nbgrader": {
          "cell_type": "markdown",
          "checksum": "002f80ae030fc202179f12b27f9e71f3",
          "grade": false,
          "grade_id": "cell-6840ec73bd8882cf",
          "locked": true,
          "schema_version": 3,
          "solution": false,
          "task": false
        },
        "id": "5778aa57-0dc6-43db-9086-6cce8db9d5a9"
      },
      "source": [
        "**B:** Fahren Sie fort mit der Anpassung von `insert`"
      ]
    },
    {
      "cell_type": "code",
      "execution_count": null,
      "id": "03b2d56c-4d18-4bfe-875a-0097f5305922",
      "metadata": {
        "deletable": false,
        "nbgrader": {
          "cell_type": "code",
          "checksum": "99cb6ac84b0f09a9bf6fb87220de2891",
          "grade": false,
          "grade_id": "cell-92249e990a3beb11",
          "locked": false,
          "schema_version": 3,
          "solution": true,
          "task": false
        },
        "id": "03b2d56c-4d18-4bfe-875a-0097f5305922"
      },
      "outputs": [],
      "source": [
        "class EvenL(list):\n",
        "\n",
        "    def insert(self, i, x):\n",
        "        # YOUR CODE HERE\n",
        "        super().insert(i, x)\n",
        "\n",
        "    def append(self, x):\n",
        "        if ok(x):\n",
        "            super().append(x)\n",
        "    def __repr__(self):\n",
        "        return \"EvenL(\"+super().__repr__()+\")\"\n",
        "\n",
        "def ok(x):\n",
        "    return type(x)==int and x%2==0"
      ]
    },
    {
      "cell_type": "code",
      "execution_count": null,
      "id": "a2a8221c-db1d-4036-be42-796045e1223b",
      "metadata": {
        "deletable": false,
        "editable": false,
        "nbgrader": {
          "cell_type": "code",
          "checksum": "86aa6f97a2e565bb150a2c0d87d50654",
          "grade": true,
          "grade_id": "cell-be5c44951dff74d6",
          "locked": true,
          "points": 2,
          "schema_version": 3,
          "solution": false,
          "task": false
        },
        "id": "a2a8221c-db1d-4036-be42-796045e1223b"
      },
      "outputs": [],
      "source": [
        "el = EvenL([10,4,2,7,9,7])\n",
        "el.insert(4,100)\n",
        "assert el == EvenL([10, 4, 2, 7, 100, 9, 7])\n",
        "# Some hidden tests here"
      ]
    },
    {
      "cell_type": "markdown",
      "id": "631c93f8-fccb-4a27-bf99-4e0911cd38a9",
      "metadata": {
        "deletable": false,
        "editable": false,
        "nbgrader": {
          "cell_type": "markdown",
          "checksum": "f7268ee95e6c7962bf6b382d343adafc",
          "grade": false,
          "grade_id": "cell-4c98ff4f7c656120",
          "locked": true,
          "schema_version": 3,
          "solution": false,
          "task": false
        },
        "id": "631c93f8-fccb-4a27-bf99-4e0911cd38a9"
      },
      "source": [
        "**C:** Fahren Sie fort mit der Anpassung von `__add__`"
      ]
    },
    {
      "cell_type": "code",
      "execution_count": null,
      "id": "dc6c2795-b74e-4d0f-a08e-d2c72d902bae",
      "metadata": {
        "deletable": false,
        "nbgrader": {
          "cell_type": "code",
          "checksum": "39c8de286b7d156c674b2c5d750a3baa",
          "grade": false,
          "grade_id": "cell-8e86fcb377c7dd0a",
          "locked": false,
          "schema_version": 3,
          "solution": true,
          "task": false
        },
        "id": "dc6c2795-b74e-4d0f-a08e-d2c72d902bae"
      },
      "outputs": [],
      "source": [
        "class EvenL(list):\n",
        "\n",
        "    def __add__(self, ev):\n",
        "        # YOUR CODE HERE\n",
        "        #super().__add__([x for x in ev if ok(x)])\n",
        "        return super().__add__([x for x in ev if ok(x)])\n",
        "\n",
        "    def append(self, x):\n",
        "        if ok(x):\n",
        "            super().append(x)\n",
        "    def __repr__(self):\n",
        "        return \"EvenL(\"+super().__repr__()+\")\"\n",
        "\n",
        "    def ok(x):\n",
        "        return type(x)==int and x%2==0"
      ]
    },
    {
      "cell_type": "code",
      "execution_count": null,
      "id": "41124488",
      "metadata": {
        "id": "41124488",
        "outputId": "f189399f-a426-4d5f-8da9-b04e37d97d3b"
      },
      "outputs": [
        {
          "data": {
            "text/plain": [
              "[2, 4, 6, 2, 4]"
            ]
          },
          "execution_count": 222,
          "metadata": {},
          "output_type": "execute_result"
        }
      ],
      "source": [
        "el = [2,4,6]\n",
        "el2 = el + [2,4]\n",
        "el2"
      ]
    },
    {
      "cell_type": "code",
      "execution_count": null,
      "id": "df786c6d",
      "metadata": {
        "id": "df786c6d",
        "outputId": "9647487e-b78a-45b4-a723-f97fe9d72650"
      },
      "outputs": [
        {
          "name": "stdout",
          "output_type": "stream",
          "text": [
            "[2, 4, 6, 2]\n"
          ]
        }
      ],
      "source": [
        "el = EvenL([2,4,6])\n",
        "el2 = el + [2]\n",
        "print(el2)"
      ]
    },
    {
      "cell_type": "code",
      "execution_count": null,
      "id": "48203190-354f-4339-b461-ff303538a555",
      "metadata": {
        "deletable": false,
        "editable": false,
        "nbgrader": {
          "cell_type": "code",
          "checksum": "485979d08bb33a153f2fc7099692f34d",
          "grade": true,
          "grade_id": "cell-7c4d747874c63af7",
          "locked": true,
          "points": 1,
          "schema_version": 3,
          "solution": false,
          "task": false
        },
        "id": "48203190-354f-4339-b461-ff303538a555"
      },
      "outputs": [],
      "source": [
        "el = EvenL([2,4,6])\n",
        "el2 = el + [2]\n",
        "assert el2 == EvenL([2,4,6,2])\n",
        "# Some hidden tests here"
      ]
    },
    {
      "cell_type": "code",
      "execution_count": null,
      "id": "d34b2188-19d4-4674-bbe3-e6d78151ba74",
      "metadata": {
        "deletable": false,
        "editable": false,
        "nbgrader": {
          "cell_type": "code",
          "checksum": "a9301b10ce75bc8f05ba8cc68884cdbf",
          "grade": true,
          "grade_id": "cell-5058877fc73b2e6a",
          "locked": true,
          "points": 1,
          "schema_version": 3,
          "solution": false,
          "task": false
        },
        "id": "d34b2188-19d4-4674-bbe3-e6d78151ba74"
      },
      "outputs": [],
      "source": [
        "# Some hidden tests here"
      ]
    },
    {
      "cell_type": "markdown",
      "id": "0cd37a58-a165-4406-89a4-b3bf39886b1a",
      "metadata": {
        "deletable": false,
        "editable": false,
        "nbgrader": {
          "cell_type": "markdown",
          "checksum": "1b907b9cf47c357c3d595564642b2f8c",
          "grade": false,
          "grade_id": "cell-ca2ad0845bffd885",
          "locked": true,
          "schema_version": 3,
          "solution": false,
          "task": false
        },
        "id": "0cd37a58-a165-4406-89a4-b3bf39886b1a"
      },
      "source": [
        "**D:** Fahren Sie fort mit der Anpassung von `__init__`"
      ]
    },
    {
      "cell_type": "code",
      "execution_count": null,
      "id": "7e727843-81c9-4762-bdb0-72dddf4688a6",
      "metadata": {
        "deletable": false,
        "nbgrader": {
          "cell_type": "code",
          "checksum": "6a7a129d098d9fbbddf0124fae7ecee1",
          "grade": false,
          "grade_id": "cell-61c1181a2fb8c763",
          "locked": false,
          "schema_version": 3,
          "solution": true,
          "task": false
        },
        "id": "7e727843-81c9-4762-bdb0-72dddf4688a6"
      },
      "outputs": [],
      "source": [
        "class EvenL(list):\n",
        "\n",
        "    def __init__(self, s):\n",
        "        # YOUR CODE HERE\n",
        "        super().__init__([x for x in s if ok(x)])\n",
        "\n",
        "    def append(self, x):\n",
        "        if ok(x):\n",
        "            super().append(x)\n",
        "    def __repr__(self):\n",
        "        return \"EvenL(\"+super().__repr__()+\")\"\n",
        "\n",
        "def ok(x):\n",
        "    return type(x)==int and x%2==0"
      ]
    },
    {
      "cell_type": "code",
      "execution_count": null,
      "id": "37ab3538",
      "metadata": {
        "id": "37ab3538",
        "outputId": "d319396e-62dd-4a08-cb75-876ab5b7c006"
      },
      "outputs": [
        {
          "data": {
            "text/plain": [
              "EvenL([2])"
            ]
          },
          "execution_count": 228,
          "metadata": {},
          "output_type": "execute_result"
        }
      ],
      "source": [
        "EvenL([1,2,3])"
      ]
    },
    {
      "cell_type": "code",
      "execution_count": null,
      "id": "23af8e78-d7d3-4318-a98f-15e45ad17c45",
      "metadata": {
        "deletable": false,
        "editable": false,
        "nbgrader": {
          "cell_type": "code",
          "checksum": "6c29fd444e4ad846c46e2f1ff1460e9c",
          "grade": true,
          "grade_id": "cell-d5063934cf98d67a",
          "locked": true,
          "points": 2,
          "schema_version": 3,
          "solution": false,
          "task": false
        },
        "id": "23af8e78-d7d3-4318-a98f-15e45ad17c45"
      },
      "outputs": [],
      "source": [
        "assert EvenL([1,2,3]) == EvenL([2])\n",
        "# Some hidden tests here"
      ]
    },
    {
      "cell_type": "code",
      "execution_count": null,
      "id": "38db8a96",
      "metadata": {
        "id": "38db8a96"
      },
      "outputs": [],
      "source": []
    },
    {
      "cell_type": "markdown",
      "id": "df403f35-d9e1-4f5d-a882-7a9323619bc9",
      "metadata": {
        "deletable": false,
        "editable": false,
        "nbgrader": {
          "cell_type": "markdown",
          "checksum": "a20f6dac5deaba483464d7a20e8ea4cc",
          "grade": false,
          "grade_id": "cell-dd823e691639308b",
          "locked": true,
          "schema_version": 3,
          "solution": false,
          "task": false
        },
        "id": "df403f35-d9e1-4f5d-a882-7a9323619bc9"
      },
      "source": [
        "# Aufgabe 3.24 (3 Punkte)\n",
        "\n",
        "Implementieren Sie die Methode `search(k)` für die `BTree`-Klasse.  \n",
        "Diese Methode soll den zum Schlüssel `k` gehörenden Wert suchen und Folgendes zurückgeben:\n",
        "\n",
        "- Falls der Schlüssel im `BTree` enthalten ist:  \n",
        "  → Ein Tupel `(Schlüssel, Wert)`  \n",
        "- Falls der Schlüssel **nicht enthalten** ist:  \n",
        "  → `None`\n",
        "\n",
        "Die Methode `search` soll also folgendem Beispiel gemäss arbeiten:\n",
        "```python\n",
        "> bt = BTree(30,v=\"0\")\n",
        "> d = {10:\"Hallo\", 123: \"Welt\", 7: \"hier\", 17: \"ich\", 21: \"und\", 111: \"tippe\"}\n",
        "> for k,v in d.items():\n",
        "    bt.insert(k,v)\n",
        "> bt.search(17)\n",
        "(17, 'ich')\n",
        "> bt.search(16) # None wird zurueckgegeben\n",
        "> bt.search(30)\n",
        "(30, '0')\n",
        "```"
      ]
    },
    {
      "cell_type": "code",
      "execution_count": null,
      "metadata": {
        "deletable": false,
        "nbgrader": {
          "cell_type": "code",
          "checksum": "04270cfa8be222b32ce57d60c4ab906d",
          "grade": false,
          "grade_id": "cell-dfe3f0c80000a3ab",
          "locked": false,
          "schema_version": 3,
          "solution": true,
          "task": false
        },
        "id": "I2G_iho-e7mV"
      },
      "outputs": [],
      "source": [
        "class BTree:\n",
        "    def search(self, k):\n",
        "        # YOUR CODE HERE\n",
        "        if k == self.k:\n",
        "            return((self.k, self.v))\n",
        "        elif k > self.k:\n",
        "            if self.r:\n",
        "                return self.r.search(k)\n",
        "            else:\n",
        "                return None\n",
        "        elif k < self.k:\n",
        "            if self.l:\n",
        "                return self.l.search(k)\n",
        "            else:\n",
        "                return None\n",
        "\n",
        "    def __init__(self, k, linker_TB=None, rechter_TB=None, v=None):\n",
        "        \"\"\" linker_TB muss ein BTree-Objekt sein;\n",
        "            rechter_TB muss ein BTree-Objekt sein.\"\"\"\n",
        "        self.k = k\n",
        "        self.l = linker_TB\n",
        "        self.r = rechter_TB\n",
        "        self.v = v\n",
        "    def insert(self,k,v=None):\n",
        "        if k>self.k:\n",
        "            # Fuege im rechten Teilbaum ein.\n",
        "            if self.r: # Es gibt einen rechten Teilbaum\n",
        "                self.r.insert(k,v)\n",
        "            else:      # Es gibt keinen rechten Teilbaum\n",
        "                self.r = BTree(k, v=v)\n",
        "        elif k<self.k:\n",
        "            # Füge im linken Teilbaum ein.\n",
        "            if self.l:\n",
        "                self.l.insert(k,v)\n",
        "            else:\n",
        "                self.l = BTree(k,v=v)\n",
        "        elif k==self.k:\n",
        "            self.v = v"
      ],
      "id": "I2G_iho-e7mV"
    },
    {
      "cell_type": "code",
      "execution_count": null,
      "metadata": {
        "deletable": false,
        "editable": false,
        "nbgrader": {
          "cell_type": "code",
          "checksum": "0d2985324f87e57822191c665f2f9b1a",
          "grade": true,
          "grade_id": "cell-fee5b1ac1e3aaa1e",
          "locked": true,
          "points": 3,
          "schema_version": 3,
          "solution": false,
          "task": false
        },
        "id": "qfhwkWtUe7mW",
        "outputId": "74b2d98c-f55e-4ecf-9a57-5015ff54669f"
      },
      "outputs": [
        {
          "name": "stdout",
          "output_type": "stream",
          "text": [
            "10\n",
            "17\n",
            "10\n",
            "17\n"
          ]
        }
      ],
      "source": [
        "bt = BTree(30,v=\"0\")\n",
        "d = {10:\"Hallo\", 123: \"Welt\", 7: \"hier\", 17: \"ich\", 21: \"und\", 111: \"tippe\"}\n",
        "for k,v in d.items():\n",
        "    bt.insert(k,v)\n",
        "assert bt.search(17) == (17, 'ich')\n",
        "assert bt.search(16) == None\n",
        "assert bt.search(30) == (30, '0')\n",
        "# Some hidden tests here"
      ],
      "id": "qfhwkWtUe7mW"
    },
    {
      "cell_type": "markdown",
      "id": "f96b2b81-5f98-47df-abfe-d34b45a0bf87",
      "metadata": {
        "deletable": false,
        "editable": false,
        "nbgrader": {
          "cell_type": "markdown",
          "checksum": "f4d3367ad3ecaf3ef3978b5b8bdf0e76",
          "grade": false,
          "grade_id": "cell-673ab0afd6b51ecc",
          "locked": true,
          "schema_version": 3,
          "solution": false,
          "task": false
        },
        "id": "f96b2b81-5f98-47df-abfe-d34b45a0bf87"
      },
      "source": [
        "# Aufgabe 3.25 (9 Punkte)\n",
        "\n",
        "Programmieren Sie die folgenden Methoden `sumBT`, `depthBT` und `maxBT` der Klasse BTree.\n",
        "\n",
        "## 1. `sumBT`\n",
        "\n",
        "Programmieren Sie zunächst die Methode `sumBT`, die alle Schlüssel-Werte des\n",
        "Baums aufsummiert; dazu dürfen sie annehmen, dass alle Schlüsselwerte Zahlen sind. Beispielanwendung:\n",
        "```python\n",
        "> bt = BTree(30)\n",
        "> for k in [1,4,3]:\n",
        "    bt.insert(k)\n",
        "> bt.sumBT()\n",
        "38\n",
        "```"
      ]
    },
    {
      "cell_type": "code",
      "execution_count": null,
      "metadata": {
        "deletable": false,
        "nbgrader": {
          "cell_type": "code",
          "checksum": "1d1c1c6e0cff5f87dbe5c87de5e0ef5d",
          "grade": false,
          "grade_id": "cell-dfe3f0c80000a3ab",
          "locked": false,
          "schema_version": 3,
          "solution": true,
          "task": false
        },
        "id": "n_4aN0pEe7mW"
      },
      "outputs": [],
      "source": [
        "class BTree:\n",
        "\n",
        "    def sumBT(self):\n",
        "        # YOUR CODE HERE\n",
        "        summe = self.k\n",
        "        print(f\"Ausgangspunkt: {summe}\")\n",
        "        if self.r:\n",
        "            summe += self.r.sumBT()\n",
        "            print(f\"Zwischenresultat: {summe}\")\n",
        "        if self.l:\n",
        "            summe += self.l.sumBT()\n",
        "            print(f\"Zwischenresultat: {summe}\")\n",
        "        return summe\n",
        "\n",
        "\n",
        "    def __init__(self, k, linker_TB=None, rechter_TB=None, v=None):\n",
        "        \"\"\" linker_TB muss ein BTree-Objekt sein;\n",
        "            rechter_TB muss ein BTree-Objekt sein.\"\"\"\n",
        "        self.k = k\n",
        "        self.l = linker_TB\n",
        "        self.r = rechter_TB\n",
        "        self.v = v\n",
        "    def E(self):\n",
        "          # wenn es einen linken Teilbaum gibt; man kann auch schreiben: if self.l!=None\n",
        "          if self.l != None:\n",
        "              green_edge = [(str(self.k),str(self.l.k))]\n",
        "              red_edges = self.l.E() if self.l else []\n",
        "          else:\n",
        "              green_edge = []\n",
        "              red_edges = []\n",
        "          if self.r != None:\n",
        "              blue_edge = [(str(self.k),str(self.r.k))]\n",
        "              black_edges = self.r.E()\n",
        "          else:\n",
        "              blue_edge = []\n",
        "              black_edges = []\n",
        "          return green_edge + red_edges + blue_edge + black_edges\n",
        "    def insert(self,k,v=None):\n",
        "        if k>self.k:\n",
        "            # Fuege im rechten Teilbaum ein.\n",
        "            if self.r: # Es gibt einen rechten Teilbaum\n",
        "                self.r.insert(k,v)\n",
        "            else:      # Es gibt keinen rechten Teilbaum\n",
        "                self.r = BTree(k, v=v)\n",
        "        elif k<self.k:\n",
        "            # Füge im linken Teilbaum ein.\n",
        "            if self.l:\n",
        "                self.l.insert(k,v)\n",
        "            else:\n",
        "                self.l = BTree(k,v=v)\n",
        "        elif k==self.k:\n",
        "            self.v = v"
      ],
      "id": "n_4aN0pEe7mW"
    },
    {
      "cell_type": "code",
      "execution_count": null,
      "id": "2308d222",
      "metadata": {
        "id": "2308d222",
        "outputId": "e8a94c17-f3bf-4c59-9ac6-e2541918a999"
      },
      "outputs": [
        {
          "name": "stdout",
          "output_type": "stream",
          "text": [
            "Ausgangspunkt: 10\n",
            "Ausgangspunkt: 15\n",
            "Ausgangspunkt: 20\n",
            "Zwischenresultat: 35\n",
            "Ausgangspunkt: 12\n",
            "Zwischenresultat: 47\n",
            "Zwischenresultat: 57\n",
            "Ausgangspunkt: 5\n",
            "Ausgangspunkt: 8\n",
            "Ausgangspunkt: 6\n",
            "Zwischenresultat: 14\n",
            "Zwischenresultat: 19\n",
            "Zwischenresultat: 76\n"
          ]
        },
        {
          "data": {
            "text/plain": [
              "76"
            ]
          },
          "execution_count": 252,
          "metadata": {},
          "output_type": "execute_result"
        }
      ],
      "source": [
        "bt = BTree(10)\n",
        "for k in [5,15,8,12,20,6]:\n",
        "    bt.insert(k)\n",
        "bt.sumBT()"
      ]
    },
    {
      "cell_type": "code",
      "execution_count": null,
      "metadata": {
        "deletable": false,
        "editable": false,
        "nbgrader": {
          "cell_type": "code",
          "checksum": "66b6faf977fc92e03a564cac5adebc8b",
          "grade": true,
          "grade_id": "cell-fee5b1ac1e3aaa1e",
          "locked": true,
          "points": 3,
          "schema_version": 3,
          "solution": false,
          "task": false
        },
        "id": "Dk_VVTtse7mW",
        "outputId": "7fc1d4c7-b80a-4157-e3f9-cbbb86116983"
      },
      "outputs": [
        {
          "name": "stdout",
          "output_type": "stream",
          "text": [
            "Ausgangspunkt: 30\n",
            "Ausgangspunkt: 1\n",
            "Ausgangspunkt: 4\n",
            "Ausgangspunkt: 3\n",
            "Zwischenresultat: 7\n",
            "Zwischenresultat: 8\n",
            "Zwischenresultat: 38\n"
          ]
        }
      ],
      "source": [
        "bt = BTree(30)\n",
        "for k in [1,4,3]:\n",
        "    bt.insert(k)\n",
        "assert bt.sumBT() == 38\n",
        "# Some hidden tests here"
      ],
      "id": "Dk_VVTtse7mW"
    },
    {
      "cell_type": "markdown",
      "id": "14dc518b-0550-4aae-9b60-9e463405af4f",
      "metadata": {
        "deletable": false,
        "editable": false,
        "nbgrader": {
          "cell_type": "markdown",
          "checksum": "2efb2a45feb4d1e6219a766856507214",
          "grade": false,
          "grade_id": "cell-8400dde6c12720f3",
          "locked": true,
          "schema_version": 3,
          "solution": false,
          "task": false
        },
        "id": "14dc518b-0550-4aae-9b60-9e463405af4f"
      },
      "source": [
        "## 2. `depthBT`\n",
        "\n",
        "Programmieren sie eine Methode `depthBT`, die die Tiefe eines Baumes\n",
        "berechnet. Beispielanwendung:\n",
        "```python\n",
        "> bt = BTree(1)\n",
        "> for k in [2,3,4]:\n",
        "    bt.insert(k)\n",
        "> bt.depthBT()\n",
        "4\n",
        "```"
      ]
    },
    {
      "cell_type": "code",
      "execution_count": null,
      "id": "4e418bde-08db-4011-ba2f-c690072a2fe5",
      "metadata": {
        "deletable": false,
        "nbgrader": {
          "cell_type": "code",
          "checksum": "d3bcbc43e22995654cde70cdfd4bd8b8",
          "grade": false,
          "grade_id": "cell-b2f6768c462a61df",
          "locked": false,
          "schema_version": 3,
          "solution": true,
          "task": false
        },
        "id": "4e418bde-08db-4011-ba2f-c690072a2fe5"
      },
      "outputs": [],
      "source": [
        "class BTree:\n",
        "\n",
        "    def depthBT(self):\n",
        "        # YOUR CODE HERE\n",
        "        if self.l:\n",
        "            ldepth = self.l.depthBT()\n",
        "        else:\n",
        "            ldepth = 0\n",
        "        if self.r:\n",
        "            rdepth = self.r.depthBT()\n",
        "        else:\n",
        "            rdepth = 0\n",
        "        return 1 + max(ldepth, rdepth)\n",
        "\n",
        "    def __init__(self, k, linker_TB=None, rechter_TB=None, v=None):\n",
        "        \"\"\" linker_TB muss ein BTree-Objekt sein;\n",
        "            rechter_TB muss ein BTree-Objekt sein.\"\"\"\n",
        "        self.k = k\n",
        "        self.l = linker_TB\n",
        "        self.r = rechter_TB\n",
        "        self.v = v\n",
        "    def E(self):\n",
        "          # wenn es einen linken Teilbaum gibt; man kann auch schreiben: if self.l!=None\n",
        "          if self.l != None:\n",
        "              green_edge = [(str(self.k),str(self.l.k))]\n",
        "              red_edges = self.l.E() if self.l else []\n",
        "          else:\n",
        "              green_edge = []\n",
        "              red_edges = []\n",
        "          if self.r != None:\n",
        "              blue_edge = [(str(self.k),str(self.r.k))]\n",
        "              black_edges = self.r.E()\n",
        "          else:\n",
        "              blue_edge = []\n",
        "              black_edges = []\n",
        "          return green_edge + red_edges + blue_edge + black_edges\n",
        "    def insert(self,k,v=None):\n",
        "        if k>self.k:\n",
        "            # Fuege im rechten Teilbaum ein.\n",
        "            if self.r: # Es gibt einen rechten Teilbaum\n",
        "                self.r.insert(k,v)\n",
        "            else:      # Es gibt keinen rechten Teilbaum\n",
        "                self.r = BTree(k, v=v)\n",
        "        elif k<self.k:\n",
        "            # Füge im linken Teilbaum ein.\n",
        "            if self.l:\n",
        "                self.l.insert(k,v)\n",
        "            else:\n",
        "                self.l = BTree(k,v=v)\n",
        "        elif k==self.k:\n",
        "            self.v = v"
      ]
    },
    {
      "cell_type": "code",
      "execution_count": null,
      "id": "50d4e176-f2d4-4067-9e82-7763390a316e",
      "metadata": {
        "deletable": false,
        "editable": false,
        "nbgrader": {
          "cell_type": "code",
          "checksum": "98f577ec72ddac41fba6519b75b5cf0e",
          "grade": true,
          "grade_id": "cell-db1e270e752fa18d",
          "locked": true,
          "points": 3,
          "schema_version": 3,
          "solution": false,
          "task": false
        },
        "id": "50d4e176-f2d4-4067-9e82-7763390a316e"
      },
      "outputs": [],
      "source": [
        "bt = BTree(1)\n",
        "assert bt.depthBT() == 1\n",
        "for k in [2,3,4]:\n",
        "    bt.insert(k)\n",
        "assert bt.depthBT() == 4\n",
        "# Some hidden tests here"
      ]
    },
    {
      "cell_type": "markdown",
      "id": "21eba240-51f0-45c1-9c9d-c62ab15b1640",
      "metadata": {
        "deletable": false,
        "editable": false,
        "nbgrader": {
          "cell_type": "markdown",
          "checksum": "6e44d0430f23d4b2e7b034c93d6b1ef9",
          "grade": false,
          "grade_id": "cell-d48977ff76dac6f9",
          "locked": true,
          "schema_version": 3,
          "solution": false,
          "task": false
        },
        "id": "21eba240-51f0-45c1-9c9d-c62ab15b1640"
      },
      "source": [
        "## 3. `maxBT`\n",
        "\n",
        "Programmieren Sie eine Methode `maxBT`, die das maximale Element\n",
        "eines Baums zurückliefert. Beispielanwendung:\n",
        "```python\n",
        "> bt = BTree(1)\n",
        "> for k in [2,30,4]:\n",
        "    bt.insert(k)\n",
        "> bt.maxBT()\n",
        "30\n",
        "```\n"
      ]
    },
    {
      "cell_type": "code",
      "execution_count": null,
      "id": "66e7f25d-5a64-4d33-9227-373c17e40db5",
      "metadata": {
        "deletable": false,
        "nbgrader": {
          "cell_type": "code",
          "checksum": "f629ef23b05bcf7f52f752adbc8c8e8b",
          "grade": false,
          "grade_id": "cell-cea2911c0068f559",
          "locked": false,
          "schema_version": 3,
          "solution": true,
          "task": false
        },
        "id": "66e7f25d-5a64-4d33-9227-373c17e40db5"
      },
      "outputs": [],
      "source": [
        "class BTree:\n",
        "\n",
        "    def maxBT(self):\n",
        "        # YOUR CODE HERE\n",
        "        if self.r:\n",
        "            return self.r.maxBT()\n",
        "        return self.k\n",
        "\n",
        "    def __init__(self, k, linker_TB=None, rechter_TB=None, v=None):\n",
        "        \"\"\" linker_TB muss ein BTree-Objekt sein;\n",
        "            rechter_TB muss ein BTree-Objekt sein.\"\"\"\n",
        "        self.k = k\n",
        "        self.l = linker_TB\n",
        "        self.r = rechter_TB\n",
        "        self.v = v\n",
        "    def E(self):\n",
        "          # wenn es einen linken Teilbaum gibt; man kann auch schreiben: if self.l!=None\n",
        "          if self.l != None:\n",
        "              green_edge = [(str(self.k),str(self.l.k))]\n",
        "              red_edges = self.l.E() if self.l else []\n",
        "          else:\n",
        "              green_edge = []\n",
        "              red_edges = []\n",
        "          if self.r != None:\n",
        "              blue_edge = [(str(self.k),str(self.r.k))]\n",
        "              black_edges = self.r.E()\n",
        "          else:\n",
        "              blue_edge = []\n",
        "              black_edges = []\n",
        "          return green_edge + red_edges + blue_edge + black_edges\n",
        "    def insert(self,k,v=None):\n",
        "        if k>self.k:\n",
        "            # Fuege im rechten Teilbaum ein.\n",
        "            if self.r: # Es gibt einen rechten Teilbaum\n",
        "                self.r.insert(k,v)\n",
        "            else:      # Es gibt keinen rechten Teilbaum\n",
        "                self.r = BTree(k, v=v)\n",
        "        elif k<self.k:\n",
        "            # Füge im linken Teilbaum ein.\n",
        "            if self.l:\n",
        "                self.l.insert(k,v)\n",
        "            else:\n",
        "                self.l = BTree(k,v=v)\n",
        "        elif k==self.k:\n",
        "            self.v = v"
      ]
    },
    {
      "cell_type": "code",
      "execution_count": null,
      "id": "6e7a66ec-2577-4dbd-bea8-8eedf456c7bf",
      "metadata": {
        "deletable": false,
        "editable": false,
        "nbgrader": {
          "cell_type": "code",
          "checksum": "8d23b441dccb0c440accb49f23ed843d",
          "grade": true,
          "grade_id": "cell-dd08fcf3623b5d5a",
          "locked": true,
          "points": 3,
          "schema_version": 3,
          "solution": false,
          "task": false
        },
        "id": "6e7a66ec-2577-4dbd-bea8-8eedf456c7bf"
      },
      "outputs": [],
      "source": [
        "bt = BTree(1)\n",
        "for k in [2,30,4]:\n",
        "    bt.insert(k)\n",
        "assert bt.maxBT() == 30\n",
        "# Some hidden tests here"
      ]
    },
    {
      "cell_type": "markdown",
      "id": "b3769c1f-83c4-425a-87d3-65a0978327e0",
      "metadata": {
        "deletable": false,
        "editable": false,
        "nbgrader": {
          "cell_type": "markdown",
          "checksum": "d78e05509171b6e8c2dc79c8009562c3",
          "grade": false,
          "grade_id": "cell-0073fd0d4aaef80e",
          "locked": true,
          "schema_version": 3,
          "solution": false,
          "task": false
        },
        "id": "b3769c1f-83c4-425a-87d3-65a0978327e0"
      },
      "source": [
        "# Aufgabe 3.29 (3 Punkte)\n",
        "\n",
        "**a**: Definieren Sie eine Klasse `DefaultDict`, die sich wie `dict` verhält,\n",
        "ausser dass der Zugriff auf nicht definierte Schlüssel einen bei der Erstellung des `dict`-Objekts übergebenen Default-Wert zurückliefert.\n",
        "\n",
        "**Tipp**: Dafür muss die `__getitem__`-Methode überschrieben werden.\n",
        "\n",
        "Beispielanwendung:\n",
        "```python\n",
        ">>> d = DefaultDict(10)\n",
        ">>> d[2]\n",
        "10\n",
        ">>> d[1] = 11\n",
        ">>> d[1]\n",
        "11\n",
        ">>> d[1] + d[2] + d[3]\n",
        "31\n",
        "```"
      ]
    },
    {
      "cell_type": "code",
      "execution_count": null,
      "id": "d1e7e6fa-39bf-44bf-ba72-5aeb517d32a1",
      "metadata": {
        "deletable": false,
        "nbgrader": {
          "cell_type": "code",
          "checksum": "cd3008bb7b18d8894bcb7853bacb9d06",
          "grade": false,
          "grade_id": "cell-c6ca2726df125eb8",
          "locked": false,
          "schema_version": 3,
          "solution": true,
          "task": false
        },
        "id": "d1e7e6fa-39bf-44bf-ba72-5aeb517d32a1"
      },
      "outputs": [],
      "source": [
        "class DefaultDict(dict):\n",
        "    def __init__(self, v):\n",
        "        self.default = v\n",
        "        super().__init__()\n",
        "    # YOUR CODE HERE\n",
        "    def __getitem__(self, key):\n",
        "        if key in self:\n",
        "            return super().__getitem__(key)\n",
        "        else:\n",
        "            return self.default"
      ]
    },
    {
      "cell_type": "code",
      "execution_count": null,
      "id": "9ec1b1b3-64f6-419c-88bf-5421f33eacd8",
      "metadata": {
        "deletable": false,
        "editable": false,
        "nbgrader": {
          "cell_type": "code",
          "checksum": "3abe6c55390602eb0d2c23f7165ce884",
          "grade": true,
          "grade_id": "cell-f0eb9a9172d178fc",
          "locked": true,
          "points": 3,
          "schema_version": 3,
          "solution": false,
          "task": false
        },
        "id": "9ec1b1b3-64f6-419c-88bf-5421f33eacd8"
      },
      "outputs": [],
      "source": [
        "d = DefaultDict(10)\n",
        "assert d[2] == 10\n",
        "d[1] = 11\n",
        "assert d[1] == 11\n",
        "assert d[1] + d[2] + d[3] == 31\n",
        "# Some hidden tests here"
      ]
    },
    {
      "cell_type": "markdown",
      "id": "81ec4908-03b1-4e51-abda-0ea4086790f0",
      "metadata": {
        "deletable": false,
        "editable": false,
        "nbgrader": {
          "cell_type": "markdown",
          "checksum": "31b533d2a35287527e446242ca91ed3e",
          "grade": false,
          "grade_id": "cell-40035aa96f6bd78c",
          "locked": true,
          "schema_version": 3,
          "solution": false,
          "task": false
        },
        "id": "81ec4908-03b1-4e51-abda-0ea4086790f0"
      },
      "source": [
        "**b**:\n",
        "Erweitern sie nun die Klasse um eine Methode `changeDefault`, die\n",
        "den Default-Wert ändert.\n",
        "\n",
        "Beispiel:\n",
        "```python\n",
        ">>> d = defaultDict(\"x\")\n",
        ">>> d[1] = 10\n",
        ">>> d[2]\n",
        "\"x\"\n",
        ">>> d.changeDefault(\"y\")\n",
        ">>> d[2]\n",
        "\"y\"\n",
        "```"
      ]
    },
    {
      "cell_type": "code",
      "execution_count": null,
      "id": "ef6be5b5-9b2c-4323-9288-6755046cc76f",
      "metadata": {
        "deletable": false,
        "nbgrader": {
          "cell_type": "code",
          "checksum": "487490608a95ae24ad046757f5cfd323",
          "grade": false,
          "grade_id": "cell-1c06a1eff31218b8",
          "locked": false,
          "schema_version": 3,
          "solution": true,
          "task": false
        },
        "id": "ef6be5b5-9b2c-4323-9288-6755046cc76f"
      },
      "outputs": [],
      "source": [
        "class DefaultDict(dict):\n",
        "    def __init__(self, v):\n",
        "        self.default = v\n",
        "        super().__init__()\n",
        "    # YOUR CODE HERE\n",
        "    raise NotImplementedError()"
      ]
    },
    {
      "cell_type": "code",
      "execution_count": null,
      "id": "dd289abf-940b-429a-b27d-5d301b4a341c",
      "metadata": {
        "deletable": false,
        "editable": false,
        "nbgrader": {
          "cell_type": "code",
          "checksum": "0f28aaf0d2129838d98f133ffea2b913",
          "grade": true,
          "grade_id": "cell-2b68f4900d3ce41a",
          "locked": true,
          "points": 3,
          "schema_version": 3,
          "solution": false,
          "task": false
        },
        "id": "dd289abf-940b-429a-b27d-5d301b4a341c"
      },
      "outputs": [],
      "source": [
        "d = DefaultDict(\"x\")\n",
        "d[1] = 10\n",
        "assert d[2] == \"x\"\n",
        "d.changeDefault(\"y\")\n",
        "assert d[2] == \"y\"\n",
        "# Some hidden tests here"
      ]
    },
    {
      "cell_type": "code",
      "execution_count": null,
      "metadata": {
        "deletable": false,
        "nbgrader": {
          "cell_type": "code",
          "checksum": "6282e4f09485122c90efe13fb21361bb",
          "grade": false,
          "grade_id": "cell-dfe3f0c80000a3ab",
          "locked": false,
          "schema_version": 3,
          "solution": true,
          "task": false
        },
        "id": "XZWbmKfBe7mZ"
      },
      "outputs": [],
      "source": [
        "class Point:\n",
        "    def toTuple(self):\n",
        "        # YOUR CODE HERE\n",
        "        raise NotImplementedError()\n",
        "\n",
        "    def __init__(self, x, y):\n",
        "        self.x = x\n",
        "        self.y = y\n",
        "    def __repr__(self):\n",
        "        return \"(\"+str(self.x)+\"¦\"+str(self.y)+\")\"\n",
        "    def __eq__(self, p):\n",
        "        return self.x==p.x and self.y==p.y"
      ],
      "id": "XZWbmKfBe7mZ"
    },
    {
      "cell_type": "code",
      "execution_count": null,
      "metadata": {
        "deletable": false,
        "editable": false,
        "nbgrader": {
          "cell_type": "code",
          "checksum": "5a8466e1b404cce1e9233cfba0e78079",
          "grade": true,
          "grade_id": "cell-fee5b1ac1e3aaa1e",
          "locked": true,
          "points": 3,
          "schema_version": 3,
          "solution": false,
          "task": false
        },
        "id": "Z9HTuOxde7ma"
      },
      "outputs": [],
      "source": [
        "p1 = Point(3,7)\n",
        "assert p1.toTuple() == (3,7)\n",
        "# Some hidden tests here"
      ],
      "id": "Z9HTuOxde7ma"
    },
    {
      "cell_type": "code",
      "execution_count": null,
      "id": "a3f67981-656e-445b-abcc-94e769c4581c",
      "metadata": {
        "id": "a3f67981-656e-445b-abcc-94e769c4581c"
      },
      "outputs": [],
      "source": []
    },
    {
      "cell_type": "markdown",
      "id": "799218df-729b-4bae-b6b3-efe3f2c48e13",
      "metadata": {
        "deletable": false,
        "editable": false,
        "nbgrader": {
          "cell_type": "markdown",
          "checksum": "0b1291e49ffd8bb1967763f077b0e2c1",
          "grade": false,
          "grade_id": "cell-9f1b8e3b77aa4e1a",
          "locked": true,
          "schema_version": 3,
          "solution": false,
          "task": false
        },
        "id": "799218df-729b-4bae-b6b3-efe3f2c48e13"
      },
      "source": [
        "# Aufgabe 3.30\n",
        "\n",
        "**7*3 = 21 Punkte**\n",
        "\n",
        "Programmieren Sie eine Klasse Bruch, um positive Bruchzahlen zu repräsentieren.\n",
        "\n",
        "1. Programmieren Sie den Konstruktor, der soll zwei **Attribute** speichern: 1) `z` (**Zähler**, positive ganze Zahl) und 2) `n` (**Nenner**, positive ganze Zahl)\n",
        "Sie können davon ausgehen, dass sowohl der Zähler als auch der Nenner **immer positiv sind**. Eine Prüfung ist daher nicht notwendig. Siehe Beispiel unten.\n",
        "2. Programmieren Sie eine String-Repräsentation von Bruch-Objekten,\n",
        "so dass Ausgaben entstehen wie im Beispiel unten gezeigt.\n",
        "3. Programmieren Sie die Addition zweier Brüche; sie dürfen die unten definierte Funktion `kgv` verwenden (kleinstes gemeinsames Vielfaches).\n",
        "4. Programmieren Sie die Multiplikation zweier Brüche (siehe Beispiel\n",
        "unten).\n",
        "5. Programmieren Sie eine Methode addOne, die den Bruch um eins\n",
        "erhöht – siehe Beispiel unten.\n",
        "6. Programmieren Sie die Methode isNatural, die testet, ob der\n",
        "Bruch eine natürliche Zahl ist.\n",
        "7. Programmieren Sie die Methode reciprocal (zu deutsch: „Kehrwert“), die den Kehrwert eines Bruches zurückliefert (den Bruch\n",
        "selbst jedoch unverändert lässt).\n",
        "```python\n",
        ">>> b = Bruch(3,4)\n",
        ">>> b\n",
        "3/4\n",
        ">>> b2 = Bruch(1,3)\n",
        ">>> b1 + b2\n",
        "13/12\n",
        ">>> b.addOne()\n",
        ">>> b\n",
        "7/4\n",
        ">>> b * Bruch(1,2)\n",
        "7/8\n",
        ">>> Bruch(4,2).isNatural()\n",
        "True\n",
        ">>> b.reciprocal()\n",
        "4/7\n",
        "```"
      ]
    },
    {
      "cell_type": "code",
      "execution_count": null,
      "id": "e09263da-cd6f-4786-8dca-02bb34a54de0",
      "metadata": {
        "deletable": false,
        "nbgrader": {
          "cell_type": "code",
          "checksum": "a9881d3737f370c81040e5d5fd0708a3",
          "grade": false,
          "grade_id": "cell-a3bb28a2d13ed609",
          "locked": false,
          "schema_version": 3,
          "solution": true,
          "task": false
        },
        "id": "e09263da-cd6f-4786-8dca-02bb34a54de0"
      },
      "outputs": [],
      "source": [
        "import math\n",
        "def kgv(a, b):\n",
        "    return abs(a*b) // math.gcd(a, b)\n",
        "\n",
        "class Bruch:\n",
        "    # YOUR CODE HERE\n",
        "    raise NotImplementedError()"
      ]
    },
    {
      "cell_type": "code",
      "execution_count": null,
      "metadata": {
        "deletable": false,
        "editable": false,
        "nbgrader": {
          "cell_type": "code",
          "checksum": "f5259a978ac12bad54717da8b6ed4ca5",
          "grade": true,
          "grade_id": "cell-f0eb9a9172d178fc",
          "locked": true,
          "points": 3,
          "schema_version": 3,
          "solution": false,
          "task": false
        },
        "id": "wd5gnYQle7ma"
      },
      "outputs": [],
      "source": [
        "b = Bruch(3,4)\n",
        "b2 = Bruch(1,3)\n",
        "b_erg = b + b2\n",
        "assert (b_erg.z, b_erg.n) == (13 , 12)\n",
        "b.addOne()\n",
        "assert (b.z, b.n) == (7,4)\n",
        "b_erg = b * Bruch(1,2)\n",
        "assert (b_erg.z, b_erg.n) == (7,8)\n",
        "assert Bruch(4,2).isNatural()\n",
        "# Some hidden tests here"
      ],
      "id": "wd5gnYQle7ma"
    },
    {
      "cell_type": "code",
      "execution_count": null,
      "id": "f208c37f-b49d-4ca9-92ad-44b41635f4bc",
      "metadata": {
        "deletable": false,
        "editable": false,
        "nbgrader": {
          "cell_type": "code",
          "checksum": "079490e2fd924add64a4714d9ad0e1d1",
          "grade": true,
          "grade_id": "cell-f6d55b21a7460a20",
          "locked": true,
          "points": 3,
          "schema_version": 3,
          "solution": false,
          "task": false
        },
        "id": "f208c37f-b49d-4ca9-92ad-44b41635f4bc"
      },
      "outputs": [],
      "source": [
        "# Some hidden tests for 1."
      ]
    },
    {
      "cell_type": "code",
      "execution_count": null,
      "id": "584247c8-4f6c-4758-ba75-9ba00b18b664",
      "metadata": {
        "deletable": false,
        "editable": false,
        "nbgrader": {
          "cell_type": "code",
          "checksum": "8774e117b0ce6ef4efd3bb3e4f45ceb8",
          "grade": true,
          "grade_id": "cell-57e46dc87ff6ab35",
          "locked": true,
          "points": 3,
          "schema_version": 3,
          "solution": false,
          "task": false
        },
        "id": "584247c8-4f6c-4758-ba75-9ba00b18b664"
      },
      "outputs": [],
      "source": [
        "# Some hidden tests for 2."
      ]
    },
    {
      "cell_type": "code",
      "execution_count": null,
      "id": "207d1881-54b9-4476-b72e-75dae3d88870",
      "metadata": {
        "deletable": false,
        "editable": false,
        "nbgrader": {
          "cell_type": "code",
          "checksum": "3d1288873fc559db32e4e1202890254e",
          "grade": true,
          "grade_id": "cell-5919bc6b58751500",
          "locked": true,
          "points": 3,
          "schema_version": 3,
          "solution": false,
          "task": false
        },
        "id": "207d1881-54b9-4476-b72e-75dae3d88870"
      },
      "outputs": [],
      "source": [
        "# Some hidden tests for 3."
      ]
    },
    {
      "cell_type": "code",
      "execution_count": null,
      "id": "f261ea4d-84f6-4440-8e5d-0b9bb448b8c2",
      "metadata": {
        "deletable": false,
        "editable": false,
        "nbgrader": {
          "cell_type": "code",
          "checksum": "2ce10130da7772b44934cec695a5b0c9",
          "grade": true,
          "grade_id": "cell-1239f0a41db5728a",
          "locked": true,
          "points": 3,
          "schema_version": 3,
          "solution": false,
          "task": false
        },
        "id": "f261ea4d-84f6-4440-8e5d-0b9bb448b8c2"
      },
      "outputs": [],
      "source": [
        "# Some hidden tests for 4."
      ]
    },
    {
      "cell_type": "code",
      "execution_count": null,
      "id": "a981342c-f088-4517-8ea4-73ba674b4ff0",
      "metadata": {
        "deletable": false,
        "editable": false,
        "nbgrader": {
          "cell_type": "code",
          "checksum": "6597d45739d8eb36242ae3136ad7b1b9",
          "grade": true,
          "grade_id": "cell-7564bbfed2b2d9e5",
          "locked": true,
          "points": 3,
          "schema_version": 3,
          "solution": false,
          "task": false
        },
        "id": "a981342c-f088-4517-8ea4-73ba674b4ff0"
      },
      "outputs": [],
      "source": [
        "# Some hidden tests for 5."
      ]
    },
    {
      "cell_type": "code",
      "execution_count": null,
      "id": "ba6f54b6-499d-4e54-8bf3-e761c427cee6",
      "metadata": {
        "deletable": false,
        "editable": false,
        "nbgrader": {
          "cell_type": "code",
          "checksum": "51162a764839e758726d33d541f342eb",
          "grade": true,
          "grade_id": "cell-fdd41ff980a47401",
          "locked": true,
          "points": 3,
          "schema_version": 3,
          "solution": false,
          "task": false
        },
        "id": "ba6f54b6-499d-4e54-8bf3-e761c427cee6"
      },
      "outputs": [],
      "source": [
        "# Some hidden tests for 5."
      ]
    },
    {
      "cell_type": "code",
      "execution_count": null,
      "id": "d8dc1842-5f9e-49dd-834f-e3e48007089b",
      "metadata": {
        "deletable": false,
        "editable": false,
        "nbgrader": {
          "cell_type": "code",
          "checksum": "8e6b787e815d4229a0cda3f783853a2f",
          "grade": true,
          "grade_id": "cell-a97f4b1760be7e46",
          "locked": true,
          "points": 3,
          "schema_version": 3,
          "solution": false,
          "task": false
        },
        "id": "d8dc1842-5f9e-49dd-834f-e3e48007089b"
      },
      "outputs": [],
      "source": [
        "# Some hidden tests for 6."
      ]
    },
    {
      "cell_type": "markdown",
      "id": "475a7efb-bd6a-4564-bcc8-e5b12f9f5676",
      "metadata": {
        "deletable": false,
        "editable": false,
        "nbgrader": {
          "cell_type": "markdown",
          "checksum": "045d7ba785e55478df82b29217e33126",
          "grade": false,
          "grade_id": "cell-145f2e9c2a256bd7",
          "locked": true,
          "schema_version": 3,
          "solution": false,
          "task": false
        },
        "id": "475a7efb-bd6a-4564-bcc8-e5b12f9f5676"
      },
      "source": [
        "# Aufgabe 3.36\n",
        "\n",
        "**7*3 = 21 Punkte**\n",
        "\n",
        "Implementieren Sie eine Klasse für einen Aufgaben-Manager, der anstehende Aufgaben (jeweils repräsentiert als String, der die Aufgabenbeschreibung enthält) verwaltet. Jede Aufgabe hat eine Priorität (repräsentiert als eine Ganzzahl), die die Wichtigkeit oder Dringlichkeit der Aufgabe angeben soll. Je kleiner diese Zahl, desto wichtiger die entsprechende Aufgabe. Für eine Priorität kann es mehrere Aufgaben geben.  \n",
        "\n",
        "**Datenstruktur**\n",
        "\n",
        "Die Aufgaben werden in einem Wörterbuch (`self.aufgaben`) gespeichert.\n",
        "- Der Schlüssel (`key`) ist die Priorität.\n",
        "- Der Wert (`value`) ist ein Stack, in dem die Aufgaben mit dieser Priorität gespeichert werden.\n",
        "- Die Klasse `Stack` ist bereits implementiert und soll für die Verwaltung der Aufgaben genutzt werden.\n",
        "\n",
        "\n",
        "Der Kopf der Klasse sei gegeben durch:\n",
        "```python\n",
        "class AufgabenManager:\n",
        "  def __init__(self):\n",
        "    self.aufgaben = {}\n",
        "  ...\n",
        "```\n",
        "\n",
        "Implementieren Sie die folgenden Methoden, so dass die Klasse gemäss der am Ende der Aufgabenstellung gezeigten Beispielanwendung funktioniert.\n",
        "1.  Die Methode `neueAufgabe`, die eine neue Aufgabe mit einer bestimmten Priorität hinzufügt. Der Methode muss ein String und\n",
        "eine Ganzzahl übergeben werden.\n",
        "2. Die Methode `hoechstePrio`, die die höchste Prioritätsstufe zurückliefern soll (das heisst, die Prioritätsstufe die der niedrigsten Zahl entspricht, d.h. Prio 1 stellt z.B. eine höhrere Prio dar, als Prio 4).\n",
        "3. Die Methode `erledigeNaechsteAufgabe`, die die nächste Aufgabe der höchsten Prioritätsstufe erledigt, d.h. aus der Datenstruktur löscht und den Aufgaben-String zurückliefert.\n",
        "4. Eine Methode `alleAufgabenMitPrio`, die alle Aufgaben einer bestimmten Prioritätsstufe zurückliefert. Die Methode soll eine (eventuell auch leere) Liste von Strings zurückliefern.\n",
        "5. Die Methode `allePrios`, die eine Liste aller Prioriätsstufen zurückliefern soll.\n",
        "6. Die Methode `anzahlAufgabenPrio`, die die Anzahl der Aufgaben einer bestimmten Prioritätsstufe zurückliefern soll. Die Methode soll eine Prioritätsstufe übergeben bekommen.\n",
        "7. Die Methode `anzahlAufgaben`, die zurückliefern soll, wie viele Aufgaben es insgesamt gibt.\n",
        "\n",
        "Hier eine Beispielanwendung der Klasse:\n",
        "```python\n",
        ">>> aufgs = AufgabenManager()\n",
        ">>> aufgs.neueAufgabe(\"Kueche putzen\",5)\n",
        ">>> aufgs.neueAufgabe(\"Auf Prog 1 lernen\", 1)\n",
        ">>> aufgs.neueAufgabe(\"Oma besuchen\", 2)\n",
        ">>> aufgs.neueAufgabe(\"Auf Mathe 1 lernen\", 1)\n",
        ">>> aufgs.neueAufgabe(\"Fahrrad putzen\", 10)\n",
        ">>> aufgs.erledigeNaechsteAufgabe()\n",
        "\"Auf Mathe 1 lernen\"\n",
        ">>> aufgs.erledigeNaechsteAufgabe()\n",
        "\"Auf Prog 1 lernen\"\n",
        ">>> print(aufgs.hoechstePrio())\n",
        "2\n",
        ">>> print(aufgs.anzahlAufgabenPrio(1))\n",
        "0\n",
        ">>> print(aufgs.anzahlAufgaben())\n",
        "3\n",
        ">>> print(aufgs.alleAufgabenMitPrio(10))\n",
        "[\"Fahrrad putzen\"]\n",
        ">>> print(aufgs.allePrios())\n",
        "[5, 2, 10]\n",
        "```"
      ]
    },
    {
      "cell_type": "code",
      "execution_count": null,
      "metadata": {
        "deletable": false,
        "nbgrader": {
          "cell_type": "code",
          "checksum": "8347ec73dfff860c10281cf60192f566",
          "grade": false,
          "grade_id": "cell-a3bb28a2d13ed609",
          "locked": false,
          "schema_version": 3,
          "solution": true,
          "task": false
        },
        "id": "W4ng2Ng-e7mb"
      },
      "outputs": [],
      "source": [
        "class Stack:\n",
        "    def __init__(self):\n",
        "        self.s = []\n",
        "    def push(self,x):\n",
        "        self.s.append(x)\n",
        "    def pop(self):\n",
        "        ret = self.s[-1]\n",
        "        self.s = self.s[:-1]\n",
        "        return ret\n",
        "    def isEmpty(self):\n",
        "        return self.s==[]\n",
        "    def __repr__(self):\n",
        "        return str(self.s)[1:-1]+\"<->\"\n",
        "\n",
        "class AufgabenManager:\n",
        "    def __init__(self):\n",
        "        self.aufgaben = {}\n",
        "\n",
        "    # YOUR CODE HERE\n",
        "    raise NotImplementedError()"
      ],
      "id": "W4ng2Ng-e7mb"
    },
    {
      "cell_type": "code",
      "execution_count": null,
      "id": "32e07c73-a77f-4e83-9629-b7acf8e72a85",
      "metadata": {
        "deletable": false,
        "editable": false,
        "nbgrader": {
          "cell_type": "code",
          "checksum": "5e33f4bdda95e5dbbc9a3fb4d3a8c589",
          "grade": true,
          "grade_id": "cell-f63de364e6e4c723",
          "locked": true,
          "points": 3,
          "schema_version": 3,
          "solution": false,
          "task": false
        },
        "id": "32e07c73-a77f-4e83-9629-b7acf8e72a85"
      },
      "outputs": [],
      "source": [
        "aufgs = AufgabenManager()\n",
        "aufgs.neueAufgabe(\"Kueche putzen\",5)\n",
        "aufgs.neueAufgabe(\"Auf Prog 1 lernen\", 1)\n",
        "aufgs.neueAufgabe(\"Oma besuchen\", 2)\n",
        "aufgs.neueAufgabe(\"Auf Mathe 1 lernen\", 1)\n",
        "aufgs.neueAufgabe(\"Fahrrad putzen\", 10)\n",
        "assert aufgs.erledigeNaechsteAufgabe() == 'Auf Mathe 1 lernen'\n",
        "assert aufgs.erledigeNaechsteAufgabe() == 'Auf Prog 1 lernen'\n",
        "assert aufgs.hoechstePrio() == 2\n",
        "assert aufgs.anzahlAufgabenPrio(1) == 0\n",
        "assert aufgs.anzahlAufgaben() == 3"
      ]
    },
    {
      "cell_type": "code",
      "execution_count": null,
      "id": "050fb5d4-2840-4efc-a54d-41d04528f7e2",
      "metadata": {
        "deletable": false,
        "editable": false,
        "nbgrader": {
          "cell_type": "code",
          "checksum": "83e348aff286fd87f8a098669f712cb5",
          "grade": true,
          "grade_id": "cell-1c93ff2440b40eec",
          "locked": true,
          "points": 3,
          "schema_version": 3,
          "solution": false,
          "task": false
        },
        "id": "050fb5d4-2840-4efc-a54d-41d04528f7e2"
      },
      "outputs": [],
      "source": [
        "# Some hidden tests for 1."
      ]
    },
    {
      "cell_type": "code",
      "execution_count": null,
      "id": "67cc4895-523c-4e91-8d70-51935d391c37",
      "metadata": {
        "deletable": false,
        "editable": false,
        "nbgrader": {
          "cell_type": "code",
          "checksum": "01364b56cf9720b04d9c3dbd68c979c1",
          "grade": true,
          "grade_id": "cell-9326df2e250bcbc7",
          "locked": true,
          "points": 3,
          "schema_version": 3,
          "solution": false,
          "task": false
        },
        "id": "67cc4895-523c-4e91-8d70-51935d391c37"
      },
      "outputs": [],
      "source": [
        "# Some hidden tests for 2."
      ]
    },
    {
      "cell_type": "code",
      "execution_count": null,
      "metadata": {
        "deletable": false,
        "editable": false,
        "nbgrader": {
          "cell_type": "code",
          "checksum": "4c87ae55b888cc8585a8d79151b22438",
          "grade": true,
          "grade_id": "cell-f0eb9a9172d178fc",
          "locked": true,
          "points": 3,
          "schema_version": 3,
          "solution": false,
          "task": false
        },
        "id": "cHz1hEWBe7mc"
      },
      "outputs": [],
      "source": [
        "# Some hidden tests for 3."
      ],
      "id": "cHz1hEWBe7mc"
    },
    {
      "cell_type": "code",
      "execution_count": null,
      "id": "acf20526-4d02-4373-95aa-313d341e9251",
      "metadata": {
        "deletable": false,
        "editable": false,
        "nbgrader": {
          "cell_type": "code",
          "checksum": "6f69234ee920be2e30cb6c0c7eef722d",
          "grade": true,
          "grade_id": "cell-df7112101d7f4e6f",
          "locked": true,
          "points": 3,
          "schema_version": 3,
          "solution": false,
          "task": false
        },
        "id": "acf20526-4d02-4373-95aa-313d341e9251"
      },
      "outputs": [],
      "source": [
        "# Some hidden tests for 4."
      ]
    },
    {
      "cell_type": "code",
      "execution_count": null,
      "id": "63eb0071-d821-4928-86e6-0d4bec0a9e65",
      "metadata": {
        "deletable": false,
        "editable": false,
        "nbgrader": {
          "cell_type": "code",
          "checksum": "27df7e52c4f27b5b2fc0d2a720057a44",
          "grade": true,
          "grade_id": "cell-766a6cb9c68f85f8",
          "locked": true,
          "points": 3,
          "schema_version": 3,
          "solution": false,
          "task": false
        },
        "id": "63eb0071-d821-4928-86e6-0d4bec0a9e65"
      },
      "outputs": [],
      "source": [
        "# Some hidden tests for 5."
      ]
    },
    {
      "cell_type": "code",
      "execution_count": null,
      "id": "0de65d7f-e888-4938-b262-355b1034f9de",
      "metadata": {
        "deletable": false,
        "editable": false,
        "nbgrader": {
          "cell_type": "code",
          "checksum": "8a4161705fa3fab6d7c355f1db90d7ed",
          "grade": true,
          "grade_id": "cell-57fa709040b9aeb9",
          "locked": true,
          "points": 3,
          "schema_version": 3,
          "solution": false,
          "task": false
        },
        "id": "0de65d7f-e888-4938-b262-355b1034f9de"
      },
      "outputs": [],
      "source": [
        "# Some hidden tests for 6."
      ]
    },
    {
      "cell_type": "code",
      "execution_count": null,
      "id": "0e013441-a421-477d-9f8e-d5625c5b6e8d",
      "metadata": {
        "deletable": false,
        "editable": false,
        "nbgrader": {
          "cell_type": "code",
          "checksum": "7063e7b9ef901958e6967327eaf81bbf",
          "grade": true,
          "grade_id": "cell-0dd46fe006bf9fe8",
          "locked": true,
          "points": 3,
          "schema_version": 3,
          "solution": false,
          "task": false
        },
        "id": "0e013441-a421-477d-9f8e-d5625c5b6e8d"
      },
      "outputs": [],
      "source": [
        "# Some hidden tests for 7."
      ]
    },
    {
      "cell_type": "code",
      "execution_count": null,
      "id": "bae1ddb3-b9fb-449c-957a-ce8c53c73a32",
      "metadata": {
        "id": "bae1ddb3-b9fb-449c-957a-ce8c53c73a32"
      },
      "outputs": [],
      "source": []
    },
    {
      "cell_type": "markdown",
      "id": "caf81f13-2a9c-40b5-8a31-10e37e91de7d",
      "metadata": {
        "deletable": false,
        "editable": false,
        "nbgrader": {
          "cell_type": "markdown",
          "checksum": "37c5a4062f8ef135f79c54fd10828038",
          "grade": false,
          "grade_id": "cell-95f596499c389bfe",
          "locked": true,
          "schema_version": 3,
          "solution": false,
          "task": false
        },
        "id": "caf81f13-2a9c-40b5-8a31-10e37e91de7d"
      },
      "source": [
        "# Aufgabe 3.37\n",
        "\n",
        "**7*3 = 21 Punkte**\n",
        "\n",
        "Ein **Graph** ist eine mathematische Struktur, die aus **Knoten** und **Kanten** besteht. Eine Kante kann **gerichtet oder ungerichtet** sein:  \n",
        "- **Ungerichtete Graphen**: Die Kanten haben keine Richtung, d.h. eine Verbindung zwischen zwei Knoten gilt in beide Richtungen.  \n",
        "- **Gerichtete Graphen**: Die Kanten haben eine Richtung, d.h. eine Verbindung von `A → B` bedeutet nicht automatisch, dass es auch `B → A` gibt.  \n",
        "\n",
        "In dieser Übung implementieren Sie einen **gerichteten Graphen** als Adjazenzliste.  \n",
        "Ein Graph kann als **Adjazenzliste** dargestellt werden - jeder Knoten hat eine Liste von Nachbarknoten (also der Knoten, mit denen er direkt verbunden ist).  \n",
        "\n",
        "Erstellen Sie eine Klasse `Graph`, die eine Adjazenzliste als `dict` speichert:  \n",
        "- Die Knoten sind ausschliesslich ganze Zahlen (Integer).  \n",
        "- Eine Kante von `k` nach `j` bedeutet, dass `j` in der Liste der Nachbarn von `k` enthalten ist.  \n",
        "\n",
        "\n",
        "| Methode | Beschreibung |\n",
        "|---------|-------------|\n",
        "| `addNode(k)` | Fügt einen neuen Knoten `k` hinzu (falls er nicht existiert). Sollte es den Knoten bereits geben, so soll einfach nichts passieren. |\n",
        "| `addEdge(k, j)` | Erstellt eine Kante von `k` nach `j`, falls beide Knoten existieren und die Kante noch nicht vorhanden ist. Sollte einer der Knoten `k` oder `j` nicht existieren oder die Kante bereits existieren, so soll einfach nichts passieren. |\n",
        "| `isEdge(k, j)` | Prüft, ob eine Kante von `k` nach `j` existiert (gibt `True` oder `False` zurück). |\n",
        "| `V()` | Gibt eine Liste aller Knoten zurück. |\n",
        "| `E()` | Gibt eine Liste aller Kanten als `(start, ziel)`-Tupel zurück. |\n",
        "| `allSingles()` | Gibt eine Liste der Knoten zurück, die keine Nachbarn haben. |\n",
        "| `maxEdges()` |   Gibt die maximale Anzahl an ausgehenden Kanten eines Knotens im Graphen zurück.   |\n",
        "| `neighbors(v)` | Gibt eine Liste aller direkten Nachbarn von `v` zurück. |\n",
        "\n",
        "\n",
        "```python\n",
        ">>> g = Graph()\n",
        ">>> for i in range(1,6): g.addNode(i)\n",
        ">>> for i,j in [(1,2),(2,2), (1,3),\n",
        "                (2,3), (3,4), (1,4),\n",
        "                (4,5), (5,1)]:\n",
        "       g.addEdge(i,j)\n",
        ">>> g.isEdge(2,2)\n",
        "True\n",
        ">>> g.isEdge(3,3)\n",
        "False\n",
        ">>> g.V()\n",
        "[1, 2, 3, 4, 5]\n",
        ">>> g.E()\n",
        "[(1, 2), (1, 3), (1, 4), (2, 2), (2, 3), (3, 4), (4, 5), (5, 1)]\n",
        ">>> g.allSingles()\n",
        "[]\n",
        ">>> g.maxEdges()\n",
        "3\n",
        ">>> g.neighbors(1)\n",
        "[2, 3, 4]\n",
        "\n",
        "\n",
        "\n",
        "```"
      ]
    },
    {
      "cell_type": "code",
      "execution_count": null,
      "metadata": {
        "deletable": false,
        "nbgrader": {
          "cell_type": "code",
          "checksum": "844e2c5147feafa0cf20c07618384696",
          "grade": false,
          "grade_id": "cell-f63de364e6e4c723",
          "locked": false,
          "schema_version": 3,
          "solution": true,
          "task": false
        },
        "id": "kxQVVXRee7md"
      },
      "outputs": [],
      "source": [
        "class Graph:\n",
        "    # YOUR CODE HERE\n",
        "    raise NotImplementedError()"
      ],
      "id": "kxQVVXRee7md"
    },
    {
      "cell_type": "code",
      "execution_count": null,
      "metadata": {
        "deletable": false,
        "editable": false,
        "nbgrader": {
          "cell_type": "code",
          "checksum": "83e348aff286fd87f8a098669f712cb5",
          "grade": true,
          "grade_id": "cell-1c93ff2440b40eec",
          "locked": true,
          "points": 3,
          "schema_version": 3,
          "solution": false,
          "task": false
        },
        "id": "jXLuNheme7md"
      },
      "outputs": [],
      "source": [
        "# Some hidden tests for 1."
      ],
      "id": "jXLuNheme7md"
    },
    {
      "cell_type": "code",
      "execution_count": null,
      "id": "acf83bff-e714-4844-b4b8-d8941062da26",
      "metadata": {
        "deletable": false,
        "editable": false,
        "nbgrader": {
          "cell_type": "code",
          "checksum": "d9c7d931d7bbf1317c51ddcaacec6ea9",
          "grade": true,
          "grade_id": "cell-e7746dcb7c45ae85",
          "locked": true,
          "points": 3,
          "schema_version": 3,
          "solution": false,
          "task": false
        },
        "id": "acf83bff-e714-4844-b4b8-d8941062da26"
      },
      "outputs": [],
      "source": [
        "# Some hidden tests for 2."
      ]
    },
    {
      "cell_type": "code",
      "execution_count": null,
      "id": "fea56156-bba7-48ec-ac20-438abd4755cd",
      "metadata": {
        "deletable": false,
        "editable": false,
        "nbgrader": {
          "cell_type": "code",
          "checksum": "4262c725674154190eaa800c9450d0b9",
          "grade": true,
          "grade_id": "cell-9128f1f25d020095",
          "locked": true,
          "points": 3,
          "schema_version": 3,
          "solution": false,
          "task": false
        },
        "id": "fea56156-bba7-48ec-ac20-438abd4755cd"
      },
      "outputs": [],
      "source": [
        "# Some hidden tests for 3."
      ]
    },
    {
      "cell_type": "code",
      "execution_count": null,
      "id": "26256253-c75c-42c0-a565-da1f85d72921",
      "metadata": {
        "deletable": false,
        "editable": false,
        "nbgrader": {
          "cell_type": "code",
          "checksum": "275aab873c6394bcbeb710784e898813",
          "grade": true,
          "grade_id": "cell-1a28a8474c9657d3",
          "locked": true,
          "points": 3,
          "schema_version": 3,
          "solution": false,
          "task": false
        },
        "id": "26256253-c75c-42c0-a565-da1f85d72921"
      },
      "outputs": [],
      "source": [
        "# Some hidden tests for 4."
      ]
    },
    {
      "cell_type": "code",
      "execution_count": null,
      "metadata": {
        "deletable": false,
        "editable": false,
        "nbgrader": {
          "cell_type": "code",
          "checksum": "b4ad2ea7fd399e6c46489ee79e85ef50",
          "grade": true,
          "grade_id": "cell-84d13c60431baa8d",
          "locked": true,
          "points": 3,
          "schema_version": 3,
          "solution": false,
          "task": false
        },
        "id": "AyCjc1QDe7me"
      },
      "outputs": [],
      "source": [
        "# Some hidden tests for 5."
      ],
      "id": "AyCjc1QDe7me"
    },
    {
      "cell_type": "code",
      "execution_count": null,
      "id": "ac506248-3ada-4bd8-886f-372358c86a6a",
      "metadata": {
        "deletable": false,
        "editable": false,
        "nbgrader": {
          "cell_type": "code",
          "checksum": "3a9d5a6a9d71d91aec9bf0ccd97e45e4",
          "grade": true,
          "grade_id": "cell-34bc40d83d155724",
          "locked": true,
          "points": 3,
          "schema_version": 3,
          "solution": false,
          "task": false
        },
        "id": "ac506248-3ada-4bd8-886f-372358c86a6a"
      },
      "outputs": [],
      "source": [
        "# Some hidden tests for 6."
      ]
    },
    {
      "cell_type": "code",
      "execution_count": null,
      "id": "8d205aa6-3b87-4972-9e00-a878ff21fc81",
      "metadata": {
        "deletable": false,
        "editable": false,
        "nbgrader": {
          "cell_type": "code",
          "checksum": "f20eb22346f39bf5f07f85312d508b59",
          "grade": true,
          "grade_id": "cell-cc7d34cea0c5ed44",
          "locked": true,
          "points": 3,
          "schema_version": 3,
          "solution": false,
          "task": false
        },
        "id": "8d205aa6-3b87-4972-9e00-a878ff21fc81"
      },
      "outputs": [],
      "source": [
        "# Some hidden tests for 7."
      ]
    },
    {
      "cell_type": "code",
      "execution_count": null,
      "id": "4e8a4376-d542-47e3-a572-5e257f95d66c",
      "metadata": {
        "deletable": false,
        "editable": false,
        "nbgrader": {
          "cell_type": "code",
          "checksum": "ddf407d42f969de6d664c9a54b2c4ed5",
          "grade": true,
          "grade_id": "cell-a95f510b15d51a5e",
          "locked": true,
          "points": 3,
          "schema_version": 3,
          "solution": false,
          "task": false
        },
        "id": "4e8a4376-d542-47e3-a572-5e257f95d66c"
      },
      "outputs": [],
      "source": [
        "# Some hidden tests for 8."
      ]
    },
    {
      "cell_type": "code",
      "execution_count": null,
      "id": "50a26b79-2c3b-4c04-ac4c-b720968d4e94",
      "metadata": {
        "deletable": false,
        "editable": false,
        "nbgrader": {
          "cell_type": "code",
          "checksum": "b36ae5cdc40645dd456fad25b3aca250",
          "grade": true,
          "grade_id": "cell-99fa2cda81ccca6d",
          "locked": true,
          "points": 3,
          "schema_version": 3,
          "solution": false,
          "task": false
        },
        "id": "50a26b79-2c3b-4c04-ac4c-b720968d4e94"
      },
      "outputs": [],
      "source": [
        "# Some hidden tests for 9."
      ]
    },
    {
      "cell_type": "markdown",
      "id": "64253105-0765-4db1-ba84-ed82dbf85886",
      "metadata": {
        "deletable": false,
        "editable": false,
        "nbgrader": {
          "cell_type": "markdown",
          "checksum": "216190339d7baa368b78e06c63bbe3da",
          "grade": false,
          "grade_id": "cell-7b91ba7d9afa7033",
          "locked": true,
          "schema_version": 3,
          "solution": false,
          "task": false
        },
        "id": "64253105-0765-4db1-ba84-ed82dbf85886"
      },
      "source": [
        "# Aufgabe 3.38\n",
        "\n",
        "**4*4 = 16 Punkte**\n",
        "\n",
        "Verwenden sie für die nachfolgenden Aufgaben aus der Bibliothek `random` ausschließlich die Funktion `randint` und/oder `sample`.\n",
        "1. Schreiben Sie eine Funktion `randomMap`, die eine zufällige Permutation der Elemente einer Sequenz vornimmt und diese Permutation in\n",
        "Form eines `dict`-Objekts zurückliefert.\n",
        "\n",
        "Hinweise:\n",
        "- Jedes Element der Eingabesequenz soll genau einmal als Schlüssel und genau einmal als Wert vorkommen.  \n",
        "- Die Zuordnung der Elemente soll zufällig erfolgen.  \n",
        "- Beispielanwendungen:\n",
        "```python\n",
        ">>> randomMap(\"ABCDEF\")\n",
        "        {\"A\":\"D\", \"B\":\"B\", \"C\":\"F\", \"D\":\"E\", \"E\":\"A\", \"F\":\"C\"}\n",
        ">>> randomMap([10,11,12,13])\n",
        "{10:10, 11:12, 12:11, 13:13}\n",
        "```\n",
        "2. Schreiben Sie nun eine Klasse `SubChiffre`, die einen Text mittels einer Buchstabensubstitution, die auf einer Zufallspermutation basiert, verschlüsselt. Erstellen Sie dazu in dieser Teilaufgabe zunächst die Deklaration der Klasse und den Konstruktor. Der Konstruktor\n",
        "soll hierbei eine Sequenz übergeben bekommen und eine Zufallspermutation (Attribut `substMap`; siehe Beispielanwendung unten)\n",
        "davon erzeugen, die für nachfolgende Verschlüsselungen und Entschlüsselungen verwendet wird.\n",
        "3. Schreiben Sie die Methode `encode`, die einen \"Text\" bzw. Symbolfolge durch die anfangs gewählte zufällige Buchstabensubstitution verschlüsselt.\n",
        "4. Schreiben Sie eine Methode `decode`, die einen Text durch die anfangs gewählte zufällige Buchstabensubstitution entschlüsselt\n",
        "\n",
        "\n",
        "Hinweise:\n",
        "- Bei der Verschlüsselungsmethode \"Buchstabensubstitution\" wird jeder Buchstabe auf genau einen anderen Buchstaben abgebildet. Welcher Buchstabe auf welchen anderen abgebildet wird, ist in einer Tabelle oder – in unserem Fall – in einem Dictionary-Objekt gespeichert. Im Fall unten wird etwa der Buchstabe `'h'` immer auf den Buchstaben `'f'` abgebildet und der Buchstabe `'l'` immer auf den Buchstaben `'o'`, usw.\n",
        "\n",
        "Beispielanwendung der zu programmierenden Klasse:\n",
        "```python\n",
        ">>> g = \"abcdefghijklmnopqrstuvwxyz !.\"\n",
        ">>> c = SubChiffre(g)\n",
        ">>> c.substMap\n",
        "{' ': 'v',\n",
        "'!': 'c',\n",
        "'.': 'l',\n",
        "'a': 'y',\n",
        "....\n",
        ">>> cipherText = c.encode(\"hallo welt. das ist eine nachricht!\")\n",
        ">>> chipherText\n",
        "'fyoorvpqoscvtykvhksvqheqveydfxhdfsl'\n",
        ">>> c.decode(cipherText)\n",
        "```"
      ]
    },
    {
      "cell_type": "code",
      "execution_count": null,
      "metadata": {
        "deletable": false,
        "nbgrader": {
          "cell_type": "code",
          "checksum": "a39179316f69134da520bbbf5a8c708e",
          "grade": false,
          "grade_id": "cell-f63de364e6e4c723",
          "locked": false,
          "schema_version": 3,
          "solution": true,
          "task": false
        },
        "id": "0tS3ALRKe7mf"
      },
      "outputs": [],
      "source": [
        "from random import randint, sample\n",
        "def randomMap(seq):\n",
        "    # YOUR CODE HERE\n",
        "    raise NotImplementedError()"
      ],
      "id": "0tS3ALRKe7mf"
    },
    {
      "cell_type": "code",
      "execution_count": null,
      "metadata": {
        "deletable": false,
        "editable": false,
        "nbgrader": {
          "cell_type": "code",
          "checksum": "80452d90668d29c4e7f2d43059b5e6c6",
          "grade": true,
          "grade_id": "cell-1c93ff2440b40eec",
          "locked": true,
          "points": 4,
          "schema_version": 3,
          "solution": false,
          "task": false
        },
        "id": "OiAX09hte7mf"
      },
      "outputs": [],
      "source": [
        "# Some hidden tests for 1."
      ],
      "id": "OiAX09hte7mf"
    },
    {
      "cell_type": "code",
      "execution_count": null,
      "id": "e48395cc-9c6c-4ee7-adcd-1bc8e4db47ad",
      "metadata": {
        "deletable": false,
        "nbgrader": {
          "cell_type": "code",
          "checksum": "f6307436645844e31119a63aaf9f9cc8",
          "grade": false,
          "grade_id": "cell-e6551db36791ca03",
          "locked": false,
          "schema_version": 3,
          "solution": true,
          "task": false
        },
        "id": "e48395cc-9c6c-4ee7-adcd-1bc8e4db47ad"
      },
      "outputs": [],
      "source": [
        "class SubChiffre:\n",
        "    # YOUR CODE HERE\n",
        "    raise NotImplementedError()"
      ]
    },
    {
      "cell_type": "code",
      "execution_count": null,
      "id": "0d4b6ac6-edb3-458c-9c23-a5078350e38d",
      "metadata": {
        "deletable": false,
        "editable": false,
        "nbgrader": {
          "cell_type": "code",
          "checksum": "a1effd5fa77e5b4b3e343b2e1e53f27e",
          "grade": true,
          "grade_id": "cell-482e930b88dc13ca",
          "locked": true,
          "points": 4,
          "schema_version": 3,
          "solution": false,
          "task": false
        },
        "id": "0d4b6ac6-edb3-458c-9c23-a5078350e38d"
      },
      "outputs": [],
      "source": [
        "# Some hidden tests for 2."
      ]
    },
    {
      "cell_type": "code",
      "execution_count": null,
      "id": "dbe6477e-90ae-4176-84ab-696273df2d1b",
      "metadata": {
        "deletable": false,
        "editable": false,
        "nbgrader": {
          "cell_type": "code",
          "checksum": "fb8a067a61f58f3a0cdff17b00361468",
          "grade": true,
          "grade_id": "cell-3997afbd42a28216",
          "locked": true,
          "points": 4,
          "schema_version": 3,
          "solution": false,
          "task": false
        },
        "id": "dbe6477e-90ae-4176-84ab-696273df2d1b"
      },
      "outputs": [],
      "source": [
        "# Some hidden tests for 3."
      ]
    },
    {
      "cell_type": "code",
      "execution_count": null,
      "id": "c0142ec5-70e4-427f-9ffa-161b0451f002",
      "metadata": {
        "deletable": false,
        "editable": false,
        "nbgrader": {
          "cell_type": "code",
          "checksum": "83c4b8f57ebe7953038a492067d2d7cd",
          "grade": true,
          "grade_id": "cell-26518db6fc36bc10",
          "locked": true,
          "points": 4,
          "schema_version": 3,
          "solution": false,
          "task": false
        },
        "id": "c0142ec5-70e4-427f-9ffa-161b0451f002"
      },
      "outputs": [],
      "source": [
        "# Some hidden tests for 4."
      ]
    },
    {
      "cell_type": "code",
      "execution_count": null,
      "metadata": {
        "deletable": false,
        "nbgrader": {
          "cell_type": "code",
          "checksum": "c4693ccbc4d00ddd02d31143ffd09425",
          "grade": false,
          "grade_id": "cell-dfe3f0c80000a3ab",
          "locked": false,
          "schema_version": 3,
          "solution": true,
          "task": false
        },
        "id": "xo3NNQpze7ml"
      },
      "outputs": [],
      "source": [
        "class Point:\n",
        "    def spiegeleX(self):\n",
        "        # YOUR CODE HERE\n",
        "        raise NotImplementedError()\n",
        "\n",
        "    def __init__(self, x, y):\n",
        "        self.x = x\n",
        "        self.y = y\n",
        "    def __repr__(self):\n",
        "        return \"(\"+str(self.x)+\"¦\"+str(self.y)+\")\"\n",
        "    def __eq__(self, p):\n",
        "        return self.x==p.x and self.y==p.y"
      ],
      "id": "xo3NNQpze7ml"
    },
    {
      "cell_type": "code",
      "execution_count": null,
      "metadata": {
        "deletable": false,
        "editable": false,
        "nbgrader": {
          "cell_type": "code",
          "checksum": "ea2434a01a908c3c3554bddf6c023118",
          "grade": true,
          "grade_id": "cell-fee5b1ac1e3aaa1e",
          "locked": true,
          "points": 3,
          "schema_version": 3,
          "solution": false,
          "task": false
        },
        "id": "CvxjwWsBe7ml"
      },
      "outputs": [],
      "source": [
        "p1 = Point(10,20)\n",
        "p1.spiegeleX()\n",
        "assert p1 == Point(10,-20)\n",
        "# Some hidden tests here"
      ],
      "id": "CvxjwWsBe7ml"
    }
  ],
  "metadata": {
    "kernelspec": {
      "display_name": "Python 3",
      "language": "python",
      "name": "python3"
    },
    "language_info": {
      "codemirror_mode": {
        "name": "ipython",
        "version": 3
      },
      "file_extension": ".py",
      "mimetype": "text/x-python",
      "name": "python",
      "nbconvert_exporter": "python",
      "pygments_lexer": "ipython3",
      "version": "3.12.2"
    },
    "colab": {
      "provenance": []
    }
  },
  "nbformat": 4,
  "nbformat_minor": 5
}